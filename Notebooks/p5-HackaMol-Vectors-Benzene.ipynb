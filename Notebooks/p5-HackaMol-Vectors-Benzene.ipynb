{
 "cells": [
  {
   "cell_type": "code",
   "execution_count": 1,
   "metadata": {
    "collapsed": true
   },
   "outputs": [],
   "source": [
    "use Modern::Perl;\n",
    "use HackaMol;\n",
    "use Math::Vector::Real;"
   ]
  },
  {
   "cell_type": "markdown",
   "metadata": {
    "collapsed": true
   },
   "source": [
    "# This notebook builds directly from the p5-Vectors-Benzene notebook.  Please work through that notebook first.\n",
    "\n",
    "### Ability to work with vectors while maintaining a connection to the atomic metadata is prerequisite to carrying out structural analysis of biological molecules.\n",
    "At a given temperature, pressure, and molar constitution $G(T,P,n_1,n_2 ... )$, a biological molecule (or collection of molecules) has a space of available conformations or configurations that may be large ($S=k\\ln W$).  If you were to carry out a molecular dynamics simulation (which we will come back to later), you would most likely prepare your system using a single structure provided by X-ray crystallography or NMR spectroscopy, solvate your system in water (maybe with salt ions), and then add some heat so that it wiggles about.  \n",
    "\n",
    "#### Mental exercise: \n",
    "Before going an further.  Take look at the PDB file for a mutant of T4 Lysozyme [PDBID: 1L54](http://www.rcsb.org/pdb/files/1L54.pdb). Find the lines of coordinates that also contain additional meta data (what is this \"metadata\").  Load PDB 1l54 into VMD and imagine it wiggling about.  Imagine it unfolding.\n",
    "\n",
    "### Lab exercise: Fun with benzene atoms and coordinates using vector analysis\n",
    "We will use [HackaMol](https://metacpan.org/pod/HackaMol) to mix the metadata back into the mix as we work with the atomic coordinates (vectors).  HackaMol defines a set of classes to make working with atoms and molecules more intuitive and fun.  All HackaMol atom objects contain coordinates which are just Math::Vector::Real objects. Thus, all the analysis you carried out in the preview can be done with HackaMol, only now all the meta data will be retained. \n",
    "\n",
    "\n",
    "You can represent the structure of a biomolecule as a collection of atoms, each with it set of cartesian coordinates "
   ]
  },
  {
   "cell_type": "markdown",
   "metadata": {},
   "source": [
    "### Some example code corresponding to the example above, which you can copy and paste into new cells."
   ]
  },
  {
   "cell_type": "code",
   "execution_count": 16,
   "metadata": {
    "collapsed": false
   },
   "outputs": [
    {
     "data": {
      "text/plain": [
       "displacement vector: {1.21479, 0.70136, 0}\n",
       "dot product: 1.9676205937\n",
       "distance: 1.40271900026342\n",
       "distance:1.40271900026342\n"
      ]
     },
     "execution_count": 16,
     "metadata": {},
     "output_type": "execute_result"
    },
    {
     "name": "stderr",
     "output_type": "stream",
     "text": [
      "1\n"
     ]
    }
   ],
   "source": [
    "# copy and paste two vectors V_0 and V_1 from above\n",
    "my $v0 = V( 0.00000, 1.40272, 0.00000);\n",
    "my $v1 = V(-1.21479, 0.70136, 0.00000);\n",
    "\n",
    "#find $v01 as above\n",
    "my $v01 = $v0 - $v1;\n",
    "say 'displacement vector: ', $v01;\n",
    "\n",
    "#find the dot product of $v01 with itself\n",
    "say 'dot product: ', $v01*$v01;\n",
    "\n",
    "#take the square root of the dot product to find the magnitude\n",
    "\n",
    "say 'distance: ', sqrt($v01*$v01);\n",
    "\n",
    "# or we can do it all in one move! \n",
    "say 'distance:', abs($v0-$v1);\n"
   ]
  },
  {
   "cell_type": "markdown",
   "metadata": {},
   "source": [
    "#### Exercise. attempt calculate the distance of displacement vectors to determine which atom is which."
   ]
  },
  {
   "cell_type": "code",
   "execution_count": null,
   "metadata": {
    "collapsed": true
   },
   "outputs": [],
   "source": []
  },
  {
   "cell_type": "markdown",
   "metadata": {},
   "source": [
    "#### Exercise. define a displacement vector that moves the molecule 10 angstroms in the Z direction.  Carry out this translation for each atom and then verify that it did nothing to the distances between the \"atoms\"."
   ]
  },
  {
   "cell_type": "code",
   "execution_count": null,
   "metadata": {
    "collapsed": true
   },
   "outputs": [],
   "source": []
  },
  {
   "cell_type": "markdown",
   "metadata": {},
   "source": [
    "####  Exercise.  Use scripting to calculate the distance between each pair of vectors! How many are there?  You can make an array of all the vectors, as I did below with repeats of the first two defined above.  You will need to use two loops (one nested within the other) to do this. I started this for you below with one loop)."
   ]
  },
  {
   "cell_type": "code",
   "execution_count": 13,
   "metadata": {
    "collapsed": false
   },
   "outputs": [
    {
     "data": {
      "text/plain": [
       "0\n",
       "1.40271900026342\n",
       "0\n",
       "1.40271900026342\n",
       "0\n",
       "1.40271900026342\n"
      ]
     },
     "execution_count": 13,
     "metadata": {},
     "output_type": "execute_result"
    }
   ],
   "source": [
    "my @vs = ($v0,$v1,$v0,$v1,$v0,$v1);\n",
    "foreach my $v (@vs){\n",
    "    say abs($v0 - $v);\n",
    "}"
   ]
  },
  {
   "cell_type": "markdown",
   "metadata": {},
   "source": [
    "#### Exercise. adjust your loops above to create a new array of distances.  Then use a grep to select for the distances that are less than 1.6 angstroms!  This is started for you below:"
   ]
  },
  {
   "cell_type": "code",
   "execution_count": 15,
   "metadata": {
    "collapsed": false
   },
   "outputs": [
    {
     "data": {
      "text/plain": [
       "0\n",
       "0\n",
       "0\n",
       "0\n",
       "0\n",
       "0\n"
      ]
     },
     "execution_count": 15,
     "metadata": {},
     "output_type": "execute_result"
    }
   ],
   "source": [
    "my @vs = ($v0,$v1,$v0,$v1,$v0,$v1);\n",
    "my @dists ;\n",
    "foreach my $v (@vs){\n",
    "    push @dists, abs($v0 - $v);\n",
    "}\n",
    "\n",
    "say foreach grep {$_ < 1.0} @dists;"
   ]
  },
  {
   "cell_type": "markdown",
   "metadata": {},
   "source": [
    "### Keep working on the exercises above until you are comfortable with vectors.  \n",
    "Next, we will use [HackaMol](https://metacpan.org/pod/HackaMol) to mix the metadata back into the mix as we work with the vectors.  HackaMol uses the Math::Vector::Real library to represent the coordinates of atoms.  Thus, all the analysis you carried out above can be done with HackaMol, only now all the meta data will be retained. \n",
    "\n",
    "#### First load the HackaMol library and a string containing the coordinates of the Benzene molecule:"
   ]
  },
  {
   "cell_type": "code",
   "execution_count": 18,
   "metadata": {
    "collapsed": false
   },
   "outputs": [
    {
     "name": "stderr",
     "output_type": "stream",
     "text": [
      "  C        0.00000        1.40272        0.00000\n",
      "  H        0.00000        2.49029        0.00000\n",
      "  C       -1.21479        0.70136        0.00000\n",
      "  H       -2.15666        1.24515        0.00000\n",
      "  C       -1.21479       -0.70136        0.00000\n",
      "  H       -2.15666       -1.24515        0.00000\n",
      "  C        0.00000       -1.40272        0.00000\n",
      "  H        0.00000       -2.49029        0.00000\n",
      "  C        1.21479       -0.70136        0.00000\n",
      "  H        2.15666       -1.24515        0.00000\n",
      "  C        1.21479        0.70136        0.00000\n",
      "  H        2.15666        1.24515        0.00000\n",
      "\n"
     ]
    }
   ],
   "source": [
    "use HackaMol;\n",
    "\n",
    "my $c6h6_xyz =\n",
    "'  C        0.00000        1.40272        0.00000\n",
    "  H        0.00000        2.49029        0.00000\n",
    "  C       -1.21479        0.70136        0.00000\n",
    "  H       -2.15666        1.24515        0.00000\n",
    "  C       -1.21479       -0.70136        0.00000\n",
    "  H       -2.15666       -1.24515        0.00000\n",
    "  C        0.00000       -1.40272        0.00000\n",
    "  H        0.00000       -2.49029        0.00000\n",
    "  C        1.21479       -0.70136        0.00000\n",
    "  H        2.15666       -1.24515        0.00000\n",
    "  C        1.21479        0.70136        0.00000\n",
    "  H        2.15666        1.24515        0.00000\n",
    "';  \n"
   ]
  },
  {
   "cell_type": "markdown",
   "metadata": {},
   "source": [
    "#### Not finished!\n",
    "#### Use vector cross product to create a line of mercury atoms along an axis perpendicular to the plane of the molecule and located at the COM."
   ]
  },
  {
   "cell_type": "code",
   "execution_count": 19,
   "metadata": {
    "collapsed": false
   },
   "outputs": [],
   "source": [
    "my $benzene = HackaMol->new->read_string_mol($c6h6_xyz, 'xyz');\n",
    "my $vec1 = $benzene->get_atoms(0)->xyz - $benzene->COM ;  # vector to COM\n",
    "my $vec2 = $benzene->get_atoms(2)->xyz - $benzene->COM ;  # vector to COM\n",
    "\n",
    "my $perp_vec = ($vec1 x $vec2) -> versor;\n",
    " \n",
    "$benzene->push_atoms( HackaMol::Atom->new(symbol => 'Hg', coords => [$_*0.5*$perp_vec ] ) ) foreach -10 .. 10;"
   ]
  },
  {
   "cell_type": "code",
   "execution_count": 20,
   "metadata": {
    "collapsed": false
   },
   "outputs": [
    {
     "data": {
      "text/plain": [
       "33\n",
       "\n",
       "  C   0.000000   1.402720   0.000000\n",
       "  H   0.000000   2.490290   0.000000\n",
       "  C  -1.214790   0.701360   0.000000\n",
       "  H  -2.156660   1.245150   0.000000\n",
       "  C  -1.214790  -0.701360   0.000000\n",
       "  H  -2.156660  -1.245150   0.000000\n",
       "  C   0.000000  -1.402720   0.000000\n",
       "  H   0.000000  -2.490290   0.000000\n",
       "  C   1.214790  -0.701360   0.000000\n",
       "  H   2.156660  -1.245150   0.000000\n",
       "  C   1.214790   0.701360   0.000000\n",
       "  H   2.156660   1.245150   0.000000\n",
       " Hg  -0.000000   0.000000  -5.000000\n",
       " Hg  -0.000000   0.000000  -4.500000\n",
       " Hg  -0.000000   0.000000  -4.000000\n",
       " Hg  -0.000000   0.000000  -3.500000\n",
       " Hg  -0.000000   0.000000  -3.000000\n",
       " Hg  -0.000000   0.000000  -2.500000\n",
       " Hg  -0.000000   0.000000  -2.000000\n",
       " Hg  -0.000000   0.000000  -1.500000\n",
       " Hg  -0.000000   0.000000  -1.000000\n",
       " Hg  -0.000000   0.000000  -0.500000\n",
       " Hg   0.000000  -0.000000   0.000000\n",
       " Hg   0.000000  -0.000000   0.500000\n",
       " Hg   0.000000  -0.000000   1.000000\n",
       " Hg   0.000000  -0.000000   1.500000\n",
       " Hg   0.000000  -0.000000   2.000000\n",
       " Hg   0.000000  -0.000000   2.500000\n",
       " Hg   0.000000  -0.000000   3.000000\n",
       " Hg   0.000000  -0.000000   3.500000\n",
       " Hg   0.000000  -0.000000   4.000000\n",
       " Hg   0.000000  -0.000000   4.500000\n",
       " Hg   0.000000  -0.000000   5.000000\n"
      ]
     },
     "execution_count": 20,
     "metadata": {},
     "output_type": "execute_result"
    },
    {
     "name": "stderr",
     "output_type": "stream",
     "text": [
      "1\n"
     ]
    }
   ],
   "source": [
    "$benzene->print_xyz; 1;"
   ]
  },
  {
   "cell_type": "code",
   "execution_count": null,
   "metadata": {
    "collapsed": true
   },
   "outputs": [],
   "source": []
  }
 ],
 "metadata": {
  "kernelspec": {
   "display_name": "IPerl 0.006",
   "language": "perl",
   "name": "iperl"
  },
  "language_info": {
   "file_extension": ".pl",
   "mimetype": "text/x-perl",
   "name": "perl",
   "version": "5.20.2"
  }
 },
 "nbformat": 4,
 "nbformat_minor": 0
}
