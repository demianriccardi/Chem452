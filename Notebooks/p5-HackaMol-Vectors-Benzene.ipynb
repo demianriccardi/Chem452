{
 "cells": [
  {
   "cell_type": "code",
   "execution_count": 2,
   "metadata": {
    "collapsed": false
   },
   "outputs": [
    {
     "name": "stderr",
     "output_type": "stream",
     "text": [
      "  C        0.00000        1.40272        0.00000\n",
      "  H        0.00000        2.49029        0.00000\n",
      "  C       -1.21479        0.70136        0.00000\n",
      "  H       -2.15666        1.24515        0.00000\n",
      "  C       -1.21479       -0.70136        0.00000\n",
      "  H       -2.15666       -1.24515        0.00000\n",
      "  C        0.00000       -1.40272        0.00000\n",
      "  H        0.00000       -2.49029        0.00000\n",
      "  C        1.21479       -0.70136        0.00000\n",
      "  H        2.15666       -1.24515        0.00000\n",
      "  C        1.21479        0.70136        0.00000\n",
      "  H        2.15666        1.24515        0.00000\n",
      "\n"
     ]
    }
   ],
   "source": [
    "use Modern::Perl;\n",
    "use HackaMol;\n",
    "use Math::Vector::Real;\n",
    "\n",
    "my $sym_xyz =\n",
    "'  C        0.00000        1.40272        0.00000\n",
    "  H        0.00000        2.49029        0.00000\n",
    "  C       -1.21479        0.70136        0.00000\n",
    "  H       -2.15666        1.24515        0.00000\n",
    "  C       -1.21479       -0.70136        0.00000\n",
    "  H       -2.15666       -1.24515        0.00000\n",
    "  C        0.00000       -1.40272        0.00000\n",
    "  H        0.00000       -2.49029        0.00000\n",
    "  C        1.21479       -0.70136        0.00000\n",
    "  H        2.15666       -1.24515        0.00000\n",
    "  C        1.21479        0.70136        0.00000\n",
    "  H        2.15666        1.24515        0.00000\n",
    "';  \n"
   ]
  },
  {
   "cell_type": "code",
   "execution_count": 4,
   "metadata": {
    "collapsed": false
   },
   "outputs": [
    {
     "data": {
      "text/plain": [
       "12\n",
       "\n",
       "  C   0.000000   1.402720   0.000000\n",
       "  H   0.000000   2.490290   0.000000\n",
       "  C  -1.214790   0.701360   0.000000\n",
       "  H  -2.156660   1.245150   0.000000\n",
       "  C  -1.214790  -0.701360   0.000000\n",
       "  H  -2.156660  -1.245150   0.000000\n",
       "  C   0.000000  -1.402720   0.000000\n",
       "  H   0.000000  -2.490290   0.000000\n",
       "  C   1.214790  -0.701360   0.000000\n",
       "  H   2.156660  -1.245150   0.000000\n",
       "  C   1.214790   0.701360   0.000000\n",
       "  H   2.156660   1.245150   0.000000\n"
      ]
     },
     "execution_count": 4,
     "metadata": {},
     "output_type": "execute_result"
    },
    {
     "name": "stderr",
     "output_type": "stream",
     "text": [
      "1\n"
     ]
    }
   ],
   "source": [
    "open my $xyz_fh,  \"<\", \\$sym_xyz;\n",
    "\n",
    "my $benzene = HackaMol::Molecule->new(atoms=> [HackaMol->new->read_xyz_atoms($xyz_fh)]);\n",
    "\n",
    "#my $benzene = HackaMol::Molecule-> new (name => 'benzene');\n",
    "#foreach my $line (split ('\\n', $sym_xyz)){\n",
    "#    my @sym_xyz = split(' ', $line);\n",
    "#    $benzene->push_atoms( \n",
    "#        HackaMol::Atom->new(\n",
    "#            symbol => $sym_xyz[0],\n",
    "#            coords => [V(@sym_xyz[1,2,3])],\n",
    "#        ),\n",
    "#    )\n",
    "#}\n",
    "\n",
    "$benzene->print_xyz; 1;"
   ]
  },
  {
   "cell_type": "markdown",
   "metadata": {},
   "source": [
    "#### Use vector cross product to create a line of mercury atoms along an axis perpendicular to the plane of the molecule and located at the COM."
   ]
  },
  {
   "cell_type": "code",
   "execution_count": 29,
   "metadata": {
    "collapsed": false
   },
   "outputs": [],
   "source": [
    "my $vec1 = $benzene->get_atoms(0)->xyz - $benzene->COM ;  # vector to COM\n",
    "my $vec2 = $benzene->get_atoms(2)->xyz - $benzene->COM ;  # vector to COM\n",
    "\n",
    "my $perp_vec = ($vec1 x $vec2) -> versor;\n",
    " \n",
    "$benzene->push_atoms( HackaMol::Atom->new(symbol => 'Hg', coords => [$_*0.5*$perp_vec ] ) ) foreach -10 .. 10;"
   ]
  },
  {
   "cell_type": "code",
   "execution_count": 30,
   "metadata": {
    "collapsed": false
   },
   "outputs": [
    {
     "data": {
      "text/plain": [
       "33\n",
       "\n",
       "  C   0.000000   1.402720   0.000000\n",
       "  H   0.000000   2.490290   0.000000\n",
       "  C  -1.214790   0.701360   0.000000\n",
       "  H  -2.156660   1.245150   0.000000\n",
       "  C  -1.214790  -0.701360   0.000000\n",
       "  H  -2.156660  -1.245150   0.000000\n",
       "  C   0.000000  -1.402720   0.000000\n",
       "  H   0.000000  -2.490290   0.000000\n",
       "  C   1.214790  -0.701360   0.000000\n",
       "  H   2.156660  -1.245150   0.000000\n",
       "  C   1.214790   0.701360   0.000000\n",
       "  H   2.156660   1.245150   0.000000\n",
       " Hg  -0.000000   0.000000  -5.000000\n",
       " Hg  -0.000000   0.000000  -4.500000\n",
       " Hg  -0.000000   0.000000  -4.000000\n",
       " Hg  -0.000000   0.000000  -3.500000\n",
       " Hg  -0.000000   0.000000  -3.000000\n",
       " Hg  -0.000000   0.000000  -2.500000\n",
       " Hg  -0.000000   0.000000  -2.000000\n",
       " Hg  -0.000000   0.000000  -1.500000\n",
       " Hg  -0.000000   0.000000  -1.000000\n",
       " Hg  -0.000000   0.000000  -0.500000\n",
       " Hg   0.000000  -0.000000   0.000000\n",
       " Hg   0.000000  -0.000000   0.500000\n",
       " Hg   0.000000  -0.000000   1.000000\n",
       " Hg   0.000000  -0.000000   1.500000\n",
       " Hg   0.000000  -0.000000   2.000000\n",
       " Hg   0.000000  -0.000000   2.500000\n",
       " Hg   0.000000  -0.000000   3.000000\n",
       " Hg   0.000000  -0.000000   3.500000\n",
       " Hg   0.000000  -0.000000   4.000000\n",
       " Hg   0.000000  -0.000000   4.500000\n",
       " Hg   0.000000  -0.000000   5.000000\n"
      ]
     },
     "execution_count": 30,
     "metadata": {},
     "output_type": "execute_result"
    },
    {
     "name": "stderr",
     "output_type": "stream",
     "text": [
      "1\n"
     ]
    }
   ],
   "source": [
    "$benzene->print_xyz; 1;"
   ]
  },
  {
   "cell_type": "code",
   "execution_count": null,
   "metadata": {
    "collapsed": true
   },
   "outputs": [],
   "source": []
  }
 ],
 "metadata": {
  "kernelspec": {
   "display_name": "IPerl 0.006",
   "language": "perl",
   "name": "iperl"
  },
  "language_info": {
   "file_extension": ".pl",
   "mimetype": "text/x-perl",
   "name": "perl",
   "version": "5.22.1"
  }
 },
 "nbformat": 4,
 "nbformat_minor": 0
}
