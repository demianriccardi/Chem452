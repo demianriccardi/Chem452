{
 "cells": [
  {
   "cell_type": "markdown",
   "metadata": {},
   "source": [
    "# Photosystem II\n",
    "This week's lab will use HackaMol to play around with a very large protein complex.  The photosystem II, which is important to photosynthesis.  It will serve as a nice playground for using metadata to analyze the structure."
   ]
  },
  {
   "cell_type": "code",
   "execution_count": 1,
   "metadata": {
    "collapsed": false
   },
   "outputs": [
    {
     "name": "stderr",
     "output_type": "stream",
     "text": [
      "HackaMol::Molecule=HASH(0x7fbd24508620)\n"
     ]
    }
   ],
   "source": [
    "use Modern::Perl;\n",
    "use HackaMol;\n",
    "\n",
    "my $bldr = HackaMol->new;\n",
    "my $PSII = $bldr->pdbid_mol('2axt');  \n"
   ]
  },
  {
   "cell_type": "code",
   "execution_count": 3,
   "metadata": {
    "collapsed": false
   },
   "outputs": [
    {
     "data": {
      "text/plain": [
       "48254\n",
       "Fe6Mn8Ca4S150P2Mg70Ne6O8010N6950C33048\n",
       "630060.812713598\n"
      ]
     },
     "execution_count": 3,
     "metadata": {},
     "output_type": "execute_result"
    },
    {
     "name": "stderr",
     "output_type": "stream",
     "text": [
      "1\n"
     ]
    }
   ],
   "source": [
    "say $PSII->count_atoms;\n",
    "say $PSII->bin_atoms_name;\n",
    "say $PSII->total_mass;"
   ]
  },
  {
   "cell_type": "code",
   "execution_count": 4,
   "metadata": {
    "collapsed": false
   },
   "outputs": [
    {
     "name": "stderr",
     "output_type": "stream",
     "text": [
      "HackaMol::Atom=HASH(0x7fbd24f3ed98)HackaMol::Atom=HASH(0x7fbd24f40e60)HackaMol::Atom=HASH(0x7fbd252eb7b0)HackaMol::Atom=HASH(0x7fbd252fbd98)HackaMol::Atom=HASH(0x7fbd2607adc8)HackaMol::Atom=HASH(0x7fbd2608b9b0)\n"
     ]
    }
   ],
   "source": [
    "my @fes = grep{$_->symbol eq 'Fe'} $PSII->all_atoms;"
   ]
  },
  {
   "cell_type": "code",
   "execution_count": null,
   "metadata": {
    "collapsed": true
   },
   "outputs": [],
   "source": []
  }
 ],
 "metadata": {
  "kernelspec": {
   "display_name": "IPerl 0.006",
   "language": "perl",
   "name": "iperl"
  },
  "language_info": {
   "file_extension": ".pl",
   "mimetype": "text/x-perl",
   "name": "perl",
   "version": "5.20.2"
  }
 },
 "nbformat": 4,
 "nbformat_minor": 0
}
