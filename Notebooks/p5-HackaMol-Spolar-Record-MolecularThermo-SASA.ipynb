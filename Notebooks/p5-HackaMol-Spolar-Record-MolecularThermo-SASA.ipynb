{
 "cells": [
  {
   "cell_type": "markdown",
   "metadata": {},
   "source": [
    "## IPerl Notebook investigation of biomolecular interfaces \n",
    "This notebook seeks to provide the computational analysis in support of reading the classic 1994 Science paper by Spolar and Record: \"Coupling of local folding to site-specific binding of proteins to DNA\".\n",
    "\n",
    "We will HackaMol and the HackaMol::X::SASA interface to the [freesasa program](http://freesasa.github.io).\n",
    "\n",
    "\n"
   ]
  },
  {
   "cell_type": "code",
   "execution_count": 1,
   "metadata": {
    "collapsed": false
   },
   "outputs": [
    {
     "name": "stderr",
     "output_type": "stream",
     "text": [
      "1\n"
     ]
    }
   ],
   "source": [
    "use Modern::Perl;\n",
    "use HackaMol;\n",
    "use HackaMol::X::SASA;\n",
    "use HackaMol::Roles::SelectionRole;\n",
    "use Moose::Util qw( ensure_all_roles ); #  to apply the role to the molecule object\n",
    "\n",
    "my $freesasa_exe = '/cluster/home/riccade/bin/freesasa';  # if this is set incorrectly, dead kernel\n",
    "\n",
    "my $bldr = HackaMol->new; 1;"
   ]
  },
  {
   "cell_type": "markdown",
   "metadata": {
    "collapsed": true
   },
   "source": [
    "In order to reproduce as many of the calculations as possible (we are not attempting to match all the atomic radii nor configurations exactly), we need to be able to calculate the solvent accessible surface area, SASA, (nonpolar, polar, total) for interfaces associated with protein folding, protein-protein, and protein-DNA complexation.  \n",
    "\n",
    "The easiest calculations to start with are protein-protein complexes using \"rigid-body\" association.\n",
    "\n",
    "In Table 2.\n",
    "\n",
    "1. Subtilisin + inhibitor -> complex        (PDBID: 2SIC)\n",
    "\n",
    "Subtilisin is a nonspecific protease, i.e. an enzyme that digests protein. PDBID 2SIC has two chains (I for the inhibitor and E for the enzyme).  \n",
    "\n",
    "### Notice\n",
    "SASA programs generally must make some choices when calculating the surfaces of PDB protein structures. A typical PDB will contain X-tal modeled solvent water (ironically, typically not wanted for the SASA calculation) and residues with multiple configurations.  In this notebook, we will load a pdb in a two step process:\n",
    "1. load the pdb into HackaMol from the PDB\n",
    "2. calculate the sasa on this pdb and use the output molecule for all analysis.\n",
    "\n",
    "Step 1. load pdb 2sic"
   ]
  },
  {
   "cell_type": "code",
   "execution_count": 2,
   "metadata": {
    "collapsed": false
   },
   "outputs": [
    {
     "name": "stderr",
     "output_type": "stream",
     "text": [
      "1\n"
     ]
    },
    {
     "ename": "Warning",
     "evalue": "2sic.pdb exists, set self->overwrite(1) to overwrite at /mounts/layout/software/perlbrew/perls/p5.22.1t/lib/site_perl/5.22.1/HackaMol.pm line 26.\n",
     "output_type": "error",
     "traceback": [
      "2sic.pdb exists, set self->overwrite(1) to overwrite at /mounts/layout/software/perlbrew/perls/p5.22.1t/lib/site_perl/5.22.1/HackaMol.pm line 26.\n"
     ]
    }
   ],
   "source": [
    "my $pdb_2sic = $bldr->pdbid_mol(\"2sic\"); 1;"
   ]
  },
  {
   "cell_type": "markdown",
   "metadata": {},
   "source": [
    "Step 2. run a sasa calculation and load the output molecule (that corresponds to the calculation)\n",
    "* set up a scratch directory for 2SIC for the calculations"
   ]
  },
  {
   "cell_type": "code",
   "execution_count": 3,
   "metadata": {
    "collapsed": false
   },
   "outputs": [
    {
     "name": "stderr",
     "output_type": "stream",
     "text": [
      "1\n"
     ]
    }
   ],
   "source": [
    "my $SASA_2sic    = HackaMol::X::SASA->new( scratch => \"2SIC\", exe=>$freesasa_exe); 1"
   ]
  },
  {
   "cell_type": "markdown",
   "metadata": {},
   "source": [
    "* run a calculation (with default freesasa parameters)!"
   ]
  },
  {
   "cell_type": "code",
   "execution_count": 4,
   "metadata": {
    "collapsed": false
   },
   "outputs": [
    {
     "name": "stderr",
     "output_type": "stream",
     "text": [
      "HackaMol::Molecule=HASH(0x731de80)\n"
     ]
    },
    {
     "ename": "Warning",
     "evalue": "overwrite mol_sasa.pdb at /mounts/layout/software/perlbrew/perls/p5.22.1t/lib/site_perl/5.22.1/HackaMol/X/SASA.pm line 300.\n",
     "output_type": "error",
     "traceback": [
      "overwrite mol_sasa.pdb at /mounts/layout/software/perlbrew/perls/p5.22.1t/lib/site_perl/5.22.1/HackaMol/X/SASA.pm line 300.\n"
     ]
    }
   ],
   "source": [
    "my $mol_2sic = $SASA_2sic->calc_mol($pdb_2sic);"
   ]
  },
  {
   "cell_type": "markdown",
   "metadata": {},
   "source": [
    "### let's see what we have stored in our SASA_2sic calc"
   ]
  },
  {
   "cell_type": "code",
   "execution_count": 5,
   "metadata": {
    "collapsed": false
   },
   "outputs": [
    {
     "data": {
      "text/plain": [
       "Nonpolar: 7909.76\n",
       "Polar:    6345.73\n",
       "Total:    14255.49\n"
      ]
     },
     "execution_count": 5,
     "metadata": {},
     "output_type": "execute_result"
    },
    {
     "name": "stderr",
     "output_type": "stream",
     "text": [
      "1\n"
     ]
    }
   ],
   "source": [
    "# print $SASA_2sic->dump; # long output with pdb info.  you can do this if you want\n",
    "say \"Nonpolar: \", $SASA_2sic->sasa_nonpolar;\n",
    "say \"Polar:    \", $SASA_2sic->sasa_polar;\n",
    "say \"Total:    \", $SASA_2sic->sasa_total;"
   ]
  },
  {
   "cell_type": "markdown",
   "metadata": {},
   "source": [
    "The results above are for the complex, next we need to calculate the I and E chains, isolated.\n",
    "We will use a group selection and then rerun the SASA calculation on each group. \n",
    "\n",
    "First, let's apply the SelectionRole to mol_2sic so it is able to do selections:"
   ]
  },
  {
   "cell_type": "code",
   "execution_count": 7,
   "metadata": {
    "collapsed": false
   },
   "outputs": [],
   "source": [
    "ensure_all_roles($mol_2sic, 'HackaMol::Roles::SelectionRole');"
   ]
  },
  {
   "cell_type": "code",
   "execution_count": 10,
   "metadata": {
    "collapsed": false
   },
   "outputs": [
    {
     "name": "stderr",
     "output_type": "stream",
     "text": [
      "3\n"
     ]
    }
   ],
   "source": [
    "$mol_2sic->clear_groups; #  just to be sure\n",
    "my $ie = $mol_2sic->select_group(\"chain I .or. chain E\");\n",
    "my $i = $mol_2sic->select_group(\"chain I\");\n",
    "my $e = $mol_2sic->select_group(\"chain E\");\n",
    "\n",
    "$mol_2sic->push_groups($ie,$i,$e);"
   ]
  },
  {
   "cell_type": "markdown",
   "metadata": {},
   "source": [
    "### run the calculation for each group!  "
   ]
  },
  {
   "cell_type": "code",
   "execution_count": 12,
   "metadata": {
    "collapsed": false
   },
   "outputs": [
    {
     "ename": "Warning",
     "evalue": "overwriting stdout at reply input line 1.\n\noverwrite mol_sasa.pdb at /mounts/layout/software/perlbrew/perls/p5.22.1t/lib/site_perl/5.22.1/HackaMol/X/SASA.pm line 300.\n\noverwriting stdout at reply input line 1.\n\noverwrite mol_sasa.pdb at /mounts/layout/software/perlbrew/perls/p5.22.1t/lib/site_perl/5.22.1/HackaMol/X/SASA.pm line 300.\n\noverwriting stdout at reply input line 1.\n\noverwrite mol_sasa.pdb at /mounts/layout/software/perlbrew/perls/p5.22.1t/lib/site_perl/5.22.1/HackaMol/X/SASA.pm line 300.\n",
     "output_type": "error",
     "traceback": [
      "overwriting stdout at reply input line 1.\n\noverwrite mol_sasa.pdb at /mounts/layout/software/perlbrew/perls/p5.22.1t/lib/site_perl/5.22.1/HackaMol/X/SASA.pm line 300.\n\noverwriting stdout at reply input line 1.\n\noverwrite mol_sasa.pdb at /mounts/layout/software/perlbrew/perls/p5.22.1t/lib/site_perl/5.22.1/HackaMol/X/SASA.pm line 300.\n\noverwriting stdout at reply input line 1.\n\noverwrite mol_sasa.pdb at /mounts/layout/software/perlbrew/perls/p5.22.1t/lib/site_perl/5.22.1/HackaMol/X/SASA.pm line 300.\n"
     ]
    }
   ],
   "source": [
    "$SASA_2sic->calc_bygroup($mol_2sic);"
   ]
  },
  {
   "cell_type": "code",
   "execution_count": 18,
   "metadata": {
    "collapsed": false
   },
   "outputs": [
    {
     "data": {
      "text/plain": [
       "nonpolar: 7909.76\n",
       "polar: 6345.73\n",
       "total: 14255.49\n",
       "nonpolar: 3583.16\n",
       "polar: 2365.72\n",
       "total: 5948.87\n",
       "nonpolar: 5300.57\n",
       "polar: 4631.63\n",
       "total: 9932.21\n"
      ]
     },
     "execution_count": 18,
     "metadata": {},
     "output_type": "execute_result"
    }
   ],
   "source": [
    "foreach my $igroup (0, 1, 2) {\n",
    "  my $sasa_hash = $SASA_2sic->get_group_sasa($igroup);\n",
    "  say \"nonpolar: \", $sasa_hash->{nonpolar};\n",
    "  say \"polar: \",    $sasa_hash->{polar};\n",
    "  say \"total: \",    $sasa_hash->{total};\n",
    "}"
   ]
  },
  {
   "cell_type": "markdown",
   "metadata": {},
   "source": [
    "### Calculations for Table 2.\n",
    "$-\\Delta A_{np}$, $-\\Delta A_{p}$, and $-\\Delta C_{p}$\n",
    "\n",
    "where $-\\Delta A_{np}$ and $-\\Delta A_{p}$ are calculated directly from the differences for nonpolar and polar, respectively.  The $-\\Delta C_{p}$ is calculated from Eq. 1 in the article,\n",
    "\n",
    "$\\Delta C_{p} = 0.32\\Delta A_{np} - 0.14\\Delta A_{p} $ (cal / mol K)\n",
    "\n",
    "we can now calculate the change in SASA for rigid body complexation."
   ]
  },
  {
   "cell_type": "code",
   "execution_count": 23,
   "metadata": {
    "collapsed": false
   },
   "outputs": [
    {
     "data": {
      "text/plain": [
       "calculate the SASA for complexation!\n",
       "nonpolar change:   -973.969999999999\n",
       "polar change:      -651.62\n",
       "heat capacity change:   -220.4436\n"
      ]
     },
     "execution_count": 23,
     "metadata": {},
     "output_type": "execute_result"
    },
    {
     "name": "stderr",
     "output_type": "stream",
     "text": [
      "1\n"
     ]
    }
   ],
   "source": [
    "say \"calculate the SASA for complexation!\";\n",
    "my $nonpolar_change_2sic = $SASA_2sic->get_group_sasa(0)->{nonpolar} \n",
    "                         - $SASA_2sic->get_group_sasa(1)->{nonpolar} \n",
    "                         - $SASA_2sic->get_group_sasa(2)->{nonpolar}; \n",
    "                         \n",
    "my $polar_change_2sic    = $SASA_2sic->get_group_sasa(0)->{polar} \n",
    "                         - $SASA_2sic->get_group_sasa(1)->{polar} \n",
    "                         - $SASA_2sic->get_group_sasa(2)->{polar}; \n",
    "                         \n",
    "say \"nonpolar change:   \", $nonpolar_change_2sic;\n",
    "\n",
    "say \"polar change:      \", $polar_change_2sic;\n",
    "                \n",
    "say \"heat capacity change:   \", 0.32*$nonpolar_change_2sic - 0.14*$polar_change_2sic;"
   ]
  },
  {
   "cell_type": "code",
   "execution_count": null,
   "metadata": {
    "collapsed": true
   },
   "outputs": [],
   "source": []
  }
 ],
 "metadata": {
  "kernelspec": {
   "display_name": "IPerl 0.006",
   "language": "perl",
   "name": "iperl"
  },
  "language_info": {
   "file_extension": ".pl",
   "mimetype": "text/x-perl",
   "name": "perl",
   "version": "5.22.1"
  }
 },
 "nbformat": 4,
 "nbformat_minor": 0
}
