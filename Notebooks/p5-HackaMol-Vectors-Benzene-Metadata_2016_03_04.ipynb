{
 "cells": [
  {
   "cell_type": "code",
   "execution_count": 1,
   "metadata": {
    "collapsed": true
   },
   "outputs": [],
   "source": [
    "use Modern::Perl;\n",
    "use HackaMol;\n",
    "use Math::Vector::Real;"
   ]
  },
  {
   "cell_type": "markdown",
   "metadata": {
    "collapsed": true
   },
   "source": [
    "# Benzene is more than 12 vectors: using HackaMol to work with atomic \"metadata\" and coordinates.\n",
    "\n",
    "<img src=\"fatstacks.jpg\">\n",
    "\n",
    "Suggested Prerequisites:\n",
    "\n",
    "1. This notebook builds directly from the [p5-Vectors-Benzene notebook](https://github.com/demianriccardi/EC-Chem452/blob/master/Notebooks/p5-Vectors-Benzene_2016_02_26.ipynb). \n",
    "\n",
    "2. This notebook uses the HackaMol library.  Please review the [Readme](https://github.com/demianriccardi/HackaMol) and the linked [HackaMol paper](https://www.researchgate.net/profile/Demian_Riccardi/publication/273778191_HackaMol_an_object-oriented_Modern_Perl_library_for_molecular_hacking_on_multiple_scales/links/550ebec60cf27526109e6ade.pdf) for additional information about the library.\n",
    "\n",
    "\n",
    "### Ability to work with vectors while maintaining a connection to the atomic metadata is prerequisite to carrying out structural analysis of biological molecules.\n",
    "At a given temperature, pressure, and molar constitution $G(T,P,n_1,n_2 ... )$, a biological molecule (or collection of molecules) has a space of available conformations or configurations that may be large ($S=k\\ln W$).  If you were to carry out a molecular dynamics simulation (which we will come back to later), you would most likely prepare your system using a single structure provided by X-ray crystallography or NMR spectroscopy, solvate your system in water (maybe with salt ions), and then add some heat so that it wiggles about.  \n",
    "\n",
    "When simulated in a computer, a condensed phase system is just a vector space that varies with time (molecular dynamics) or conformation (monte carlo) that is restrained (or even constrained) by the information of how the vectors are assumed to interact (e.g. this water hydrogen, with these coordinates, is bound to this water oxygen with these coordinates). While this may seem an obfuscated way to describe computational work with molecules, it is a valuable perspective.  The hierarchy of chemistry and biochemistry (atom, atoms, bonds, molecule, molecules, polymers, nonbonded interactions, etc.) provide the information that biases that which is possible in empirical computational work (i.e. classical mechanical molecular simulations). \n",
    "\n",
    "#### Lab exercise: Fun with benzene atoms and coordinates using vector analysis\n",
    "I wrote the HackaMol library to make my computational life easier, more fun, more sophisticated, and more reproducible.  HackaMol provides a molecular object system that packages atomic and molecular data into classes that have methods for interacting with the data.  In the previous exercise, we stripped benzene down to nothing but a a collection of 12 vectors.  Now we will add atomic information back to these vectors.  We'll call this information \"metadata\"; metadata is data that describes other data.  We can add such information to those 12 vectors to name atoms, add bonds, angles, and dihedrals all with names and information. We will do that here.   \n",
    "\n",
    "In this lab we will use benzene to interact with the hierarchy [HackaMol](https://metacpan.org/pod/HackaMol) classes: HackaMol::Atom (https://metacpan.org/pod/HackaMol::Atom), [HackaMol::AtomGroup](https://metacpan.org/pod/HackaMol::AtomGroup), [HackaMol::Bond](https://metacpan.org/pod/HackaMol::Bond), [HackaMol::Angle](https://metacpan.org/pod/HackaMol::Angle), [HackaMol::Dihedral](https://metacpan.org/pod/HackaMol::Dihedral), and [HackaMol::Molecule](https://metacpan.org/pod/HackaMol::Molecule). The HackaMol::Atom objects contain coordinates which are just Math::Vector::Real objects;  the other classes listed above contain groups of HackaMol::Atom objects plus other things.  \n",
    "\n",
    "#### Mental exercise: \n",
    "Before going an further.  Again, take a look at the PDB file for a mutant of T4 Lysozyme [PDBID: 1L54](http://www.rcsb.org/pdb/files/1L54.pdb). Find the lines of coordinates that also contain additional metadata. What are all the different types of metadata that you can see in this file?\n"
   ]
  },
  {
   "cell_type": "markdown",
   "metadata": {},
   "source": [
    "### Let's define a string (c6h6_xyz) that contains the xyz file description of a benzene molecule:"
   ]
  },
  {
   "cell_type": "code",
   "execution_count": 2,
   "metadata": {
    "collapsed": false,
    "scrolled": true
   },
   "outputs": [
    {
     "data": {
      "text/plain": [
       "  C        0.00000        1.40272        0.00000\n",
       "  C       -1.21479        0.70136        0.00000\n",
       "  C       -1.21479       -0.70136        0.00000\n",
       "  C        0.00000       -1.40272        0.00000\n",
       "  C        1.21479       -0.70136        0.00000\n",
       "  C        1.21479        0.70136        0.00000\n",
       "  H        0.00000        2.49029        0.00000\n",
       "  H       -2.15666        1.24515        0.00000\n",
       "  H       -2.15666       -1.24515        0.00000\n",
       "  H        0.00000       -2.49029        0.00000\n",
       "  H        2.15666       -1.24515        0.00000\n",
       "  H        2.15666        1.24515        0.00000\n"
      ]
     },
     "execution_count": 2,
     "metadata": {},
     "output_type": "execute_result"
    },
    {
     "name": "stderr",
     "output_type": "stream",
     "text": [
      "1\n"
     ]
    }
   ],
   "source": [
    "my $c6h6_xyz =\n",
    "'  C        0.00000        1.40272        0.00000\n",
    "  C       -1.21479        0.70136        0.00000\n",
    "  C       -1.21479       -0.70136        0.00000\n",
    "  C        0.00000       -1.40272        0.00000\n",
    "  C        1.21479       -0.70136        0.00000\n",
    "  C        1.21479        0.70136        0.00000\n",
    "  H        0.00000        2.49029        0.00000\n",
    "  H       -2.15666        1.24515        0.00000\n",
    "  H       -2.15666       -1.24515        0.00000\n",
    "  H        0.00000       -2.49029        0.00000\n",
    "  H        2.15666       -1.24515        0.00000\n",
    "  H        2.15666        1.24515        0.00000\n",
    "'; \n",
    "\n",
    "print $c6h6_xyz;"
   ]
  },
  {
   "cell_type": "markdown",
   "metadata": {},
   "source": [
    "The coordinates are the same as those of the last notebook, except now we're labeling them with element symbols."
   ]
  },
  {
   "cell_type": "markdown",
   "metadata": {},
   "source": [
    "### Load this xyz file string into two HackaMol::Molecule objects into the variables \\$bnz1 and \\$bnz2:"
   ]
  },
  {
   "cell_type": "code",
   "execution_count": 3,
   "metadata": {
    "collapsed": false
   },
   "outputs": [
    {
     "name": "stderr",
     "output_type": "stream",
     "text": [
      "Benzene\n"
     ]
    }
   ],
   "source": [
    "my $bnz1 = HackaMol->new->read_string_mol($c6h6_xyz, 'xyz');\n",
    "$bnz1->name(\"Benzene\");"
   ]
  },
  {
   "cell_type": "markdown",
   "metadata": {},
   "source": [
    "`HackaMol->new` provides a builder that has all sorts of methods, one being  `read_string_mol`.  We can store the builder in a variable to avoid creating it every time.  Let's make another two benzene molecules, but this time let's use a builder.  \n"
   ]
  },
  {
   "cell_type": "code",
   "execution_count": 4,
   "metadata": {
    "collapsed": false
   },
   "outputs": [
    {
     "data": {
      "text/plain": [
       "Benzene\n"
      ]
     },
     "execution_count": 4,
     "metadata": {},
     "output_type": "execute_result"
    },
    {
     "name": "stderr",
     "output_type": "stream",
     "text": [
      "1\n"
     ]
    }
   ],
   "source": [
    "my $bldr = HackaMol->new; # a builder object\n",
    "\n",
    "my $bnz2 = $bldr->read_string_mol($c6h6_xyz, 'xyz');\n",
    "my $bnz3 = $bldr->read_string_mol($c6h6_xyz, 'xyz');\n",
    "\n",
    "$_->name(\"Benzene\") foreach ($bnz2,$bnz3);  # name each of them benzene\n",
    "\n",
    "say $bnz2->name;"
   ]
  },
  {
   "cell_type": "markdown",
   "metadata": {},
   "source": [
    "\\$bnz1, \\$bnz2, and \\$bnz3 are all HackaMol::Molecule objects that have some data and methods for interacting with the data.  While both molecules have all the same values, they are independent of one another.  Currently we have two identical, unique copies of the data packaged in HackaMol::Molecule objects.   Let's dump \\$bnz1 out to take a look at it's guts:  "
   ]
  },
  {
   "cell_type": "code",
   "execution_count": 5,
   "metadata": {
    "collapsed": false
   },
   "outputs": [
    {
     "data": {
      "text/plain": [
       "$VAR1 = bless( {\n",
       "                 't' => 0,\n",
       "                 'atoms' => [\n",
       "                              bless( {\n",
       "                                       'symbol' => 'C',\n",
       "                                       'iatom' => 0,\n",
       "                                       'name' => 'at0',\n",
       "                                       'bond_count' => 0,\n",
       "                                       't' => 0,\n",
       "                                       'coords' => [\n",
       "                                                     bless( [\n",
       "                                                              '0',\n",
       "                                                              '1.40272',\n",
       "                                                              '0'\n",
       "                                                            ], 'Math::Vector::Real' )\n",
       "                                                   ]\n",
       "                                     }, 'HackaMol::Atom' ),\n",
       "                              bless( {\n",
       "                                       'bond_count' => 0,\n",
       "                                       'name' => 'at1',\n",
       "                                       'symbol' => 'C',\n",
       "                                       'iatom' => 1,\n",
       "                                       'coords' => [\n",
       "                                                     bless( [\n",
       "                                                              '-1.21479',\n",
       "                                                              '0.70136',\n",
       "                                                              '0'\n",
       "                                                            ], 'Math::Vector::Real' )\n",
       "                                                   ],\n",
       "                                       't' => 0\n",
       "                                     }, 'HackaMol::Atom' ),\n",
       "                              bless( {\n",
       "                                       't' => 0,\n",
       "                                       'coords' => [\n",
       "                                                     bless( [\n",
       "                                                              '-1.21479',\n",
       "                                                              '-0.70136',\n",
       "                                                              '0'\n",
       "                                                            ], 'Math::Vector::Real' )\n",
       "                                                   ],\n",
       "                                       'symbol' => 'C',\n",
       "                                       'iatom' => 2,\n",
       "                                       'name' => 'at2',\n",
       "                                       'bond_count' => 0\n",
       "                                     }, 'HackaMol::Atom' ),\n",
       "                              bless( {\n",
       "                                       'coords' => [\n",
       "                                                     bless( [\n",
       "                                                              '0',\n",
       "                                                              '-1.40272',\n",
       "                                                              '0'\n",
       "                                                            ], 'Math::Vector::Real' )\n",
       "                                                   ],\n",
       "                                       't' => 0,\n",
       "                                       'bond_count' => 0,\n",
       "                                       'name' => 'at3',\n",
       "                                       'symbol' => 'C',\n",
       "                                       'iatom' => 3\n",
       "                                     }, 'HackaMol::Atom' ),\n",
       "                              bless( {\n",
       "                                       'name' => 'at4',\n",
       "                                       'iatom' => 4,\n",
       "                                       'symbol' => 'C',\n",
       "                                       'bond_count' => 0,\n",
       "                                       'coords' => [\n",
       "                                                     bless( [\n",
       "                                                              '1.21479',\n",
       "                                                              '-0.70136',\n",
       "                                                              '0'\n",
       "                                                            ], 'Math::Vector::Real' )\n",
       "                                                   ],\n",
       "                                       't' => 0\n",
       "                                     }, 'HackaMol::Atom' ),\n",
       "                              bless( {\n",
       "                                       'bond_count' => 0,\n",
       "                                       'name' => 'at5',\n",
       "                                       'symbol' => 'C',\n",
       "                                       'iatom' => 5,\n",
       "                                       'coords' => [\n",
       "                                                     bless( [\n",
       "                                                              '1.21479',\n",
       "                                                              '0.70136',\n",
       "                                                              '0'\n",
       "                                                            ], 'Math::Vector::Real' )\n",
       "                                                   ],\n",
       "                                       't' => 0\n",
       "                                     }, 'HackaMol::Atom' ),\n",
       "                              bless( {\n",
       "                                       'name' => 'at6',\n",
       "                                       'iatom' => 6,\n",
       "                                       'symbol' => 'H',\n",
       "                                       'bond_count' => 0,\n",
       "                                       'coords' => [\n",
       "                                                     bless( [\n",
       "                                                              '0',\n",
       "                                                              '2.49029',\n",
       "                                                              '0'\n",
       "                                                            ], 'Math::Vector::Real' )\n",
       "                                                   ],\n",
       "                                       't' => 0\n",
       "                                     }, 'HackaMol::Atom' ),\n",
       "                              bless( {\n",
       "                                       'bond_count' => 0,\n",
       "                                       'iatom' => 7,\n",
       "                                       'symbol' => 'H',\n",
       "                                       'name' => 'at7',\n",
       "                                       't' => 0,\n",
       "                                       'coords' => [\n",
       "                                                     bless( [\n",
       "                                                              '-2.15666',\n",
       "                                                              '1.24515',\n",
       "                                                              '0'\n",
       "                                                            ], 'Math::Vector::Real' )\n",
       "                                                   ]\n",
       "                                     }, 'HackaMol::Atom' ),\n",
       "                              bless( {\n",
       "                                       't' => 0,\n",
       "                                       'coords' => [\n",
       "                                                     bless( [\n",
       "                                                              '-2.15666',\n",
       "                                                              '-1.24515',\n",
       "                                                              '0'\n",
       "                                                            ], 'Math::Vector::Real' )\n",
       "                                                   ],\n",
       "                                       'bond_count' => 0,\n",
       "                                       'iatom' => 8,\n",
       "                                       'symbol' => 'H',\n",
       "                                       'name' => 'at8'\n",
       "                                     }, 'HackaMol::Atom' ),\n",
       "                              bless( {\n",
       "                                       'bond_count' => 0,\n",
       "                                       'symbol' => 'H',\n",
       "                                       'iatom' => 9,\n",
       "                                       'name' => 'at9',\n",
       "                                       't' => 0,\n",
       "                                       'coords' => [\n",
       "                                                     bless( [\n",
       "                                                              '0',\n",
       "                                                              '-2.49029',\n",
       "                                                              '0'\n",
       "                                                            ], 'Math::Vector::Real' )\n",
       "                                                   ]\n",
       "                                     }, 'HackaMol::Atom' ),\n",
       "                              bless( {\n",
       "                                       'bond_count' => 0,\n",
       "                                       'name' => 'at10',\n",
       "                                       'symbol' => 'H',\n",
       "                                       'iatom' => 10,\n",
       "                                       'coords' => [\n",
       "                                                     bless( [\n",
       "                                                              '2.15666',\n",
       "                                                              '-1.24515',\n",
       "                                                              '0'\n",
       "                                                            ], 'Math::Vector::Real' )\n",
       "                                                   ],\n",
       "                                       't' => 0\n",
       "                                     }, 'HackaMol::Atom' ),\n",
       "                              bless( {\n",
       "                                       'name' => 'at11',\n",
       "                                       'iatom' => 11,\n",
       "                                       'symbol' => 'H',\n",
       "                                       'bond_count' => 0,\n",
       "                                       'coords' => [\n",
       "                                                     bless( [\n",
       "                                                              '2.15666',\n",
       "                                                              '1.24515',\n",
       "                                                              '0'\n",
       "                                                            ], 'Math::Vector::Real' )\n",
       "                                                   ],\n",
       "                                       't' => 0\n",
       "                                     }, 'HackaMol::Atom' )\n",
       "                            ],\n",
       "                 'bonds' => [],\n",
       "                 'name' => 'Benzene'\n",
       "               }, 'HackaMol::Molecule' );\n"
      ]
     },
     "execution_count": 5,
     "metadata": {},
     "output_type": "execute_result"
    },
    {
     "name": "stderr",
     "output_type": "stream",
     "text": [
      "1\n"
     ]
    }
   ],
   "source": [
    "print $bnz1->dump;"
   ]
  },
  {
   "cell_type": "markdown",
   "metadata": {},
   "source": [
    " Looking at the dumped information, you can see that the HackaMol::Molecue has a collection of atoms, each of which is a HackaMol::Atom object, and each atom has coordinates, which are just Math::Vector::Real objects.  There are some other attributes that you will learn about as you progress.  \n",
    " \n",
    " `$bnz1->dump` calls the `dump` method of \\$bnz1. Dump is available for all HackaMol classes. Let's use another method (`get_atoms`) to grab the first atom and then use the atom's dump method. "
   ]
  },
  {
   "cell_type": "code",
   "execution_count": 6,
   "metadata": {
    "collapsed": false
   },
   "outputs": [
    {
     "data": {
      "text/plain": [
       "$VAR1 = bless( {\n",
       "                 'symbol' => 'C',\n",
       "                 'iatom' => 0,\n",
       "                 'name' => 'at0',\n",
       "                 'bond_count' => 0,\n",
       "                 't' => 0,\n",
       "                 'coords' => [\n",
       "                               bless( [\n",
       "                                        '0',\n",
       "                                        '1.40272',\n",
       "                                        '0'\n",
       "                                      ], 'Math::Vector::Real' )\n",
       "                             ]\n",
       "               }, 'HackaMol::Atom' );\n"
      ]
     },
     "execution_count": 6,
     "metadata": {},
     "output_type": "execute_result"
    },
    {
     "name": "stderr",
     "output_type": "stream",
     "text": [
      "1\n"
     ]
    }
   ],
   "source": [
    "print $bnz1->get_atoms(0)->dump;"
   ]
  },
  {
   "cell_type": "markdown",
   "metadata": {},
   "source": [
    "You can adjust the index from 0 to 1, 2, 3 .. 11 to dump out the information for each atom, in turn. Let's pull out the coordinates (Math::Vector::Real) objects and reproduce a little code from the last notebook."
   ]
  },
  {
   "cell_type": "code",
   "execution_count": 7,
   "metadata": {
    "collapsed": false,
    "scrolled": true
   },
   "outputs": [
    {
     "name": "stderr",
     "output_type": "stream",
     "text": [
      "{0, 1.40272, 0}{-1.21479, 0.70136, 0}{-1.21479, -0.70136, 0}{0, -1.40272, 0}{1.21479, -0.70136, 0}{1.21479, 0.70136, 0}{0, 2.49029, 0}{-2.15666, 1.24515, 0}{-2.15666, -1.24515, 0}{0, -2.49029, 0}{2.15666, -1.24515, 0}{2.15666, 1.24515, 0}\n"
     ]
    }
   ],
   "source": [
    "my @vecs1 = map {$_->xyz} $bnz1->all_atoms;"
   ]
  },
  {
   "cell_type": "markdown",
   "metadata": {},
   "source": [
    "In the previous cell, I used the `map` function, which may be my favorite function in Perl. Map takes a list, acts on it element by element and then passes the result to the left as a list.  \n",
    "[`$bnz1->all_atoms`] sends all the atoms to the map which pulls the xyz coordinates and passes them to the left.  This map has transformed the list of atoms into a stripped down list of vectors.  All this is captured in the `@vecs` variable, which is an array.  This array is effectively the same array as that in the last notebook. Let's use two maps to translate the vectors of \\$bnz2:"
   ]
  },
  {
   "cell_type": "code",
   "execution_count": 8,
   "metadata": {
    "collapsed": false
   },
   "outputs": [
    {
     "name": "stderr",
     "output_type": "stream",
     "text": [
      "{0, 1.40272, 10}{-1.21479, 0.70136, 10}{-1.21479, -0.70136, 10}{0, -1.40272, 10}{1.21479, -0.70136, 10}{1.21479, 0.70136, 10}{0, 2.49029, 10}{-2.15666, 1.24515, 10}{-2.15666, -1.24515, 10}{0, -2.49029, 10}{2.15666, -1.24515, 10}{2.15666, 1.24515, 10}\n"
     ]
    }
   ],
   "source": [
    "my @vecs2 = map {$_->xyz + V(0,0,10)} $bnz2->all_atoms;"
   ]
  },
  {
   "cell_type": "code",
   "execution_count": 9,
   "metadata": {
    "collapsed": false
   },
   "outputs": [
    {
     "data": {
      "text/plain": [
       "from bnz1:      0    1     1.403\n",
       "from bnz2:      0    1     1.403\n",
       "from bnz12:     0    1    10.098\n",
       "from bnz1:      0    2     2.430\n",
       "from bnz2:      0    2     2.430\n",
       "from bnz12:     0    2    10.291\n",
       "from bnz1:      0    3     2.805\n",
       "from bnz2:      0    3     2.805\n",
       "from bnz12:     0    3    10.386\n",
       "from bnz1:      0    4     2.430\n",
       "from bnz2:      0    4     2.430\n",
       "from bnz12:     0    4    10.291\n",
       "from bnz1:      0    5     1.403\n",
       "from bnz2:      0    5     1.403\n",
       "from bnz12:     0    5    10.098\n",
       "from bnz1:      0    6     1.088\n",
       "from bnz2:      0    6     1.088\n",
       "from bnz12:     0    6    10.059\n",
       "from bnz1:      0    7     2.162\n",
       "from bnz2:      0    7     2.162\n",
       "from bnz12:     0    7    10.231\n",
       "from bnz1:      0    8     3.415\n",
       "from bnz2:      0    8     3.415\n",
       "from bnz12:     0    8    10.567\n",
       "from bnz1:      0    9     3.893\n",
       "from bnz2:      0    9     3.893\n",
       "from bnz12:     0    9    10.731\n",
       "from bnz1:      0   10     3.415\n",
       "from bnz2:      0   10     3.415\n",
       "from bnz12:     0   10    10.567\n",
       "from bnz1:      0   11     2.162\n",
       "from bnz2:      0   11     2.162\n",
       "from bnz12:     0   11    10.231\n",
       "from bnz1:      1    2     1.403\n",
       "from bnz2:      1    2     1.403\n",
       "from bnz12:     1    2    10.098\n",
       "from bnz1:      1    3     2.430\n",
       "from bnz2:      1    3     2.430\n",
       "from bnz12:     1    3    10.291\n",
       "from bnz1:      1    4     2.805\n",
       "from bnz2:      1    4     2.805\n",
       "from bnz12:     1    4    10.386\n",
       "from bnz1:      1    5     2.430\n",
       "from bnz2:      1    5     2.430\n",
       "from bnz12:     1    5    10.291\n",
       "from bnz1:      1    6     2.162\n",
       "from bnz2:      1    6     2.162\n",
       "from bnz12:     1    6    10.231\n",
       "from bnz1:      1    7     1.088\n",
       "from bnz2:      1    7     1.088\n",
       "from bnz12:     1    7    10.059\n",
       "from bnz1:      1    8     2.162\n",
       "from bnz2:      1    8     2.162\n",
       "from bnz12:     1    8    10.231\n",
       "from bnz1:      1    9     3.415\n",
       "from bnz2:      1    9     3.415\n",
       "from bnz12:     1    9    10.567\n",
       "from bnz1:      1   10     3.893\n",
       "from bnz2:      1   10     3.893\n",
       "from bnz12:     1   10    10.731\n",
       "from bnz1:      1   11     3.415\n",
       "from bnz2:      1   11     3.415\n",
       "from bnz12:     1   11    10.567\n",
       "from bnz1:      2    3     1.403\n",
       "from bnz2:      2    3     1.403\n",
       "from bnz12:     2    3    10.098\n",
       "from bnz1:      2    4     2.430\n",
       "from bnz2:      2    4     2.430\n",
       "from bnz12:     2    4    10.291\n",
       "from bnz1:      2    5     2.805\n",
       "from bnz2:      2    5     2.805\n",
       "from bnz12:     2    5    10.386\n",
       "from bnz1:      2    6     3.415\n",
       "from bnz2:      2    6     3.415\n",
       "from bnz12:     2    6    10.567\n",
       "from bnz1:      2    7     2.162\n",
       "from bnz2:      2    7     2.162\n",
       "from bnz12:     2    7    10.231\n",
       "from bnz1:      2    8     1.088\n",
       "from bnz2:      2    8     1.088\n",
       "from bnz12:     2    8    10.059\n",
       "from bnz1:      2    9     2.162\n",
       "from bnz2:      2    9     2.162\n",
       "from bnz12:     2    9    10.231\n",
       "from bnz1:      2   10     3.415\n",
       "from bnz2:      2   10     3.415\n",
       "from bnz12:     2   10    10.567\n",
       "from bnz1:      2   11     3.893\n",
       "from bnz2:      2   11     3.893\n",
       "from bnz12:     2   11    10.731\n",
       "from bnz1:      3    4     1.403\n",
       "from bnz2:      3    4     1.403\n",
       "from bnz12:     3    4    10.098\n",
       "from bnz1:      3    5     2.430\n",
       "from bnz2:      3    5     2.430\n",
       "from bnz12:     3    5    10.291\n",
       "from bnz1:      3    6     3.893\n",
       "from bnz2:      3    6     3.893\n",
       "from bnz12:     3    6    10.731\n",
       "from bnz1:      3    7     3.415\n",
       "from bnz2:      3    7     3.415\n",
       "from bnz12:     3    7    10.567\n",
       "from bnz1:      3    8     2.162\n",
       "from bnz2:      3    8     2.162\n",
       "from bnz12:     3    8    10.231\n",
       "from bnz1:      3    9     1.088\n",
       "from bnz2:      3    9     1.088\n",
       "from bnz12:     3    9    10.059\n",
       "from bnz1:      3   10     2.162\n",
       "from bnz2:      3   10     2.162\n",
       "from bnz12:     3   10    10.231\n",
       "from bnz1:      3   11     3.415\n",
       "from bnz2:      3   11     3.415\n",
       "from bnz12:     3   11    10.567\n",
       "from bnz1:      4    5     1.403\n",
       "from bnz2:      4    5     1.403\n",
       "from bnz12:     4    5    10.098\n",
       "from bnz1:      4    6     3.415\n",
       "from bnz2:      4    6     3.415\n",
       "from bnz12:     4    6    10.567\n",
       "from bnz1:      4    7     3.893\n",
       "from bnz2:      4    7     3.893\n",
       "from bnz12:     4    7    10.731\n",
       "from bnz1:      4    8     3.415\n",
       "from bnz2:      4    8     3.415\n",
       "from bnz12:     4    8    10.567\n",
       "from bnz1:      4    9     2.162\n",
       "from bnz2:      4    9     2.162\n",
       "from bnz12:     4    9    10.231\n",
       "from bnz1:      4   10     1.088\n",
       "from bnz2:      4   10     1.088\n",
       "from bnz12:     4   10    10.059\n",
       "from bnz1:      4   11     2.162\n",
       "from bnz2:      4   11     2.162\n",
       "from bnz12:     4   11    10.231\n",
       "from bnz1:      5    6     2.162\n",
       "from bnz2:      5    6     2.162\n",
       "from bnz12:     5    6    10.231\n",
       "from bnz1:      5    7     3.415\n",
       "from bnz2:      5    7     3.415\n",
       "from bnz12:     5    7    10.567\n",
       "from bnz1:      5    8     3.893\n",
       "from bnz2:      5    8     3.893\n",
       "from bnz12:     5    8    10.731\n",
       "from bnz1:      5    9     3.415\n",
       "from bnz2:      5    9     3.415\n",
       "from bnz12:     5    9    10.567\n",
       "from bnz1:      5   10     2.162\n",
       "from bnz2:      5   10     2.162\n",
       "from bnz12:     5   10    10.231\n",
       "from bnz1:      5   11     1.088\n",
       "from bnz2:      5   11     1.088\n",
       "from bnz12:     5   11    10.059\n",
       "from bnz1:      6    7     2.490\n",
       "from bnz2:      6    7     2.490\n",
       "from bnz12:     6    7    10.305\n",
       "from bnz1:      6    8     4.313\n",
       "from bnz2:      6    8     4.313\n",
       "from bnz12:     6    8    10.891\n",
       "from bnz1:      6    9     4.981\n",
       "from bnz2:      6    9     4.981\n",
       "from bnz12:     6    9    11.172\n",
       "from bnz1:      6   10     4.313\n",
       "from bnz2:      6   10     4.313\n",
       "from bnz12:     6   10    10.891\n",
       "from bnz1:      6   11     2.490\n",
       "from bnz2:      6   11     2.490\n",
       "from bnz12:     6   11    10.305\n",
       "from bnz1:      7    8     2.490\n",
       "from bnz2:      7    8     2.490\n",
       "from bnz12:     7    8    10.305\n",
       "from bnz1:      7    9     4.313\n",
       "from bnz2:      7    9     4.313\n",
       "from bnz12:     7    9    10.891\n",
       "from bnz1:      7   10     4.981\n",
       "from bnz2:      7   10     4.981\n",
       "from bnz12:     7   10    11.172\n",
       "from bnz1:      7   11     4.313\n",
       "from bnz2:      7   11     4.313\n",
       "from bnz12:     7   11    10.891\n",
       "from bnz1:      8    9     2.490\n",
       "from bnz2:      8    9     2.490\n",
       "from bnz12:     8    9    10.305\n",
       "from bnz1:      8   10     4.313\n",
       "from bnz2:      8   10     4.313\n",
       "from bnz12:     8   10    10.891\n",
       "from bnz1:      8   11     4.981\n",
       "from bnz2:      8   11     4.981\n",
       "from bnz12:     8   11    11.172\n",
       "from bnz1:      9   10     2.490\n",
       "from bnz2:      9   10     2.490\n",
       "from bnz12:     9   10    10.305\n",
       "from bnz1:      9   11     4.313\n",
       "from bnz2:      9   11     4.313\n",
       "from bnz12:     9   11    10.891\n",
       "from bnz1:     10   11     2.490\n",
       "from bnz2:     10   11     2.490\n",
       "from bnz12:    10   11    10.305\n"
      ]
     },
     "execution_count": 9,
     "metadata": {},
     "output_type": "execute_result"
    }
   ],
   "source": [
    "foreach my $iv (0 .. $#vecs1){\n",
    "    foreach my $jv ($iv+1 .. $#vecs1){\n",
    "        printf(\"from bnz1:  %5i%5i%10.3f\\n\",$iv, $jv, abs($vecs1[$iv]-$vecs1[$jv]));\n",
    "        printf(\"from bnz2:  %5i%5i%10.3f\\n\",$iv, $jv, abs($vecs2[$iv]-$vecs2[$jv]));\n",
    "        printf(\"from bnz12: %5i%5i%10.3f\\n\",$iv, $jv, abs($vecs1[$iv]-$vecs2[$jv]));\n",
    "    }\n",
    "}"
   ]
  },
  {
   "cell_type": "markdown",
   "metadata": {},
   "source": [
    "If we print out the xyz files for the three benzene objects, "
   ]
  },
  {
   "cell_type": "code",
   "execution_count": 10,
   "metadata": {
    "collapsed": false
   },
   "outputs": [
    {
     "data": {
      "text/plain": [
       "12\n",
       "\n",
       "  C   0.000000   1.402720   0.000000\n",
       "  C  -1.214790   0.701360   0.000000\n",
       "  C  -1.214790  -0.701360   0.000000\n",
       "  C   0.000000  -1.402720   0.000000\n",
       "  C   1.214790  -0.701360   0.000000\n",
       "  C   1.214790   0.701360   0.000000\n",
       "  H   0.000000   2.490290   0.000000\n",
       "  H  -2.156660   1.245150   0.000000\n",
       "  H  -2.156660  -1.245150   0.000000\n",
       "  H   0.000000  -2.490290   0.000000\n",
       "  H   2.156660  -1.245150   0.000000\n",
       "  H   2.156660   1.245150   0.000000\n",
       "12\n",
       "\n",
       "  C   0.000000   1.402720   0.000000\n",
       "  C  -1.214790   0.701360   0.000000\n",
       "  C  -1.214790  -0.701360   0.000000\n",
       "  C   0.000000  -1.402720   0.000000\n",
       "  C   1.214790  -0.701360   0.000000\n",
       "  C   1.214790   0.701360   0.000000\n",
       "  H   0.000000   2.490290   0.000000\n",
       "  H  -2.156660   1.245150   0.000000\n",
       "  H  -2.156660  -1.245150   0.000000\n",
       "  H   0.000000  -2.490290   0.000000\n",
       "  H   2.156660  -1.245150   0.000000\n",
       "  H   2.156660   1.245150   0.000000\n",
       "12\n",
       "\n",
       "  C   0.000000   1.402720   0.000000\n",
       "  C  -1.214790   0.701360   0.000000\n",
       "  C  -1.214790  -0.701360   0.000000\n",
       "  C   0.000000  -1.402720   0.000000\n",
       "  C   1.214790  -0.701360   0.000000\n",
       "  C   1.214790   0.701360   0.000000\n",
       "  H   0.000000   2.490290   0.000000\n",
       "  H  -2.156660   1.245150   0.000000\n",
       "  H  -2.156660  -1.245150   0.000000\n",
       "  H   0.000000  -2.490290   0.000000\n",
       "  H   2.156660  -1.245150   0.000000\n",
       "  H   2.156660   1.245150   0.000000\n"
      ]
     },
     "execution_count": 10,
     "metadata": {},
     "output_type": "execute_result"
    },
    {
     "name": "stderr",
     "output_type": "stream",
     "text": [
      "1\n"
     ]
    }
   ],
   "source": [
    "$bnz1->print_xyz;\n",
    "$bnz2->print_xyz;\n",
    "$bnz3->print_xyz;\n",
    "1;"
   ]
  },
  {
   "cell_type": "markdown",
   "metadata": {},
   "source": [
    "we see that the coordinates within the HackaMol::Molecule have not changed; thus, the vectors above are copied in the map into new, distinct memory locations.  In the following exercises, we will play around with the information and coordinates within the HackaMol objects."
   ]
  },
  {
   "cell_type": "markdown",
   "metadata": {},
   "source": [
    "### Exercise 1. Play around with the methods listed below to interact with your benzene molecules.\n",
    "The HackaMol molecule has some methods that are useful for interacting with the atomic data.\n",
    "\n",
    "Here is a list of methods to try here:\n",
    "    1.  print_xyz\n",
    "    2.  print_pdb\n",
    "    3.  COM\n",
    "    4.  total_mass\n",
    "    5.  all_atoms\n",
    "    6.  get_atoms(0) to get the first atom\n",
    "    7.  translate\n",
    "    8.  rotate\n",
    "    9.  bin_atoms_name\n",
    "    10. dump\n",
    " \n",
    "Each can be invoked as follows:\n",
    "\n",
    "$bnz1->method (args)   # with arguments, see documentation of what arguments are.\n",
    " \n",
    "-or-\n",
    "\n",
    "$bnz2->method (args)\n",
    "\n",
    "etc.\n",
    "\n",
    "#### Example 1.0. bin_atoms_name, use the method change a carbon to a Hg and then back again."
   ]
  },
  {
   "cell_type": "code",
   "execution_count": 11,
   "metadata": {
    "collapsed": false,
    "scrolled": true
   },
   "outputs": [
    {
     "data": {
      "text/plain": [
       "C6H6\n",
       "78.11184\n",
       "HgC5H6\n",
       "266.69314\n",
       "C6H6\n",
       "78.11184\n"
      ]
     },
     "execution_count": 11,
     "metadata": {},
     "output_type": "execute_result"
    },
    {
     "name": "stderr",
     "output_type": "stream",
     "text": [
      "1\n"
     ]
    },
    {
     "ename": "Warning",
     "evalue": "cleaning atom attributes for in place change. setting atom->is_dirty at reply input line 4.\n\ncleaning atom attributes for in place change. setting atom->is_dirty at reply input line 8.\n",
     "output_type": "error",
     "traceback": [
      "cleaning atom attributes for in place change. setting atom->is_dirty at reply input line 4.\n\ncleaning atom attributes for in place change. setting atom->is_dirty at reply input line 8.\n"
     ]
    }
   ],
   "source": [
    "say $bnz1->bin_atoms_name; # generate a string from the atom symbols\n",
    "say $bnz1->total_mass;\n",
    "\n",
    "$bnz1->get_atoms(1)->change_Z(80); # change an atom to Hg\n",
    "say $bnz1->bin_atoms_name;\n",
    "say $bnz1->total_mass;\n",
    "\n",
    "$bnz1->get_atoms(1)->change_Z(6); # change it back.\n",
    "say $bnz1->bin_atoms_name;\n",
    "say $bnz1->total_mass;"
   ]
  },
  {
   "cell_type": "markdown",
   "metadata": {},
   "source": [
    "### Exercise 2. Use the translate method to translate your molecule along the z-axis.  Use the print_xyz method to see the result and then translate it back so that the center of mass is at (0,0,0);\n",
    "\n",
    "\\$mol->translate(-1 * $mol->COM);\n"
   ]
  },
  {
   "cell_type": "code",
   "execution_count": null,
   "metadata": {
    "collapsed": true
   },
   "outputs": [],
   "source": []
  },
  {
   "cell_type": "markdown",
   "metadata": {},
   "source": [
    "### Exercise 3. Create a line of 21 mercury atoms perpendicular to the plane of the benzene molecule, with arbitrary orientation, spanning 10 angstroms above and below the plane of the molecule.  Visualize in VMD.\n",
    "The framework, which includes solving for the perpendicular vector (using a cross product of two atom vectors) of the problem is below.  You need to adjust it to get the 21 Mercury atoms.  Adjust the rotation and translations and see that it still works!\n"
   ]
  },
  {
   "cell_type": "code",
   "execution_count": 12,
   "metadata": {
    "collapsed": false
   },
   "outputs": [
    {
     "data": {
      "text/plain": [
       "15\n",
       "\n",
       "  C  10.000000  -0.000000  11.402720\n",
       "  C   8.785210  -0.000000  10.701360\n",
       "  C   8.785210  -0.000000   9.298640\n",
       "  C  10.000000  -0.000000   8.597280\n",
       "  C  11.214790  -0.000000   9.298640\n",
       "  C  11.214790  -0.000000  10.701360\n",
       "  H  10.000000  -0.000000  12.490290\n",
       "  H   7.843340  -0.000000  11.245150\n",
       "  H   7.843340  -0.000000   8.754850\n",
       "  H  10.000000  -0.000000   7.509710\n",
       "  H  12.156660  -0.000000   8.754850\n",
       "  H  12.156660  -0.000000  11.245150\n",
       " Hg  10.000000  -0.000000  10.000000\n",
       " Hg  10.000000   2.000000  10.000000\n",
       " Hg  10.000000  -2.000000  10.000000\n"
      ]
     },
     "execution_count": 12,
     "metadata": {},
     "output_type": "execute_result"
    },
    {
     "name": "stderr",
     "output_type": "stream",
     "text": [
      "1\n"
     ]
    }
   ],
   "source": [
    "$bnz1 = $bldr->read_string_mol($c6h6_xyz, 'xyz');  # reset the molecule!\n",
    "# orient it however you like!\n",
    "$bnz1->translate( V(10,0,10) );\n",
    "$bnz1->rotate(    V(1,0,0), \n",
    "                     90, \n",
    "                $bnz1->COM\n",
    "); # 90 degree rotation about the x axis\n",
    "\n",
    "# let's put a Hg at the COM\n",
    "my $hg0 = HackaMol::Atom->new(symbol => 'Hg', coords => [ V(@{$bnz1->COM}) ] );\n",
    "$bnz1->push_atoms($hg0); \n",
    "\n",
    "# save this COM... when we add Hg to the molecule the COM changes!\n",
    "my $vec1 = $bnz1->get_atoms(0)->xyz - $hg0->xyz ;  # vector to COM\n",
    "my $vec2 = $bnz1->get_atoms(2)->xyz - $hg0->xyz ;  # vector to COM\n",
    "\n",
    "my $perp_vec = ($vec1 x $vec2) -> versor;\n",
    "\n",
    "foreach my $scale (-1,1){\n",
    "    my $xyz = $scale*( 2 * $perp_vec) + $hg0->xyz;\n",
    "    my $hg = HackaMol::Atom->new(symbol => 'Hg', coords => [ $xyz ] );\n",
    "    $bnz1->push_atoms($hg);\n",
    "}\n",
    "\n",
    "$bnz1->print_xyz; 1;"
   ]
  },
  {
   "cell_type": "markdown",
   "metadata": {},
   "source": [
    "#### Exercise 4. create a pdb with 512 benzene molecules with different residues and resnames, and visualize in VMD.\n",
    "The framework should get you a pdb (fat_stacks.pdb) that is full of 512 benzenes.  You need to adjust the atom attributes to get each benzene to have different residue number and resnames, which will make your VMDing a little more interesting if you color by residue or name. Your goal is to work with the code below to reproduce the image at the header of this notebook.\n",
    "\n",
    "You'll need to put this code in the right place (in the code cell below) to get this to work:\n",
    "\n",
    "```\n",
    "            foreach my $atom ($bnz->all_atoms){\n",
    "                # reset atom name  to be the symbol and array location (iatom)  \n",
    "                my $name = $atom->symbol . $atom->iatom;\n",
    "                $atom->name($name);\n",
    "            \n",
    "                # reset resname\n",
    "                $atom->resname(\"BNZ\");\n",
    "            \n",
    "                # reset resid\n",
    "                $atom->resid($count);\n",
    "            }\n",
    "```"
   ]
  },
  {
   "cell_type": "code",
   "execution_count": 13,
   "metadata": {
    "collapsed": false
   },
   "outputs": [
    {
     "name": "stderr",
     "output_type": "stream",
     "text": [
      "1\n"
     ]
    }
   ],
   "source": [
    "my $count = 0;\n",
    "my $a = 10;\n",
    "my $b = 10;\n",
    "my $c = 5;\n",
    "\n",
    "my $fat_stacks = HackaMol::Molecule -> new ;\n",
    "\n",
    "foreach my $ibenz (0 .. 7){\n",
    "\n",
    "    my $dx = $ibenz * $a;\n",
    "    foreach my $jbenz (0 .. 7) {\n",
    "    \n",
    "        my $dy = $jbenz * $b;\n",
    "        foreach my $kbenz (0 .. 7){\n",
    "\n",
    "            my $dz = $kbenz * $c;\n",
    "            \n",
    "            my $bnz = $bldr->read_string_mol($c6h6_xyz, 'xyz');\n",
    "            $bnz->translate(V($dx,$dy,$dz));\n",
    "\n",
    "            $fat_stacks->push_atoms( $bnz->all_atoms);\n",
    "            $count++;\n",
    "            \n",
    "        }\n",
    "    }\n",
    "}\n",
    "$fat_stacks->print_pdb('fat_stacks.pdb'); 1"
   ]
  },
  {
   "cell_type": "markdown",
   "metadata": {},
   "source": [
    "#### Optional Exercise 5. Use the mercury axis code to make something interesting to look at\n"
   ]
  },
  {
   "cell_type": "code",
   "execution_count": 14,
   "metadata": {
    "collapsed": false
   },
   "outputs": [
    {
     "name": "stderr",
     "output_type": "stream",
     "text": [
      "1\n"
     ]
    },
    {
     "ename": "Warning",
     "evalue": "overwrite cone.xyz at reply input line 28.\n",
     "output_type": "error",
     "traceback": [
      "overwrite cone.xyz at reply input line 28.\n"
     ]
    }
   ],
   "source": [
    "my $bnz1 = $bldr->read_string_mol($c6h6_xyz, 'xyz');  # reset the molecule!\n",
    "# orient it however you like!\n",
    "$bnz1->translate( V(10,0,10) );\n",
    "$bnz1->rotate(    V(1,1,0), \n",
    "                     90, \n",
    "                $bnz1->COM\n",
    "); # 90 degree rotation about the x axis\n",
    "\n",
    "# let's put a Hg at the COM\n",
    "my $hg0 = HackaMol::Atom->new(symbol => 'Hg', coords => [ V(@{$bnz1->COM}) ] );\n",
    "$bnz1->push_atoms($hg0); \n",
    "\n",
    "# save this COM... when we add Hg to the molecule the COM changes!\n",
    "my $vec1 = $bnz1->get_atoms(0)->xyz - $hg0->xyz ;  # vector to COM\n",
    "my $vec2 = $bnz1->get_atoms(2)->xyz - $hg0->xyz ;  # vector to COM\n",
    "\n",
    "my $perp_vec = ($vec1 x $vec2) -> versor;\n",
    "my $nmax = 20;\n",
    "\n",
    "foreach my $scale (1 .. $nmax){\n",
    "    my $xyz = $scale*( 1 * $perp_vec) + $hg0->xyz;\n",
    "    my $hg = HackaMol::Atom->new(symbol => 'Hg', coords => [ $xyz ] );\n",
    "    $bnz1->push_atoms($hg);\n",
    "}\n",
    "\n",
    "$bnz1->translate(-$bnz1->get_atoms(12+$nmax)->xyz); # 12 includes the first Hg\n",
    "\n",
    "my $fh = $bnz1->print_xyz('cone.xyz');\n",
    "foreach (1 .. 359){\n",
    "    $bnz1->rotate(\n",
    "        V(0,1,0),\n",
    "        1,\n",
    "        V(0,0,0),\n",
    "    );\n",
    "    $bnz1->print_xyz($fh);\n",
    "}\n",
    "$fh->close;"
   ]
  },
  {
   "cell_type": "code",
   "execution_count": 15,
   "metadata": {
    "collapsed": false
   },
   "outputs": [
    {
     "name": "stderr",
     "output_type": "stream",
     "text": [
      "1\n"
     ]
    }
   ],
   "source": [
    "my $CAII = HackaMol->new->pdbid_mol('2CBA');\n",
    "$CAII->translate(-$CAII->COM);\n",
    "$CAII->translate(V(0,30,0));\n",
    "$CAII->print_pdb(\"icecream.pdb\");1"
   ]
  },
  {
   "cell_type": "markdown",
   "metadata": {},
   "source": [
    "#### And here are the mercury/benzene cone with the Carbonic Anhydrase icecream on top.\n",
    "<img src=\"figs/IceCreamCone.png\">"
   ]
  }
 ],
 "metadata": {
  "kernelspec": {
   "display_name": "IPerl 0.006",
   "language": "perl",
   "name": "iperl"
  },
  "language_info": {
   "file_extension": ".pl",
   "mimetype": "text/x-perl",
   "name": "perl",
   "version": "5.20.2"
  }
 },
 "nbformat": 4,
 "nbformat_minor": 0
}
