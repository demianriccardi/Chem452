{
 "cells": [
  {
   "cell_type": "code",
   "execution_count": 1,
   "metadata": {
    "collapsed": true
   },
   "outputs": [],
   "source": [
    "use Modern::Perl;\n",
    "use HackaMol;\n",
    "use Math::Vector::Real;"
   ]
  },
  {
   "cell_type": "markdown",
   "metadata": {
    "collapsed": true
   },
   "source": [
    "# Benzene is more than 12 vectors: using HackaMol to work with atomic \"metadata\" and coordinates.\n",
    "Suggested Prerequisites:\n",
    "\n",
    "1. This notebook builds directly from the [p5-Vectors-Benzene notebook](https://github.com/demianriccardi/EC-Chem452/blob/master/Notebooks/p5-Vectors-Benzene_2016_02_26.ipynb). \n",
    "\n",
    "2. This notebook uses the HackaMol library.  Please review the [Readme](https://github.com/demianriccardi/HackaMol) and the linked [HackaMol paper](https://www.researchgate.net/profile/Demian_Riccardi/publication/273778191_HackaMol_an_object-oriented_Modern_Perl_library_for_molecular_hacking_on_multiple_scales/links/550ebec60cf27526109e6ade.pdf) for additional information about the library.\n",
    "\n",
    "\n",
    "### Ability to work with vectors while maintaining a connection to the atomic metadata is prerequisite to carrying out structural analysis of biological molecules.\n",
    "At a given temperature, pressure, and molar constitution $G(T,P,n_1,n_2 ... )$, a biological molecule (or collection of molecules) has a space of available conformations or configurations that may be large ($S=k\\ln W$).  If you were to carry out a molecular dynamics simulation (which we will come back to later), you would most likely prepare your system using a single structure provided by X-ray crystallography or NMR spectroscopy, solvate your system in water (maybe with salt ions), and then add some heat so that it wiggles about.  \n",
    "\n",
    "When simulated in a computer, a condensed phase system is just a vector space that varies with time (molecular dynamics) or conformation (monte carlo) that is restrained (or even constrained) by the information of how suppose that the vectors interact (e.g. this water hydrogen, with these coordinates, is bound to this water oxygen with these coordinates). While this may seem an obfuscated way to describe computational work with molecules, it is a valuable perspective.  The hierarchy of chemistry and biochemistry (atom, atoms, bonds, molecule, molecules, polymers, nonbonded interactions, etc.) provide the information that biases that which is possible in empirical computational work (i.e. classical mechanical molecular simulations). \n",
    "\n",
    "#### Lab exercise: Fun with benzene atoms and coordinates using vector analysis\n",
    "I wrote the HackaMol library to make my computational life easier, more fun, more sophisticated, and more reproducible.  HackaMol provides a molecular object system that packages atomic and molecular data into classes that have methods for interacting with the data.  In the previous exercise, we stripped benzene down to nothing but a a collection of 12 vectors.  Now we will add atomic information back to these vectors.  We'll call this information \"metadata\"; metadata is data that describes other data.  We can add such information to those 12 vectors to name atoms, add bonds, angles, and dihedrals all with names and information. We will do that here.   \n",
    "\n",
    "In this lab we will use benzene to interact with the hierarchy [HackaMol](https://metacpan.org/pod/HackaMol) classes: HackaMol::Atom (https://metacpan.org/pod/HackaMol::Atom), [HackaMol::AtomGroup](https://metacpan.org/pod/HackaMol::AtomGroup), [HackaMol::Bond](https://metacpan.org/pod/HackaMol::Bond), [HackaMol::Angle](https://metacpan.org/pod/HackaMol::Angle), [HackaMol::Dihedral](https://metacpan.org/pod/HackaMol::Dihedral), and [HackaMol::Molecule](https://metacpan.org/pod/HackaMol::Molecule). The HackaMol::Atom objects contain coordinates which are just Math::Vector::Real objects;  the other classes listed above contain groups of HackaMol::Atom objects plus other things.  \n",
    "\n",
    "#### Mental exercise: \n",
    "Before going an further.  Again, take a look at the PDB file for a mutant of T4 Lysozyme [PDBID: 1L54](http://www.rcsb.org/pdb/files/1L54.pdb). Find the lines of coordinates that also contain additional metadata. What are all the different types of metadata that you can see in this file?\n"
   ]
  },
  {
   "cell_type": "markdown",
   "metadata": {},
   "source": [
    "### Let's define a string (c6h6_xyz) that contains the xyz file description of a bdenzene molecule:"
   ]
  },
  {
   "cell_type": "code",
   "execution_count": 2,
   "metadata": {
    "collapsed": false,
    "scrolled": true
   },
   "outputs": [
    {
     "data": {
      "text/plain": [
       "  C        0.00000        1.40272        0.00000\n",
       "  C       -1.21479        0.70136        0.00000\n",
       "  C       -1.21479       -0.70136        0.00000\n",
       "  C        0.00000       -1.40272        0.00000\n",
       "  C        1.21479       -0.70136        0.00000\n",
       "  C        1.21479        0.70136        0.00000\n",
       "  H        0.00000        2.49029        0.00000\n",
       "  H       -2.15666        1.24515        0.00000\n",
       "  H       -2.15666       -1.24515        0.00000\n",
       "  H        0.00000       -2.49029        0.00000\n",
       "  H        2.15666       -1.24515        0.00000\n",
       "  H        2.15666        1.24515        0.00000\n"
      ]
     },
     "execution_count": 2,
     "metadata": {},
     "output_type": "execute_result"
    },
    {
     "name": "stderr",
     "output_type": "stream",
     "text": [
      "1\n"
     ]
    }
   ],
   "source": [
    "my $c6h6_xyz =\n",
    "'  C        0.00000        1.40272        0.00000\n",
    "  C       -1.21479        0.70136        0.00000\n",
    "  C       -1.21479       -0.70136        0.00000\n",
    "  C        0.00000       -1.40272        0.00000\n",
    "  C        1.21479       -0.70136        0.00000\n",
    "  C        1.21479        0.70136        0.00000\n",
    "  H        0.00000        2.49029        0.00000\n",
    "  H       -2.15666        1.24515        0.00000\n",
    "  H       -2.15666       -1.24515        0.00000\n",
    "  H        0.00000       -2.49029        0.00000\n",
    "  H        2.15666       -1.24515        0.00000\n",
    "  H        2.15666        1.24515        0.00000\n",
    "'; \n",
    "\n",
    "print $c6h6_xyz;"
   ]
  },
  {
   "cell_type": "markdown",
   "metadata": {},
   "source": [
    "The coordinates are the same as those of the last notebook, except now we're labeling them with element symbols."
   ]
  },
  {
   "cell_type": "markdown",
   "metadata": {},
   "source": [
    "### Load this xyz file string into two HackaMol::Molecule objects into the variables \\$bnz1 and \\$bnz2:"
   ]
  },
  {
   "cell_type": "code",
   "execution_count": 3,
   "metadata": {
    "collapsed": false
   },
   "outputs": [
    {
     "name": "stderr",
     "output_type": "stream",
     "text": [
      "Benzene\n"
     ]
    }
   ],
   "source": [
    "my $bnz1 = HackaMol->new->read_string_mol($c6h6_xyz, 'xyz');\n",
    "$bnz1->name(\"Benzene\");"
   ]
  },
  {
   "cell_type": "markdown",
   "metadata": {},
   "source": [
    "`HackaMol->new` provides a builder that has all sorts of methods, one being  `read_string_mol`.  We can store the builder in a variable to avoid creating it every time.  Let's make another two benzene molecules, but this time let's use a builder.  \n"
   ]
  },
  {
   "cell_type": "code",
   "execution_count": 4,
   "metadata": {
    "collapsed": false
   },
   "outputs": [
    {
     "data": {
      "text/plain": [
       "Benzene\n"
      ]
     },
     "execution_count": 4,
     "metadata": {},
     "output_type": "execute_result"
    },
    {
     "name": "stderr",
     "output_type": "stream",
     "text": [
      "1\n"
     ]
    }
   ],
   "source": [
    "my $bldr = HackaMol->new; # a builder object\n",
    "\n",
    "my $bnz2 = $bldr->read_string_mol($c6h6_xyz, 'xyz');\n",
    "my $bnz3 = $bldr->read_string_mol($c6h6_xyz, 'xyz');\n",
    "\n",
    "$_->name(\"Benzene\") foreach ($bnz2,$bnz3);  # name each of them benzene\n",
    "\n",
    "say $bnz2->name;"
   ]
  },
  {
   "cell_type": "markdown",
   "metadata": {},
   "source": [
    "\\$bnz1, \\$bnz2, and \\$bnz3 are all HackaMol::Molecule objects that have some data and methods for interacting with the data.  While both molecules have all the same values, they are independent of one another.  Currently we have two identical, unique copies of the data packaged in HackaMol::Molecule objects.   Let's dump \\$bnz1 out to take a look at it's guts:  "
   ]
  },
  {
   "cell_type": "code",
   "execution_count": 5,
   "metadata": {
    "collapsed": false
   },
   "outputs": [
    {
     "data": {
      "text/plain": [
       "$VAR1 = bless( {\n",
       "                 'name' => 'Benzene',\n",
       "                 't' => 0,\n",
       "                 'bonds' => [],\n",
       "                 'atoms' => [\n",
       "                              bless( {\n",
       "                                       'iatom' => 0,\n",
       "                                       'name' => 'at0',\n",
       "                                       't' => 0,\n",
       "                                       'coords' => [\n",
       "                                                     bless( [\n",
       "                                                              '0',\n",
       "                                                              '1.40272',\n",
       "                                                              '0'\n",
       "                                                            ], 'Math::Vector::Real' )\n",
       "                                                   ],\n",
       "                                       'bond_count' => 0,\n",
       "                                       'symbol' => 'C'\n",
       "                                     }, 'HackaMol::Atom' ),\n",
       "                              bless( {\n",
       "                                       'iatom' => 1,\n",
       "                                       'coords' => [\n",
       "                                                     bless( [\n",
       "                                                              '-1.21479',\n",
       "                                                              '0.70136',\n",
       "                                                              '0'\n",
       "                                                            ], 'Math::Vector::Real' )\n",
       "                                                   ],\n",
       "                                       't' => 0,\n",
       "                                       'name' => 'at1',\n",
       "                                       'bond_count' => 0,\n",
       "                                       'symbol' => 'C'\n",
       "                                     }, 'HackaMol::Atom' ),\n",
       "                              bless( {\n",
       "                                       'iatom' => 2,\n",
       "                                       'symbol' => 'C',\n",
       "                                       't' => 0,\n",
       "                                       'name' => 'at2',\n",
       "                                       'coords' => [\n",
       "                                                     bless( [\n",
       "                                                              '-1.21479',\n",
       "                                                              '-0.70136',\n",
       "                                                              '0'\n",
       "                                                            ], 'Math::Vector::Real' )\n",
       "                                                   ],\n",
       "                                       'bond_count' => 0\n",
       "                                     }, 'HackaMol::Atom' ),\n",
       "                              bless( {\n",
       "                                       't' => 0,\n",
       "                                       'bond_count' => 0,\n",
       "                                       'name' => 'at3',\n",
       "                                       'coords' => [\n",
       "                                                     bless( [\n",
       "                                                              '0',\n",
       "                                                              '-1.40272',\n",
       "                                                              '0'\n",
       "                                                            ], 'Math::Vector::Real' )\n",
       "                                                   ],\n",
       "                                       'symbol' => 'C',\n",
       "                                       'iatom' => 3\n",
       "                                     }, 'HackaMol::Atom' ),\n",
       "                              bless( {\n",
       "                                       'name' => 'at4',\n",
       "                                       't' => 0,\n",
       "                                       'coords' => [\n",
       "                                                     bless( [\n",
       "                                                              '1.21479',\n",
       "                                                              '-0.70136',\n",
       "                                                              '0'\n",
       "                                                            ], 'Math::Vector::Real' )\n",
       "                                                   ],\n",
       "                                       'bond_count' => 0,\n",
       "                                       'symbol' => 'C',\n",
       "                                       'iatom' => 4\n",
       "                                     }, 'HackaMol::Atom' ),\n",
       "                              bless( {\n",
       "                                       'iatom' => 5,\n",
       "                                       't' => 0,\n",
       "                                       'coords' => [\n",
       "                                                     bless( [\n",
       "                                                              '1.21479',\n",
       "                                                              '0.70136',\n",
       "                                                              '0'\n",
       "                                                            ], 'Math::Vector::Real' )\n",
       "                                                   ],\n",
       "                                       'name' => 'at5',\n",
       "                                       'bond_count' => 0,\n",
       "                                       'symbol' => 'C'\n",
       "                                     }, 'HackaMol::Atom' ),\n",
       "                              bless( {\n",
       "                                       'name' => 'at6',\n",
       "                                       't' => 0,\n",
       "                                       'coords' => [\n",
       "                                                     bless( [\n",
       "                                                              '0',\n",
       "                                                              '2.49029',\n",
       "                                                              '0'\n",
       "                                                            ], 'Math::Vector::Real' )\n",
       "                                                   ],\n",
       "                                       'bond_count' => 0,\n",
       "                                       'symbol' => 'H',\n",
       "                                       'iatom' => 6\n",
       "                                     }, 'HackaMol::Atom' ),\n",
       "                              bless( {\n",
       "                                       'iatom' => 7,\n",
       "                                       'symbol' => 'H',\n",
       "                                       't' => 0,\n",
       "                                       'name' => 'at7',\n",
       "                                       'bond_count' => 0,\n",
       "                                       'coords' => [\n",
       "                                                     bless( [\n",
       "                                                              '-2.15666',\n",
       "                                                              '1.24515',\n",
       "                                                              '0'\n",
       "                                                            ], 'Math::Vector::Real' )\n",
       "                                                   ]\n",
       "                                     }, 'HackaMol::Atom' ),\n",
       "                              bless( {\n",
       "                                       'symbol' => 'H',\n",
       "                                       't' => 0,\n",
       "                                       'name' => 'at8',\n",
       "                                       'bond_count' => 0,\n",
       "                                       'coords' => [\n",
       "                                                     bless( [\n",
       "                                                              '-2.15666',\n",
       "                                                              '-1.24515',\n",
       "                                                              '0'\n",
       "                                                            ], 'Math::Vector::Real' )\n",
       "                                                   ],\n",
       "                                       'iatom' => 8\n",
       "                                     }, 'HackaMol::Atom' ),\n",
       "                              bless( {\n",
       "                                       't' => 0,\n",
       "                                       'name' => 'at9',\n",
       "                                       'bond_count' => 0,\n",
       "                                       'coords' => [\n",
       "                                                     bless( [\n",
       "                                                              '0',\n",
       "                                                              '-2.49029',\n",
       "                                                              '0'\n",
       "                                                            ], 'Math::Vector::Real' )\n",
       "                                                   ],\n",
       "                                       'symbol' => 'H',\n",
       "                                       'iatom' => 9\n",
       "                                     }, 'HackaMol::Atom' ),\n",
       "                              bless( {\n",
       "                                       'iatom' => 10,\n",
       "                                       't' => 0,\n",
       "                                       'name' => 'at10',\n",
       "                                       'coords' => [\n",
       "                                                     bless( [\n",
       "                                                              '2.15666',\n",
       "                                                              '-1.24515',\n",
       "                                                              '0'\n",
       "                                                            ], 'Math::Vector::Real' )\n",
       "                                                   ],\n",
       "                                       'bond_count' => 0,\n",
       "                                       'symbol' => 'H'\n",
       "                                     }, 'HackaMol::Atom' ),\n",
       "                              bless( {\n",
       "                                       'symbol' => 'H',\n",
       "                                       'name' => 'at11',\n",
       "                                       't' => 0,\n",
       "                                       'bond_count' => 0,\n",
       "                                       'coords' => [\n",
       "                                                     bless( [\n",
       "                                                              '2.15666',\n",
       "                                                              '1.24515',\n",
       "                                                              '0'\n",
       "                                                            ], 'Math::Vector::Real' )\n",
       "                                                   ],\n",
       "                                       'iatom' => 11\n",
       "                                     }, 'HackaMol::Atom' )\n",
       "                            ]\n",
       "               }, 'HackaMol::Molecule' );\n"
      ]
     },
     "execution_count": 5,
     "metadata": {},
     "output_type": "execute_result"
    },
    {
     "name": "stderr",
     "output_type": "stream",
     "text": [
      "1\n"
     ]
    }
   ],
   "source": [
    "print $bnz1->dump;"
   ]
  },
  {
   "cell_type": "markdown",
   "metadata": {},
   "source": [
    " Looking at the dumped information, you can see that the HackaMol::Molecue has a collection of atoms, each of which is a HackaMol::Atom object, and each atom has coordinates, which are just Math::Vector::Real objects.  There are some other attributes that you will learn about as you progress.  \n",
    " \n",
    " `$bnz1->dump` calls the `dump` method of \\$bnz1. Dump is available for all HackaMol classes. Let's use another method (`get_atoms`) to grab the first atom and then use the atom's dump method. "
   ]
  },
  {
   "cell_type": "code",
   "execution_count": 9,
   "metadata": {
    "collapsed": false
   },
   "outputs": [
    {
     "data": {
      "text/plain": [
       "$VAR1 = bless( {\n",
       "                 'iatom' => 0,\n",
       "                 'name' => 'at0',\n",
       "                 't' => 0,\n",
       "                 'coords' => [\n",
       "                               bless( [\n",
       "                                        '0',\n",
       "                                        '1.40272',\n",
       "                                        '0'\n",
       "                                      ], 'Math::Vector::Real' )\n",
       "                             ],\n",
       "                 'bond_count' => 0,\n",
       "                 'symbol' => 'C'\n",
       "               }, 'HackaMol::Atom' );\n"
      ]
     },
     "execution_count": 9,
     "metadata": {},
     "output_type": "execute_result"
    },
    {
     "name": "stderr",
     "output_type": "stream",
     "text": [
      "1\n"
     ]
    }
   ],
   "source": [
    "print $bnz1->get_atoms(0)->dump;"
   ]
  },
  {
   "cell_type": "markdown",
   "metadata": {},
   "source": [
    "You can adjust the index from 0 to 1, 2, 3 .. 11 to dump out the information for each atom, in turn. Let's pull out the coordinates (Math::Vector::Real) objects and reproduce a little code from the last notebook."
   ]
  },
  {
   "cell_type": "code",
   "execution_count": 10,
   "metadata": {
    "collapsed": false,
    "scrolled": true
   },
   "outputs": [
    {
     "name": "stderr",
     "output_type": "stream",
     "text": [
      "{0, 1.40272, 0}{-1.21479, 0.70136, 0}{-1.21479, -0.70136, 0}{0, -1.40272, 0}{1.21479, -0.70136, 0}{1.21479, 0.70136, 0}{0, 2.49029, 0}{-2.15666, 1.24515, 0}{-2.15666, -1.24515, 0}{0, -2.49029, 0}{2.15666, -1.24515, 0}{2.15666, 1.24515, 0}\n"
     ]
    }
   ],
   "source": [
    "my @vecs1 = map {$_->xyz} $bnz1->all_atoms;"
   ]
  },
  {
   "cell_type": "markdown",
   "metadata": {},
   "source": [
    "In the previous cell, I used the `map` function, which may be my favorite function in Perl. Map takes a list, acts on it element by element and then passes the result to the left as a list.  \n",
    "[`$bnz1->all_atoms`] sends all the atoms to the map which pulls the xyz coordinates and passes them to the left.  This map has transformed the list of atoms into a stripped down list of vectors.  All this is captured in the `@vecs` variable, which is an array.  This array is effectively the same array as that in the last notebook. Let's use two maps to translate the vectors of \\$bnz2:"
   ]
  },
  {
   "cell_type": "code",
   "execution_count": 19,
   "metadata": {
    "collapsed": false
   },
   "outputs": [
    {
     "name": "stderr",
     "output_type": "stream",
     "text": [
      "{0, 1.40272, 10}{-1.21479, 0.70136, 10}{-1.21479, -0.70136, 10}{0, -1.40272, 10}{1.21479, -0.70136, 10}{1.21479, 0.70136, 10}{0, 2.49029, 10}{-2.15666, 1.24515, 10}{-2.15666, -1.24515, 10}{0, -2.49029, 10}{2.15666, -1.24515, 10}{2.15666, 1.24515, 10}\n"
     ]
    }
   ],
   "source": [
    "my @vecs2 = map {$_->xyz + V(0,0,10)} $bnz2->all_atoms;"
   ]
  },
  {
   "cell_type": "code",
   "execution_count": 20,
   "metadata": {
    "collapsed": false
   },
   "outputs": [
    {
     "data": {
      "text/plain": [
       "from bnz1:      0    1     1.403\n",
       "from bnz2:      0    1     1.403\n",
       "from bnz12:     0    1    10.098\n",
       "from bnz1:      0    2     2.430\n",
       "from bnz2:      0    2     2.430\n",
       "from bnz12:     0    2    10.291\n",
       "from bnz1:      0    3     2.805\n",
       "from bnz2:      0    3     2.805\n",
       "from bnz12:     0    3    10.386\n",
       "from bnz1:      0    4     2.430\n",
       "from bnz2:      0    4     2.430\n",
       "from bnz12:     0    4    10.291\n",
       "from bnz1:      0    5     1.403\n",
       "from bnz2:      0    5     1.403\n",
       "from bnz12:     0    5    10.098\n",
       "from bnz1:      0    6     1.088\n",
       "from bnz2:      0    6     1.088\n",
       "from bnz12:     0    6    10.059\n",
       "from bnz1:      0    7     2.162\n",
       "from bnz2:      0    7     2.162\n",
       "from bnz12:     0    7    10.231\n",
       "from bnz1:      0    8     3.415\n",
       "from bnz2:      0    8     3.415\n",
       "from bnz12:     0    8    10.567\n",
       "from bnz1:      0    9     3.893\n",
       "from bnz2:      0    9     3.893\n",
       "from bnz12:     0    9    10.731\n",
       "from bnz1:      0   10     3.415\n",
       "from bnz2:      0   10     3.415\n",
       "from bnz12:     0   10    10.567\n",
       "from bnz1:      0   11     2.162\n",
       "from bnz2:      0   11     2.162\n",
       "from bnz12:     0   11    10.231\n",
       "from bnz1:      1    2     1.403\n",
       "from bnz2:      1    2     1.403\n",
       "from bnz12:     1    2    10.098\n",
       "from bnz1:      1    3     2.430\n",
       "from bnz2:      1    3     2.430\n",
       "from bnz12:     1    3    10.291\n",
       "from bnz1:      1    4     2.805\n",
       "from bnz2:      1    4     2.805\n",
       "from bnz12:     1    4    10.386\n",
       "from bnz1:      1    5     2.430\n",
       "from bnz2:      1    5     2.430\n",
       "from bnz12:     1    5    10.291\n",
       "from bnz1:      1    6     2.162\n",
       "from bnz2:      1    6     2.162\n",
       "from bnz12:     1    6    10.231\n",
       "from bnz1:      1    7     1.088\n",
       "from bnz2:      1    7     1.088\n",
       "from bnz12:     1    7    10.059\n",
       "from bnz1:      1    8     2.162\n",
       "from bnz2:      1    8     2.162\n",
       "from bnz12:     1    8    10.231\n",
       "from bnz1:      1    9     3.415\n",
       "from bnz2:      1    9     3.415\n",
       "from bnz12:     1    9    10.567\n",
       "from bnz1:      1   10     3.893\n",
       "from bnz2:      1   10     3.893\n",
       "from bnz12:     1   10    10.731\n",
       "from bnz1:      1   11     3.415\n",
       "from bnz2:      1   11     3.415\n",
       "from bnz12:     1   11    10.567\n",
       "from bnz1:      2    3     1.403\n",
       "from bnz2:      2    3     1.403\n",
       "from bnz12:     2    3    10.098\n",
       "from bnz1:      2    4     2.430\n",
       "from bnz2:      2    4     2.430\n",
       "from bnz12:     2    4    10.291\n",
       "from bnz1:      2    5     2.805\n",
       "from bnz2:      2    5     2.805\n",
       "from bnz12:     2    5    10.386\n",
       "from bnz1:      2    6     3.415\n",
       "from bnz2:      2    6     3.415\n",
       "from bnz12:     2    6    10.567\n",
       "from bnz1:      2    7     2.162\n",
       "from bnz2:      2    7     2.162\n",
       "from bnz12:     2    7    10.231\n",
       "from bnz1:      2    8     1.088\n",
       "from bnz2:      2    8     1.088\n",
       "from bnz12:     2    8    10.059\n",
       "from bnz1:      2    9     2.162\n",
       "from bnz2:      2    9     2.162\n",
       "from bnz12:     2    9    10.231\n",
       "from bnz1:      2   10     3.415\n",
       "from bnz2:      2   10     3.415\n",
       "from bnz12:     2   10    10.567\n",
       "from bnz1:      2   11     3.893\n",
       "from bnz2:      2   11     3.893\n",
       "from bnz12:     2   11    10.731\n",
       "from bnz1:      3    4     1.403\n",
       "from bnz2:      3    4     1.403\n",
       "from bnz12:     3    4    10.098\n",
       "from bnz1:      3    5     2.430\n",
       "from bnz2:      3    5     2.430\n",
       "from bnz12:     3    5    10.291\n",
       "from bnz1:      3    6     3.893\n",
       "from bnz2:      3    6     3.893\n",
       "from bnz12:     3    6    10.731\n",
       "from bnz1:      3    7     3.415\n",
       "from bnz2:      3    7     3.415\n",
       "from bnz12:     3    7    10.567\n",
       "from bnz1:      3    8     2.162\n",
       "from bnz2:      3    8     2.162\n",
       "from bnz12:     3    8    10.231\n",
       "from bnz1:      3    9     1.088\n",
       "from bnz2:      3    9     1.088\n",
       "from bnz12:     3    9    10.059\n",
       "from bnz1:      3   10     2.162\n",
       "from bnz2:      3   10     2.162\n",
       "from bnz12:     3   10    10.231\n",
       "from bnz1:      3   11     3.415\n",
       "from bnz2:      3   11     3.415\n",
       "from bnz12:     3   11    10.567\n",
       "from bnz1:      4    5     1.403\n",
       "from bnz2:      4    5     1.403\n",
       "from bnz12:     4    5    10.098\n",
       "from bnz1:      4    6     3.415\n",
       "from bnz2:      4    6     3.415\n",
       "from bnz12:     4    6    10.567\n",
       "from bnz1:      4    7     3.893\n",
       "from bnz2:      4    7     3.893\n",
       "from bnz12:     4    7    10.731\n",
       "from bnz1:      4    8     3.415\n",
       "from bnz2:      4    8     3.415\n",
       "from bnz12:     4    8    10.567\n",
       "from bnz1:      4    9     2.162\n",
       "from bnz2:      4    9     2.162\n",
       "from bnz12:     4    9    10.231\n",
       "from bnz1:      4   10     1.088\n",
       "from bnz2:      4   10     1.088\n",
       "from bnz12:     4   10    10.059\n",
       "from bnz1:      4   11     2.162\n",
       "from bnz2:      4   11     2.162\n",
       "from bnz12:     4   11    10.231\n",
       "from bnz1:      5    6     2.162\n",
       "from bnz2:      5    6     2.162\n",
       "from bnz12:     5    6    10.231\n",
       "from bnz1:      5    7     3.415\n",
       "from bnz2:      5    7     3.415\n",
       "from bnz12:     5    7    10.567\n",
       "from bnz1:      5    8     3.893\n",
       "from bnz2:      5    8     3.893\n",
       "from bnz12:     5    8    10.731\n",
       "from bnz1:      5    9     3.415\n",
       "from bnz2:      5    9     3.415\n",
       "from bnz12:     5    9    10.567\n",
       "from bnz1:      5   10     2.162\n",
       "from bnz2:      5   10     2.162\n",
       "from bnz12:     5   10    10.231\n",
       "from bnz1:      5   11     1.088\n",
       "from bnz2:      5   11     1.088\n",
       "from bnz12:     5   11    10.059\n",
       "from bnz1:      6    7     2.490\n",
       "from bnz2:      6    7     2.490\n",
       "from bnz12:     6    7    10.305\n",
       "from bnz1:      6    8     4.313\n",
       "from bnz2:      6    8     4.313\n",
       "from bnz12:     6    8    10.891\n",
       "from bnz1:      6    9     4.981\n",
       "from bnz2:      6    9     4.981\n",
       "from bnz12:     6    9    11.172\n",
       "from bnz1:      6   10     4.313\n",
       "from bnz2:      6   10     4.313\n",
       "from bnz12:     6   10    10.891\n",
       "from bnz1:      6   11     2.490\n",
       "from bnz2:      6   11     2.490\n",
       "from bnz12:     6   11    10.305\n",
       "from bnz1:      7    8     2.490\n",
       "from bnz2:      7    8     2.490\n",
       "from bnz12:     7    8    10.305\n",
       "from bnz1:      7    9     4.313\n",
       "from bnz2:      7    9     4.313\n",
       "from bnz12:     7    9    10.891\n",
       "from bnz1:      7   10     4.981\n",
       "from bnz2:      7   10     4.981\n",
       "from bnz12:     7   10    11.172\n",
       "from bnz1:      7   11     4.313\n",
       "from bnz2:      7   11     4.313\n",
       "from bnz12:     7   11    10.891\n",
       "from bnz1:      8    9     2.490\n",
       "from bnz2:      8    9     2.490\n",
       "from bnz12:     8    9    10.305\n",
       "from bnz1:      8   10     4.313\n",
       "from bnz2:      8   10     4.313\n",
       "from bnz12:     8   10    10.891\n",
       "from bnz1:      8   11     4.981\n",
       "from bnz2:      8   11     4.981\n",
       "from bnz12:     8   11    11.172\n",
       "from bnz1:      9   10     2.490\n",
       "from bnz2:      9   10     2.490\n",
       "from bnz12:     9   10    10.305\n",
       "from bnz1:      9   11     4.313\n",
       "from bnz2:      9   11     4.313\n",
       "from bnz12:     9   11    10.891\n",
       "from bnz1:     10   11     2.490\n",
       "from bnz2:     10   11     2.490\n",
       "from bnz12:    10   11    10.305\n"
      ]
     },
     "execution_count": 20,
     "metadata": {},
     "output_type": "execute_result"
    }
   ],
   "source": [
    "foreach my $iv (0 .. $#vecs1){\n",
    "    foreach my $jv ($iv+1 .. $#vecs1){\n",
    "        printf(\"from bnz1:  %5i%5i%10.3f\\n\",$iv, $jv, abs($vecs1[$iv]-$vecs1[$jv]));\n",
    "        printf(\"from bnz2:  %5i%5i%10.3f\\n\",$iv, $jv, abs($vecs2[$iv]-$vecs2[$jv]));\n",
    "        printf(\"from bnz12: %5i%5i%10.3f\\n\",$iv, $jv, abs($vecs1[$iv]-$vecs2[$jv]));\n",
    "    }\n",
    "}"
   ]
  },
  {
   "cell_type": "markdown",
   "metadata": {},
   "source": [
    "If we print out the xyz files for the three benzene objects, "
   ]
  },
  {
   "cell_type": "code",
   "execution_count": 18,
   "metadata": {
    "collapsed": false
   },
   "outputs": [
    {
     "data": {
      "text/plain": [
       "12\n",
       "\n",
       "  C   0.000000   1.402720   0.000000\n",
       "  C  -1.214790   0.701360   0.000000\n",
       "  C  -1.214790  -0.701360   0.000000\n",
       "  C   0.000000  -1.402720   0.000000\n",
       "  C   1.214790  -0.701360   0.000000\n",
       "  C   1.214790   0.701360   0.000000\n",
       "  H   0.000000   2.490290   0.000000\n",
       "  H  -2.156660   1.245150   0.000000\n",
       "  H  -2.156660  -1.245150   0.000000\n",
       "  H   0.000000  -2.490290   0.000000\n",
       "  H   2.156660  -1.245150   0.000000\n",
       "  H   2.156660   1.245150   0.000000\n",
       "12\n",
       "\n",
       "  C   0.000000   1.402720   0.000000\n",
       "  C  -1.214790   0.701360   0.000000\n",
       "  C  -1.214790  -0.701360   0.000000\n",
       "  C   0.000000  -1.402720   0.000000\n",
       "  C   1.214790  -0.701360   0.000000\n",
       "  C   1.214790   0.701360   0.000000\n",
       "  H   0.000000   2.490290   0.000000\n",
       "  H  -2.156660   1.245150   0.000000\n",
       "  H  -2.156660  -1.245150   0.000000\n",
       "  H   0.000000  -2.490290   0.000000\n",
       "  H   2.156660  -1.245150   0.000000\n",
       "  H   2.156660   1.245150   0.000000\n",
       "12\n",
       "\n",
       "  C   0.000000   1.402720   0.000000\n",
       "  C  -1.214790   0.701360   0.000000\n",
       "  C  -1.214790  -0.701360   0.000000\n",
       "  C   0.000000  -1.402720   0.000000\n",
       "  C   1.214790  -0.701360   0.000000\n",
       "  C   1.214790   0.701360   0.000000\n",
       "  H   0.000000   2.490290   0.000000\n",
       "  H  -2.156660   1.245150   0.000000\n",
       "  H  -2.156660  -1.245150   0.000000\n",
       "  H   0.000000  -2.490290   0.000000\n",
       "  H   2.156660  -1.245150   0.000000\n",
       "  H   2.156660   1.245150   0.000000\n"
      ]
     },
     "execution_count": 18,
     "metadata": {},
     "output_type": "execute_result"
    },
    {
     "name": "stderr",
     "output_type": "stream",
     "text": [
      "1\n"
     ]
    }
   ],
   "source": [
    "$bnz1->print_xyz;\n",
    "$bnz2->print_xyz;\n",
    "$bnz3->print_xyz;"
   ]
  },
  {
   "cell_type": "markdown",
   "metadata": {},
   "source": [
    "we see that the coordinates within the HackaMol::Molecule have not changed; thus, the vectors above are copied in the map into new, distinct memory locations.  In the following exercises, we will play around with the information and coordinates within the HackaMol objects."
   ]
  },
  {
   "cell_type": "markdown",
   "metadata": {},
   "source": [
    "### Exercise. The HackaMol molecule has some methods that are useful for interacting with the atomic data.\n",
    "\n",
    "Here is a list of methods to try here:\n",
    "    1. print_xyz\n",
    "    2. print_pdb\n",
    "    3. COM\n",
    "    4. total_mass\n",
    "    5. all_atoms\n",
    "    6. get_atoms(0) to get the first atom\n",
    "    7. translate\n",
    "    8. rotate\n",
    "    9. bin_atoms_name\n",
    " \n",
    "Each can be invoked as follows:\n",
    "\n",
    "$benzene->method"
   ]
  },
  {
   "cell_type": "code",
   "execution_count": 22,
   "metadata": {
    "collapsed": false
   },
   "outputs": [
    {
     "name": "stderr",
     "output_type": "stream",
     "text": [
      "C6H6\n"
     ]
    }
   ],
   "source": [
    "$bnz1->bin_atoms_name"
   ]
  },
  {
   "cell_type": "code",
   "execution_count": 25,
   "metadata": {
    "collapsed": false
   },
   "outputs": [
    {
     "name": "stderr",
     "output_type": "stream",
     "text": [
      "HgC5H6\n"
     ]
    },
    {
     "ename": "Warning",
     "evalue": "cleaning atom attributes for in place change. setting atom->is_dirty at reply input line 1.\n",
     "output_type": "error",
     "traceback": [
      "cleaning atom attributes for in place change. setting atom->is_dirty at reply input line 1.\n"
     ]
    }
   ],
   "source": [
    "$bnz1->get_atoms(1)->change_Z(80);\n",
    "$bnz1->bin_atoms_name;"
   ]
  },
  {
   "cell_type": "markdown",
   "metadata": {},
   "source": [
    "### Exercise. Use the translate method to translate your molecule along the z-axis.  Use the print_xyz method to see the result and then translate it back so that the center of mass is at (0,0,0);\n",
    "\n",
    "\\$mol->translate(-1 * $mol->COM);\n"
   ]
  },
  {
   "cell_type": "code",
   "execution_count": null,
   "metadata": {
    "collapsed": true
   },
   "outputs": [],
   "source": []
  },
  {
   "cell_type": "markdown",
   "metadata": {},
   "source": [
    "### Exercise. Create a line of 21 mercury atoms perpendicular to the plane of the benzene molecule, spanning 10 angstroms above and below the plane of the molecule."
   ]
  },
  {
   "cell_type": "code",
   "execution_count": 5,
   "metadata": {
    "collapsed": false
   },
   "outputs": [],
   "source": [
    "my $vec1 = $benzene->get_atoms(0)->xyz - $benzene->COM ;  # vector to COM\n",
    "my $vec2 = $benzene->get_atoms(2)->xyz - $benzene->COM ;  # vector to COM\n",
    "\n",
    "my $perp_vec = ($vec1 x $vec2) -> versor;\n",
    " \n",
    "$benzene->push_atoms( HackaMol::Atom->new(symbol => 'Hg', coords => [$_*0.5*$perp_vec ] ) ) foreach -10 .. 10;"
   ]
  },
  {
   "cell_type": "code",
   "execution_count": 6,
   "metadata": {
    "collapsed": false
   },
   "outputs": [
    {
     "data": {
      "text/plain": [
       "33\n",
       "\n",
       "  C   0.000000   1.402720   0.000000\n",
       "  H   0.000000   2.490290   0.000000\n",
       "  C  -1.214790   0.701360   0.000000\n",
       "  H  -2.156660   1.245150   0.000000\n",
       "  C  -1.214790  -0.701360   0.000000\n",
       "  H  -2.156660  -1.245150   0.000000\n",
       "  C   0.000000  -1.402720   0.000000\n",
       "  H   0.000000  -2.490290   0.000000\n",
       "  C   1.214790  -0.701360   0.000000\n",
       "  H   2.156660  -1.245150   0.000000\n",
       "  C   1.214790   0.701360   0.000000\n",
       "  H   2.156660   1.245150   0.000000\n",
       " Hg  -0.000000   0.000000  -5.000000\n",
       " Hg  -0.000000   0.000000  -4.500000\n",
       " Hg  -0.000000   0.000000  -4.000000\n",
       " Hg  -0.000000   0.000000  -3.500000\n",
       " Hg  -0.000000   0.000000  -3.000000\n",
       " Hg  -0.000000   0.000000  -2.500000\n",
       " Hg  -0.000000   0.000000  -2.000000\n",
       " Hg  -0.000000   0.000000  -1.500000\n",
       " Hg  -0.000000   0.000000  -1.000000\n",
       " Hg  -0.000000   0.000000  -0.500000\n",
       " Hg   0.000000  -0.000000   0.000000\n",
       " Hg   0.000000  -0.000000   0.500000\n",
       " Hg   0.000000  -0.000000   1.000000\n",
       " Hg   0.000000  -0.000000   1.500000\n",
       " Hg   0.000000  -0.000000   2.000000\n",
       " Hg   0.000000  -0.000000   2.500000\n",
       " Hg   0.000000  -0.000000   3.000000\n",
       " Hg   0.000000  -0.000000   3.500000\n",
       " Hg   0.000000  -0.000000   4.000000\n",
       " Hg   0.000000  -0.000000   4.500000\n",
       " Hg   0.000000  -0.000000   5.000000\n"
      ]
     },
     "execution_count": 6,
     "metadata": {},
     "output_type": "execute_result"
    },
    {
     "name": "stderr",
     "output_type": "stream",
     "text": [
      "1\n"
     ]
    }
   ],
   "source": [
    "$benzene->print_xyz; 1;"
   ]
  },
  {
   "cell_type": "code",
   "execution_count": null,
   "metadata": {
    "collapsed": true
   },
   "outputs": [],
   "source": []
  }
 ],
 "metadata": {
  "kernelspec": {
   "display_name": "IPerl 0.006",
   "language": "perl",
   "name": "iperl"
  },
  "language_info": {
   "file_extension": ".pl",
   "mimetype": "text/x-perl",
   "name": "perl",
   "version": "5.20.2"
  }
 },
 "nbformat": 4,
 "nbformat_minor": 0
}
