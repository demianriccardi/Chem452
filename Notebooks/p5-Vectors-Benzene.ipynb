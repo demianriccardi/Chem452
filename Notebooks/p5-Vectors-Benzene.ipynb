{
 "cells": [
  {
   "cell_type": "code",
   "execution_count": 1,
   "metadata": {
    "collapsed": true
   },
   "outputs": [],
   "source": [
    "use Modern::Perl;\n",
    "use Math::Vector::Real;"
   ]
  },
  {
   "cell_type": "markdown",
   "metadata": {
    "collapsed": true
   },
   "source": [
    "## Ability to work with vectors is prerequisite to carrying out structural analysis of biological molecules.\n",
    "At a given temperature, pressure, and molar constitution $G(T,P,n_1,n_2 ... )$, a biological molecule (or collection of molecules) has a space of available conformations or configurations that may be large ($S=k\\ln W$).  If you were to carry out a molecular dynamics simulation (which we will come back to later), you would most likely prepare your system using a single structure provided by X-ray crystallography or NMR spectroscopy, solvate your system in water (maybe with salt ions), and then add some heat so that it wiggles about.  \n",
    "\n",
    "#### Mental exercise: \n",
    "Before going an further.  Take look at the PDB file for a mutant of T4 Lysozyme [PDBID: 1L54](http://www.rcsb.org/pdb/files/1L54.pdb). Find the lines of coordinates that also contain additional meta data (what is this \"metadata\").  Load PDB 1l54 into VMD and imagine it wiggling about.  Imagine it unfolding.\n",
    "\n",
    "### Lab exercise: Fun with coordinates and vectors\n",
    "You can represent the structure of a biomolecule as a collection of atoms, each with it set of cartesian coordinates (x, y, and z).  In a PDB file, each atom has some extra information associated with it (e.g. the atom type, the residue to which it belongs, etc).  All this extra information is where the story telling comes in, all the rigorous analysis is in the handling of the coordinates, which can be treated as vectors.\n",
    "\n",
    "In this notebook, you will work with the coordinates of benzene (C6H6) to learn how to carry out analysis with vectors. First, let's strip down all the information to represent benzene as a set of vectors (all in Angstroms):\n",
    "         \n",
    "     V(x,                y,               z)\n",
    " 0.    V( 0.00000,        1.40272,        0.00000) \n",
    " 1.    V(-1.21479,        0.70136,        0.00000)\n",
    " 2.    V(-1.21479,       -0.70136,        0.00000)\n",
    " 3.    V( 0.00000,       -1.40272,        0.00000)\n",
    " 4.    V( 1.21479,       -0.70136,        0.00000)\n",
    " 5.    V( 1.21479,        0.70136,        0.00000)\n",
    " 6.    V( 0.00000,        2.49029,        0.00000)\n",
    " 7.    V(-2.15666,        1.24515,        0.00000)\n",
    " 8.    V(-2.15666,       -1.24515,        0.00000)\n",
    " 9.    V( 0.00000,       -2.49029,        0.00000)\n",
    " 10.   V( 2.15666,       -1.24515,        0.00000)\n",
    " 11.   V( 2.15666,        1.24515,        0.00000)\n",
    "\n",
    "That is, the coordinates of each atom is the x,y and z components of a vector extending from the origin (0,0,0) to the center of the atom.  Use the information above to answer these questions:\n",
    "\n",
    "    1. How is the ring oriented?\n",
    "    2. Where is the center of the ring?\n",
    "    3. Which vectors correspond to H atoms and which to C atoms?\n",
    "    4. What is the origin for the coordinates?\n",
    "    5. What would happen to the coordinates if you shifted the molecule from the origin in the Z direction by 10 angstroms?\n",
    "    \n",
    "Vectors are fun to work with. A vector has magnitude and direction. You should be able to answer the above questions using vector subtraction and addition, which we will review here. All of the above vectors can be written in a general form:\n",
    "\n",
    "$\\vec{R} =  R_x \\hat{x} + R_y \\hat{y} + R_z \\hat{z} $\n",
    "\n",
    "where the vector ($\\vec{R}$) is written using scaled unit vectors pointing along the axes of the system ($\\hat{x},\\hat{y}, \\hat{z}$). A unit vector has a magnitude of 1.0, and it labeled here with the ^ symbol.  For example, $\\hat{R}$ would be a unit vector pointing the same direction as $\\vec{R}$.  The three unit vectors ($\\hat{x},\\hat{y}, \\hat{z}$) provide the basis vectors of the system: any vector in this space can be represented by the addition of the scaled unit vectors! The scaling of the unit vectors is accomplished from the coefficients ($R_x, R_y, R_z$). Does this make sense?  Draw some two-dimensional vectors to convince yourself.\n",
    "\n",
    "Vector subtraction,\n",
    "\n",
    "$\\vec{R_1} - \\vec{R_2} =  (R_{x1} - R_{x2})\\hat{x} + (R_{y1} - R_{y2})\\hat{y} + (R_{z1}- R_{z2})\\hat{z} $\n",
    "\n",
    "and addition, \n",
    "\n",
    "$\\vec{R_1} + \\vec{R_2} =  (R_{x1} + R_{x2})\\hat{x} + (R_{y1} + R_{y2})\\hat{y} + (R_{z1} + R_{z2})\\hat{z} $\n",
    "\n",
    "is accomplished using the coefficients of the unit vectors.   Thus, the coordinates of benzene, repr\n",
    "\n",
    "o let's start with those using the vectors 0. and 1. from above,\n",
    "\n",
    "$\\vec{V}_0 =  0.00000 \\hat{x} + 1.40272\\hat{y} + 0.00000 \\hat{z} $\n",
    "\n",
    "$\\vec{V}_1 = -1.21479 \\hat{x} + 0.70136\\hat{y} + 0.00000 \\hat{z} $\n",
    "\n",
    "Subracting $V_1$ from $V_0$, we find:\n",
    "\n",
    "$\\vec{V}_{0,1} = 1.21479 \\hat{x} + 0.70136\\hat{y} + 0.00000 \\hat{z}$\n",
    "\n",
    "The vector $\\vec{V}_{0,1}$ is that which connects the two points.  This would correspond to the bond vector between the two atoms if they were bonded!  Can we determine if the two vectors are bonded?  Not really because we no longer have any atomic information.  However, we do know this corresponds to benzene so we can hypothesize what atoms these correspond to! In Benzene, carbons are around 1.4 angstroms apart, due to conjugation.  Single bonded carbons around around 1.5 angstroms apart.  A carbon-hydrogen bond is closer to 1 angstrom.  So the question becomes, how to determine the magnitude of $\\vec{V}_{0,1}$? The magnitude will give us the distance between the points.  The magnitude of a vector can be calculated from the square root of the dot product (also called scalar product) of the vector with itself:\n",
    "\n",
    "$\\vec{V}_{0,1}\\cdot \\vec{V}_{0,1} =  1.21479^2 + 0.70136^2 + 0^2$\n",
    "\n",
    "Verify that this is correct by expanding out the multiplication and using the fact that the basis vectors are othonormal:\n",
    "\n",
    "$\\hat{x}\\cdot \\hat{x} = 1 = \\hat{y}\\cdot \\hat{y} = \\hat{z}\\cdot \\hat{z}$\n",
    "\n",
    "$\\hat{x}\\cdot \\hat{y} = 0 = \\hat{x}\\cdot \\hat{z} = \\hat{y}\\cdot \\hat{z}$\n",
    "\n",
    "$\\sqrt{\\vec{V}_{0,1}\\cdot \\vec{V}_{0,1}} = 1.402$ angstroms.\n",
    "\n",
    "I think now you have all you need to determine all your H atoms and C atom vectors.  Let's do it with Perl using the [Math::Vector::Real] (https://metacpan.org/pod/Math::Vector::Real) library that is loaded above.  You can load the documentation by opening the Math::Vector::Real clicking the link!"
   ]
  },
  {
   "cell_type": "markdown",
   "metadata": {},
   "source": [
    "### Some example code corresponding to the example above, which you can copy and paste into new cells."
   ]
  },
  {
   "cell_type": "code",
   "execution_count": 2,
   "metadata": {
    "collapsed": false
   },
   "outputs": [
    {
     "data": {
      "text/plain": [
       "displacement vector: {1.21479, 0.70136, 0}\n",
       "dot product: 1.9676205937\n",
       "distance: 1.40271900026342\n",
       "distance:1.40271900026342\n"
      ]
     },
     "execution_count": 2,
     "metadata": {},
     "output_type": "execute_result"
    },
    {
     "name": "stderr",
     "output_type": "stream",
     "text": [
      "1\n"
     ]
    }
   ],
   "source": [
    "# copy and paste two vectors V_0 and V_1 from above\n",
    "my $v0 = V( 0.00000, 1.40272, 0.00000);\n",
    "my $v1 = V(-1.21479, 0.70136, 0.00000);\n",
    "\n",
    "#find $v01 as above\n",
    "my $v01 = $v0 - $v1;\n",
    "say 'displacement vector: ', $v01;\n",
    "\n",
    "#find the dot product of $v01 with itself\n",
    "say 'dot product: ', $v01*$v01;\n",
    "\n",
    "#take the square root of the dot product to find the magnitude\n",
    "\n",
    "say 'distance: ', sqrt($v01*$v01);\n",
    "\n",
    "# or we can do it all in one move! \n",
    "say 'distance:', abs($v0-$v1);\n"
   ]
  },
  {
   "cell_type": "markdown",
   "metadata": {},
   "source": [
    "#### Exercise. attempt calculate the distance of displacement vectors to determine which atom is which."
   ]
  },
  {
   "cell_type": "code",
   "execution_count": null,
   "metadata": {
    "collapsed": true
   },
   "outputs": [],
   "source": []
  },
  {
   "cell_type": "markdown",
   "metadata": {},
   "source": [
    "#### Exercise. define a displacement vector that moves the molecule 10 angstroms in the Z direction.  Carry out this translation for each atom and then verify that it did nothing to the distances between the \"atoms\"."
   ]
  },
  {
   "cell_type": "code",
   "execution_count": null,
   "metadata": {
    "collapsed": true
   },
   "outputs": [],
   "source": []
  },
  {
   "cell_type": "markdown",
   "metadata": {},
   "source": [
    "####  Exercise.  Use scripting to calculate the distance between each pair of vectors! How many are there?  You can make an array of all the vectors, as I did below with repeats of the first two defined above.  You will need to use two loops (one nested within the other) to do this. I started this for you below with one loop)."
   ]
  },
  {
   "cell_type": "code",
   "execution_count": 3,
   "metadata": {
    "collapsed": false
   },
   "outputs": [
    {
     "data": {
      "text/plain": [
       "0\n",
       "1.40271900026342\n",
       "0\n",
       "1.40271900026342\n",
       "0\n",
       "1.40271900026342\n"
      ]
     },
     "execution_count": 3,
     "metadata": {},
     "output_type": "execute_result"
    }
   ],
   "source": [
    "my @vs = ($v0,$v1,$v0,$v1,$v0,$v1);\n",
    "foreach my $v (@vs){\n",
    "    say abs($v0 - $v);\n",
    "}"
   ]
  },
  {
   "cell_type": "markdown",
   "metadata": {},
   "source": [
    "#### Exercise. adjust your loops above to create a new array of distances.  Then use a grep to select for the distances that are less than 1.6 angstroms!  This is started for you below:"
   ]
  },
  {
   "cell_type": "code",
   "execution_count": 4,
   "metadata": {
    "collapsed": false
   },
   "outputs": [
    {
     "data": {
      "text/plain": [
       "0\n",
       "0\n",
       "0\n"
      ]
     },
     "execution_count": 4,
     "metadata": {},
     "output_type": "execute_result"
    }
   ],
   "source": [
    "my @vs = ($v0,$v1,$v0,$v1,$v0,$v1);\n",
    "my @dists ;\n",
    "foreach my $v (@vs){\n",
    "    push @dists, abs($v0 - $v);\n",
    "}\n",
    "\n",
    "say foreach grep {$_ < 1.0} @dists;"
   ]
  }
 ],
 "metadata": {
  "kernelspec": {
   "display_name": "IPerl 0.006",
   "language": "perl",
   "name": "iperl"
  },
  "language_info": {
   "file_extension": ".pl",
   "mimetype": "text/x-perl",
   "name": "perl",
   "version": "5.20.2"
  }
 },
 "nbformat": 4,
 "nbformat_minor": 0
}
