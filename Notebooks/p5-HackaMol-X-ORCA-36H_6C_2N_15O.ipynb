{
 "cells": [
  {
   "cell_type": "code",
   "execution_count": 2,
   "metadata": {
    "collapsed": false
   },
   "outputs": [
    {
     "name": "stderr",
     "output_type": "stream",
     "text": [
      "/Users/demianriccardi/perl5/apps/orca_3_0_3_macosx_openmpi165/\n"
     ]
    }
   ],
   "source": [
    "use Modern::Perl;\n",
    "use HackaMol;\n",
    "use HackaMol::X::Orca;\n",
    "\n",
    "my $orc_path = \"/Users/demianriccardi/perl5/apps/orca_3_0_3_macosx_openmpi165/\";"
   ]
  },
  {
   "cell_type": "code",
   "execution_count": 3,
   "metadata": {
    "collapsed": false
   },
   "outputs": [
    {
     "name": "stderr",
     "output_type": "stream",
     "text": [
      "HackaMol::X::Orca=HASH(0x7fdd2f423360)\n"
     ]
    }
   ],
   "source": [
    "my $orca = HackaMol::X::Orca->new(\n",
    "#      mol    => $mol,\n",
    "      #theory => 'PM3',\n",
    "      theory => 'HF-3c',\n",
    "      exe    => \"$orc_path/orca\",\n",
    "      scratch => 'tmp',\n",
    ");\n"
   ]
  },
  {
   "cell_type": "markdown",
   "metadata": {},
   "source": [
    "### 36H+6C+2N+15O → ??"
   ]
  },
  {
   "cell_type": "code",
   "execution_count": 4,
   "metadata": {
    "collapsed": false
   },
   "outputs": [
    {
     "name": "stderr",
     "output_type": "stream",
     "text": [
      "HackaMol=HASH(0x7fdd2f423138)\n"
     ]
    }
   ],
   "source": [
    "my $bldr = HackaMol->new;"
   ]
  },
  {
   "cell_type": "code",
   "execution_count": 5,
   "metadata": {
    "collapsed": false
   },
   "outputs": [
    {
     "name": "stderr",
     "output_type": "stream",
     "text": [
      "3\n"
     ]
    }
   ],
   "source": [
    "my $mol_H = $bldr->read_string_mol('H','zmat');\n",
    "$mol_H->push_charges(0);\n",
    "$mol_H->multiplicity(2);\n",
    "\n",
    "my $mol_C = $bldr->read_string_mol('C','zmat');\n",
    "$mol_C->push_charges(0);\n",
    "$mol_C->multiplicity(5);\n",
    "\n",
    "my $mol_N = $bldr->read_string_mol('N','zmat');\n",
    "$mol_N->push_charges(0);\n",
    "$mol_N->multiplicity(4);\n",
    "\n",
    "my $mol_O = $bldr->read_string_mol('O','zmat');\n",
    "$mol_O->push_charges(0);\n",
    "$mol_O->multiplicity(3);"
   ]
  },
  {
   "cell_type": "code",
   "execution_count": 6,
   "metadata": {
    "collapsed": false
   },
   "outputs": [
    {
     "data": {
      "text/plain": [
       "H -0.465915648675\n",
       "C -37.342542317013\n",
       "N -54.051647128495\n",
       "O -74.337083980325\n"
      ]
     },
     "execution_count": 6,
     "metadata": {},
     "output_type": "execute_result"
    }
   ],
   "source": [
    "$orca->mol($mol_H);\n",
    "my @h_ener = $orca->ener;\n",
    "say 'H '. $_ foreach @h_ener;\n",
    "\n",
    "$orca->mol($mol_C);\n",
    "my @c_ener = $orca->ener;\n",
    "say 'C '. $_ foreach @c_ener;\n",
    "\n",
    "$orca->mol($mol_N);\n",
    "my @n_ener = $orca->ener;\n",
    "say 'N '. $_ foreach @n_ener;\n",
    "\n",
    "$orca->mol($mol_O);\n",
    "my @o_ener = $orca->ener;\n",
    "say 'O '. $_ foreach @o_ener;\n",
    "\n"
   ]
  },
  {
   "cell_type": "code",
   "execution_count": 8,
   "metadata": {
    "collapsed": false
   },
   "outputs": [
    {
     "data": {
      "text/plain": [
       "the worst you can do is: -1463.987771 hartree\n"
      ]
     },
     "execution_count": 8,
     "metadata": {},
     "output_type": "execute_result"
    },
    {
     "name": "stderr",
     "output_type": "stream",
     "text": [
      "1\n"
     ]
    }
   ],
   "source": [
    "printf (\"the worst you can do is: %10.6f hartree\\n\", -(36*0.465915648675+6*37.342542317013+2*54.051647128495+15*74.337083980325));"
   ]
  },
  {
   "cell_type": "code",
   "execution_count": null,
   "metadata": {
    "collapsed": true
   },
   "outputs": [],
   "source": []
  }
 ],
 "metadata": {
  "kernelspec": {
   "display_name": "IPerl 0.006",
   "language": "perl",
   "name": "iperl"
  },
  "language_info": {
   "file_extension": ".pl",
   "mimetype": "text/x-perl",
   "name": "perl",
   "version": "5.20.2"
  }
 },
 "nbformat": 4,
 "nbformat_minor": 0
}
