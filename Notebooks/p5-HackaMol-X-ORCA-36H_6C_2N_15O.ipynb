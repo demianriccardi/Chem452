{
 "cells": [
  {
   "cell_type": "code",
   "execution_count": 1,
   "metadata": {
    "collapsed": false
   },
   "outputs": [
    {
     "name": "stderr",
     "output_type": "stream",
     "text": [
      "/Users/demianriccardi/perl5/apps/orca_3_0_3_macosx_openmpi165/\n"
     ]
    }
   ],
   "source": [
    "use Modern::Perl;\n",
    "use HackaMol;\n",
    "use HackaMol::X::Orca;\n",
    "\n",
    "my $orc_path = \"/Users/demianriccardi/perl5/apps/orca_3_0_3_macosx_openmpi165/\";"
   ]
  },
  {
   "cell_type": "code",
   "execution_count": 2,
   "metadata": {
    "collapsed": false
   },
   "outputs": [
    {
     "name": "stderr",
     "output_type": "stream",
     "text": [
      "HackaMol::X::Orca=HASH(0x7fada1a7d3b8)\n"
     ]
    }
   ],
   "source": [
    "my $orca = HackaMol::X::Orca->new(\n",
    "#      mol    => $mol,\n",
    "      #theory => 'PM3',\n",
    "      theory => 'HF-3c',\n",
    "      exe    => \"$orc_path/orca\",\n",
    "      scratch => 'tmp',\n",
    ");\n"
   ]
  },
  {
   "cell_type": "markdown",
   "metadata": {},
   "source": [
    "### 36H+6C+2N+15O → ??"
   ]
  },
  {
   "cell_type": "code",
   "execution_count": 5,
   "metadata": {
    "collapsed": false
   },
   "outputs": [
    {
     "name": "stderr",
     "output_type": "stream",
     "text": [
      "HackaMol=HASH(0x7fada68ebf08)\n"
     ]
    }
   ],
   "source": [
    "my $bldr = HackaMol->new;"
   ]
  },
  {
   "cell_type": "markdown",
   "metadata": {},
   "source": [
    "### Example from class\n",
    "H-C-C-H\n"
   ]
  },
  {
   "cell_type": "code",
   "execution_count": 9,
   "metadata": {
    "collapsed": false
   },
   "outputs": [
    {
     "name": "stderr",
     "output_type": "stream",
     "text": [
      "\n",
      "H\n",
      "C 1 1.10\n",
      "C 2 1.54 1 109.5\n",
      "H 3 1.10 2 109.5 1 180\n",
      "\n"
     ]
    }
   ],
   "source": [
    "my $hcch_zmat = '\n",
    "H\n",
    "C 1 1.10\n",
    "C 2 1.54 1 109.5\n",
    "H 3 1.10 2 109.5 1 180\n",
    "'; "
   ]
  },
  {
   "cell_type": "code",
   "execution_count": 10,
   "metadata": {
    "collapsed": false,
    "scrolled": false
   },
   "outputs": [
    {
     "name": "stderr",
     "output_type": "stream",
     "text": [
      "HackaMol::Molecule=HASH(0x7fada68ebbc0)\n"
     ]
    }
   ],
   "source": [
    "my $mol_hcch = $bldr->read_string_mol($hcch_zmat,'zmat');"
   ]
  },
  {
   "cell_type": "code",
   "execution_count": 11,
   "metadata": {
    "collapsed": false,
    "scrolled": true
   },
   "outputs": [
    {
     "data": {
      "text/plain": [
       "4\n",
       "\n",
       "  H   0.000000   0.000000   0.000000\n",
       "  C   1.100000   0.000000   0.000000\n",
       "  C   1.614063   1.451668   0.000000\n",
       "  H   2.714063   1.451668   0.000000\n"
      ]
     },
     "execution_count": 11,
     "metadata": {},
     "output_type": "execute_result"
    },
    {
     "name": "stderr",
     "output_type": "stream",
     "text": [
      "1\n"
     ]
    }
   ],
   "source": [
    "$mol_hcch->print_xyz;1;"
   ]
  },
  {
   "cell_type": "code",
   "execution_count": 17,
   "metadata": {
    "collapsed": false
   },
   "outputs": [
    {
     "name": "stderr",
     "output_type": "stream",
     "text": [
      "1\n"
     ]
    }
   ],
   "source": [
    "my $h3CCh3_zmat ='\n",
    "  H 0  0.000000   0.000000   0.000000\n",
    "  C 0  1.100000   0.000000   0.000000\n",
    "  C 0  1.614063   1.451668   0.000000\n",
    "  H 0  2.714063   1.451668   0.000000\n",
    "  H 2  1.1 3 109.5 1 120\n",
    "  H 2  1.1 3 109.5 1 240\n",
    "  H 3  1.1 2 109.5 4 120\n",
    "  H 3  1.1 2 109.5 4 240\n",
    "';\n",
    "$bldr->read_string_mol($h3CCh3_zmat,'zmat')->print_xyz('/Users/demianriccardi/shit3.xyz');1"
   ]
  },
  {
   "cell_type": "code",
   "execution_count": 18,
   "metadata": {
    "collapsed": false
   },
   "outputs": [
    {
     "name": "stderr",
     "output_type": "stream",
     "text": [
      "3\n"
     ]
    }
   ],
   "source": [
    "my $mol_H = $bldr->read_string_mol('H','zmat');\n",
    "$mol_H->push_charges(0);\n",
    "$mol_H->multiplicity(2);\n",
    "\n",
    "my $mol_C = $bldr->read_string_mol('C','zmat');\n",
    "$mol_C->push_charges(0);\n",
    "$mol_C->multiplicity(5);\n",
    "\n",
    "my $mol_N = $bldr->read_string_mol('N','zmat');\n",
    "$mol_N->push_charges(0);\n",
    "$mol_N->multiplicity(4);\n",
    "\n",
    "my $mol_O = $bldr->read_string_mol('O','zmat');\n",
    "$mol_O->push_charges(0);\n",
    "$mol_O->multiplicity(3);"
   ]
  },
  {
   "cell_type": "code",
   "execution_count": 19,
   "metadata": {
    "collapsed": false
   },
   "outputs": [
    {
     "data": {
      "text/plain": [
       "H -0.465915648675\n",
       "C -37.342542317013\n",
       "N -54.051647128495\n",
       "O -74.337083980325\n"
      ]
     },
     "execution_count": 19,
     "metadata": {},
     "output_type": "execute_result"
    }
   ],
   "source": [
    "$orca->mol($mol_H);\n",
    "my @h_ener = $orca->ener;\n",
    "say 'H '. $_ foreach @h_ener;\n",
    "\n",
    "$orca->mol($mol_C);\n",
    "my @c_ener = $orca->ener;\n",
    "say 'C '. $_ foreach @c_ener;\n",
    "\n",
    "$orca->mol($mol_N);\n",
    "my @n_ener = $orca->ener;\n",
    "say 'N '. $_ foreach @n_ener;\n",
    "\n",
    "$orca->mol($mol_O);\n",
    "my @o_ener = $orca->ener;\n",
    "say 'O '. $_ foreach @o_ener;\n",
    "\n"
   ]
  },
  {
   "cell_type": "code",
   "execution_count": 20,
   "metadata": {
    "collapsed": false
   },
   "outputs": [
    {
     "data": {
      "text/plain": [
       "the worst you can do is: -1463.987771 hartree\n"
      ]
     },
     "execution_count": 20,
     "metadata": {},
     "output_type": "execute_result"
    },
    {
     "name": "stderr",
     "output_type": "stream",
     "text": [
      "1\n"
     ]
    }
   ],
   "source": [
    "printf (\"the worst you can do is: %10.6f hartree\\n\", -(36*0.465915648675+6*37.342542317013+2*54.051647128495+15*74.337083980325));"
   ]
  },
  {
   "cell_type": "code",
   "execution_count": 21,
   "metadata": {
    "collapsed": false
   },
   "outputs": [
    {
     "name": "stderr",
     "output_type": "stream",
     "text": [
      "HackaMol::Molecule=HASH(0x7fada694b850)\n"
     ]
    }
   ],
   "source": [
    "my $mol_H6C2 = $bldr->read_string_mol($h3CCh3_zmat,'zmat');"
   ]
  },
  {
   "cell_type": "code",
   "execution_count": 26,
   "metadata": {
    "collapsed": false
   },
   "outputs": [
    {
     "data": {
      "text/plain": [
       "8\n",
       "\n",
       "  H   0.000000   0.000000   0.000000\n",
       "  C   1.100000   0.000000   0.000000\n",
       "  C   1.614063   1.451668   0.000000\n",
       "  H   2.714063   1.451668   0.000000\n",
       "  H   1.466145  -0.519189  -0.897987\n",
       "  H   1.466145  -0.519189   0.897987\n",
       "  H   1.247918   1.970857  -0.897987\n",
       "  H   1.247918   1.970857   0.897987\n"
      ]
     },
     "execution_count": 26,
     "metadata": {},
     "output_type": "execute_result"
    },
    {
     "name": "stderr",
     "output_type": "stream",
     "text": [
      "1\n"
     ]
    }
   ],
   "source": [
    "$mol_H6C2->print_xyz;\n",
    "$mol_H6C2->push_charges(0);\n",
    "$mol_H6C2->multiplicity(1);"
   ]
  },
  {
   "cell_type": "code",
   "execution_count": 27,
   "metadata": {
    "collapsed": false
   },
   "outputs": [
    {
     "data": {
      "text/plain": [
       "H6C2 -78.723318363547\n"
      ]
     },
     "execution_count": 27,
     "metadata": {},
     "output_type": "execute_result"
    }
   ],
   "source": [
    "$orca->mol($mol_H6C2);\n",
    "my @H6C2_ener = $orca->ener;\n",
    "say 'H6C2 '. $_ foreach @H6C2_ener;"
   ]
  },
  {
   "cell_type": "code",
   "execution_count": 29,
   "metadata": {
    "collapsed": false
   },
   "outputs": [
    {
     "data": {
      "text/plain": [
       "-1465.23051083747"
      ]
     },
     "execution_count": 29,
     "metadata": {},
     "output_type": "execute_result"
    },
    {
     "name": "stderr",
     "output_type": "stream",
     "text": [
      "1\n"
     ]
    }
   ],
   "source": [
    "print -1463.987771 +(2*37.342542317013+6*0.465915648675)-78.723318363547"
   ]
  },
  {
   "cell_type": "code",
   "execution_count": 30,
   "metadata": {
    "collapsed": false
   },
   "outputs": [
    {
     "data": {
      "text/plain": [
       "H6C2 -78.723318364031\n",
       "H6C2 -78.725056165258\n",
       "H6C2 -78.725219208484\n",
       "H6C2 -78.725233133405\n",
       "H6C2 -78.725235079035\n",
       "H6C2 -78.725235084071\n"
      ]
     },
     "execution_count": 30,
     "metadata": {},
     "output_type": "execute_result"
    }
   ],
   "source": [
    "my @H6C2_ener = $orca->opt;\n",
    "say 'H6C2 '. $_ foreach @H6C2_ener;"
   ]
  },
  {
   "cell_type": "code",
   "execution_count": 31,
   "metadata": {
    "collapsed": false
   },
   "outputs": [
    {
     "data": {
      "text/plain": [
       "-1465.232427558"
      ]
     },
     "execution_count": 31,
     "metadata": {},
     "output_type": "execute_result"
    },
    {
     "name": "stderr",
     "output_type": "stream",
     "text": [
      "1\n"
     ]
    }
   ],
   "source": [
    "print -1463.987771 +(2*37.342542317013+6*0.465915648675)-78.725235084071"
   ]
  },
  {
   "cell_type": "code",
   "execution_count": 32,
   "metadata": {
    "collapsed": false
   },
   "outputs": [
    {
     "name": "stderr",
     "output_type": "stream",
     "text": [
      "HackaMol::Molecule=HASH(0x7fada694e470)\n"
     ]
    }
   ],
   "source": [
    "my $mol2 = $orca->load_trj;"
   ]
  },
  {
   "cell_type": "code",
   "execution_count": 36,
   "metadata": {
    "collapsed": false
   },
   "outputs": [
    {
     "name": "stderr",
     "output_type": "stream",
     "text": [
      "1\n"
     ]
    },
    {
     "ename": "Warning",
     "evalue": "overwrite /Users/demianriccardi/shit3_opt.xyz at reply input line 2.\n",
     "output_type": "error",
     "traceback": [
      "overwrite /Users/demianriccardi/shit3_opt.xyz at reply input line 2.\n"
     ]
    }
   ],
   "source": [
    "$mol2->t(5);\n",
    "$mol2->print_xyz('/Users/demianriccardi/shit3_opt.xyz');1"
   ]
  },
  {
   "cell_type": "code",
   "execution_count": 37,
   "metadata": {
    "collapsed": false
   },
   "outputs": [
    {
     "name": "stderr",
     "output_type": "stream",
     "text": [
      "-75.510904955226-75.512459647214-75.512579948944-75.512580698344-75.512580701983\n"
     ]
    }
   ],
   "source": [
    "$orca->mol(\n",
    "            $bldr->read_string_mol(\n",
    "                '\n",
    "                    O \n",
    "                    H 1 0.95\n",
    "                    H 1 0.95 2 104.5\n",
    "                ', 'zmat'),\n",
    ");\n",
    "$orca->opt;"
   ]
  },
  {
   "cell_type": "code",
   "execution_count": 38,
   "metadata": {
    "collapsed": false
   },
   "outputs": [
    {
     "name": "stderr",
     "output_type": "stream",
     "text": [
      "HackaMol::Molecule=HASH(0x7fada497c218)\n"
     ]
    }
   ],
   "source": [
    "$mol2 = $orca->load_trj;"
   ]
  },
  {
   "cell_type": "code",
   "execution_count": 39,
   "metadata": {
    "collapsed": false
   },
   "outputs": [
    {
     "name": "stderr",
     "output_type": "stream",
     "text": [
      "1\n"
     ]
    }
   ],
   "source": [
    "$mol2->t(4);\n",
    "$mol2->print_xyz('/Users/demianriccardi/h2o_opt.xyz');1"
   ]
  },
  {
   "cell_type": "code",
   "execution_count": 42,
   "metadata": {
    "collapsed": false
   },
   "outputs": [
    {
     "data": {
      "text/plain": [
       "-1468.88740892261"
      ]
     },
     "execution_count": 42,
     "metadata": {},
     "output_type": "execute_result"
    },
    {
     "name": "stderr",
     "output_type": "stream",
     "text": [
      "1\n"
     ]
    }
   ],
   "source": [
    "print -1463.987771 +(2*37.342542317013+36*0.465915648675+15*74.337083980325)-78.725235084071 -15*75.512580701983;"
   ]
  },
  {
   "cell_type": "markdown",
   "metadata": {},
   "source": [
    "### the amount of energy we have gained today by creating molecules:"
   ]
  },
  {
   "cell_type": "code",
   "execution_count": 44,
   "metadata": {
    "collapsed": false
   },
   "outputs": [
    {
     "data": {
      "text/plain": [
       "-3074.57179281689"
      ]
     },
     "execution_count": 44,
     "metadata": {},
     "output_type": "execute_result"
    },
    {
     "name": "stderr",
     "output_type": "stream",
     "text": [
      "1\n"
     ]
    }
   ],
   "source": [
    "print ((-1468.88740892261 +  1463.987771)*627.51)"
   ]
  },
  {
   "cell_type": "code",
   "execution_count": null,
   "metadata": {
    "collapsed": true
   },
   "outputs": [],
   "source": []
  }
 ],
 "metadata": {
  "kernelspec": {
   "display_name": "IPerl 0.006",
   "language": "perl",
   "name": "iperl"
  },
  "language_info": {
   "file_extension": ".pl",
   "mimetype": "text/x-perl",
   "name": "perl",
   "version": "5.20.2"
  }
 },
 "nbformat": 4,
 "nbformat_minor": 0
}
