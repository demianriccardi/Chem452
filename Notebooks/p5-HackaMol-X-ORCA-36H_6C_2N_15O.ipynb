{
 "cells": [
  {
   "cell_type": "code",
   "execution_count": 1,
   "metadata": {
    "collapsed": false
   },
   "outputs": [
    {
     "name": "stderr",
     "output_type": "stream",
     "text": [
      "/Users/demianriccardi/perl5/apps/orca_3_0_3_macosx_openmpi165/\n"
     ]
    }
   ],
   "source": [
    "use Modern::Perl;\n",
    "use HackaMol;\n",
    "use HackaMol::X::Orca;\n",
    "\n",
    "my $orc_path = \"/Users/demianriccardi/perl5/apps/orca_3_0_3_macosx_openmpi165/\";"
   ]
  },
  {
   "cell_type": "code",
   "execution_count": 16,
   "metadata": {
    "collapsed": false
   },
   "outputs": [
    {
     "name": "stderr",
     "output_type": "stream",
     "text": [
      "HackaMol::X::Orca=HASH(0x7fd13ff227f0)\n"
     ]
    }
   ],
   "source": [
    "my $orca = HackaMol::X::Orca->new(\n",
    "#      mol    => $mol,\n",
    "      #theory => 'PM3',\n",
    "      theory => 'HF-3c',\n",
    "      exe    => \"$orc_path/orca\",\n",
    "      scratch => 'tmp',\n",
    ");\n"
   ]
  },
  {
   "cell_type": "markdown",
   "metadata": {},
   "source": [
    "### 36H+6C+2N+15O → ??"
   ]
  },
  {
   "cell_type": "code",
   "execution_count": 4,
   "metadata": {
    "collapsed": false
   },
   "outputs": [
    {
     "name": "stderr",
     "output_type": "stream",
     "text": [
      "HackaMol=HASH(0x7fd1405ae4a8)\n"
     ]
    }
   ],
   "source": [
    "my $H = 'H'; # multiplicity 2\n",
    "my $C = 'C'; # multiplicity 5\n",
    "my $N = 'N'; # multiplicity 4\n",
    "my $O = 'O'; # multiplicity 3\n",
    "\n",
    "my $bldr = HackaMol->new;"
   ]
  },
  {
   "cell_type": "code",
   "execution_count": 18,
   "metadata": {
    "collapsed": false
   },
   "outputs": [
    {
     "name": "stderr",
     "output_type": "stream",
     "text": [
      "3\n"
     ]
    }
   ],
   "source": [
    "my $mol_H = $bldr->read_string_mol('H','zmat');\n",
    "$mol_H->push_charges(0);\n",
    "$mol_H->multiplicity(2);\n",
    "\n",
    "my $mol_C = $bldr->read_string_mol('C','zmat');\n",
    "$mol_C->push_charges(0);\n",
    "$mol_C->multiplicity(5);\n",
    "\n",
    "my $mol_N = $bldr->read_string_mol('N','zmat');\n",
    "$mol_N->push_charges(0);\n",
    "$mol_N->multiplicity(4);\n",
    "\n",
    "my $mol_O = $bldr->read_string_mol('O','zmat');\n",
    "$mol_O->push_charges(0);\n",
    "$mol_O->multiplicity(3);"
   ]
  },
  {
   "cell_type": "code",
   "execution_count": 19,
   "metadata": {
    "collapsed": false
   },
   "outputs": [
    {
     "data": {
      "text/plain": [
       "H -0.465915648675\n",
       "O -74.337083980324\n"
      ]
     },
     "execution_count": 19,
     "metadata": {},
     "output_type": "execute_result"
    },
    {
     "ename": "Warning",
     "evalue": "\"my\" variable @energies masks earlier declaration in same scope at reply input line 7.\n",
     "output_type": "error",
     "traceback": [
      "\"my\" variable @energies masks earlier declaration in same scope at reply input line 7.\n"
     ]
    }
   ],
   "source": [
    "$orca->mol($mol_H);\n",
    "my @energies = $orca->ener;\n",
    "say 'H '. $_ foreach @energies;\n",
    "\n",
    "\n",
    "$orca->mol($mol_O);\n",
    "my @energies = $orca->ener;\n",
    "say 'O '. $_ foreach @energies;"
   ]
  },
  {
   "cell_type": "code",
   "execution_count": 9,
   "metadata": {
    "collapsed": true
   },
   "outputs": [],
   "source": [
    "say foreach @energies;"
   ]
  },
  {
   "cell_type": "code",
   "execution_count": 13,
   "metadata": {
    "collapsed": false
   },
   "outputs": [
    {
     "name": "stderr",
     "output_type": "stream",
     "text": [
      "! PM3\n",
      "* xyz 0 1\n",
      "H     0.00000000   0.00000000   0.00000000\n",
      "*\n",
      "\n"
     ]
    }
   ],
   "source": [
    "`cat tmp/mol.inp`"
   ]
  },
  {
   "cell_type": "code",
   "execution_count": null,
   "metadata": {
    "collapsed": true
   },
   "outputs": [],
   "source": []
  }
 ],
 "metadata": {
  "kernelspec": {
   "display_name": "IPerl 0.006",
   "language": "perl",
   "name": "iperl"
  },
  "language_info": {
   "file_extension": ".pl",
   "mimetype": "text/x-perl",
   "name": "perl",
   "version": "5.20.2"
  }
 },
 "nbformat": 4,
 "nbformat_minor": 0
}
