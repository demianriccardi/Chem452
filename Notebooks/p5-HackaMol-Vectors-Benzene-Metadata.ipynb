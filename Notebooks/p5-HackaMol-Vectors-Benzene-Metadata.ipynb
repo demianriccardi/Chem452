{
 "cells": [
  {
   "cell_type": "code",
   "execution_count": 1,
   "metadata": {
    "collapsed": true
   },
   "outputs": [],
   "source": [
    "use Modern::Perl;\n",
    "use HackaMol;\n",
    "use Math::Vector::Real;"
   ]
  },
  {
   "cell_type": "markdown",
   "metadata": {
    "collapsed": true
   },
   "source": [
    "# Using HackaMol to work with atomic \"metadata\" and vectors for benzene.\n",
    "Suggested Prerequisites:\n",
    "\n",
    "1. This notebook builds directly from the [p5-Vectors-Benzene notebook](https://github.com/demianriccardi/EC-Chem452/blob/master/Notebooks/p5-Vectors-Benzene_2016_02_26.ipynb). \n",
    "\n",
    "2. This notebook uses the HackaMol library.  Please review the [Readme](https://github.com/demianriccardi/HackaMol) and the linked [HackaMol paper](https://www.researchgate.net/profile/Demian_Riccardi/publication/273778191_HackaMol_an_object-oriented_Modern_Perl_library_for_molecular_hacking_on_multiple_scales/links/550ebec60cf27526109e6ade.pdf) for additional information about the library.\n",
    "\n",
    "\n",
    "### Ability to work with vectors while maintaining a connection to the atomic metadata is prerequisite to carrying out structural analysis of biological molecules.\n",
    "At a given temperature, pressure, and molar constitution $G(T,P,n_1,n_2 ... )$, a biological molecule (or collection of molecules) has a space of available conformations or configurations that may be large ($S=k\\ln W$).  If you were to carry out a molecular dynamics simulation (which we will come back to later), you would most likely prepare your system using a single structure provided by X-ray crystallography or NMR spectroscopy, solvate your system in water (maybe with salt ions), and then add some heat so that it wiggles about.  \n",
    "\n",
    "#### Lab exercise: Fun with benzene atoms and coordinates using vector analysis\n",
    "I wrote the HackaMol library to make my computational life: easier, more fun, more sophisticated, and more reproducible.  HackaMol provides a molecular object system that packages atomic and molecular data into classes that have methods for interacting with the data.  In the previous exercise, we stripped benzene down to nothing but a a collection of 12 vectors.  Now we will add atomic information back to these vectors.  We'll call this information \"metadata\"; metadata is data that describes other data.  We can add such information to those 12 vectors to name atoms, add bonds, angles, dihedrals, all with names and information.   \n",
    "\n",
    "In this lab we will use benzene to interact with the hierarchy HackaMol classes: HackaMol::Molecule, HackaMol::AtomGroup, HackaMol::Bond, HackaMol::Angle, HackaMol of  HackaMol::Atom objects contain coordinates which are just Math::Vector::Real objects. Thus, all the analysis you carried out in the \n",
    "\n",
    "can be done with HackaMol, only now all the metadata will be retained. \n",
    "\n",
    "We will use [HackaMol](https://metacpan.org/pod/HackaMol) to mix the metadata back into the mix as we work with the atomic coordinates (vectors).  HackaMol defines a set of classes to make working with atoms and molecules more intuitive and fun.  \n",
    "\n",
    "#### Mental exercise: \n",
    "Before going an further.  Again, take a look at the PDB file for a mutant of T4 Lysozyme [PDBID: 1L54](http://www.rcsb.org/pdb/files/1L54.pdb). Find the lines of coordinates that also contain additional metadata. What are all the different types of metadata that you can see in this file?\n",
    "\n",
    "\n",
    "\n",
    "This notebook is still a work in progress. "
   ]
  },
  {
   "cell_type": "markdown",
   "metadata": {},
   "source": [
    "### Let's define a string (c6h6_xyz) that contains the xyz file description of a bdenzene molecule:"
   ]
  },
  {
   "cell_type": "code",
   "execution_count": 2,
   "metadata": {
    "collapsed": false,
    "scrolled": true
   },
   "outputs": [
    {
     "data": {
      "text/plain": [
       "  C        0.00000        1.40272        0.00000\n",
       "  H        0.00000        2.49029        0.00000\n",
       "  C       -1.21479        0.70136        0.00000\n",
       "  H       -2.15666        1.24515        0.00000\n",
       "  C       -1.21479       -0.70136        0.00000\n",
       "  H       -2.15666       -1.24515        0.00000\n",
       "  C        0.00000       -1.40272        0.00000\n",
       "  H        0.00000       -2.49029        0.00000\n",
       "  C        1.21479       -0.70136        0.00000\n",
       "  H        2.15666       -1.24515        0.00000\n",
       "  C        1.21479        0.70136        0.00000\n",
       "  H        2.15666        1.24515        0.00000\n"
      ]
     },
     "execution_count": 2,
     "metadata": {},
     "output_type": "execute_result"
    },
    {
     "name": "stderr",
     "output_type": "stream",
     "text": [
      "1\n"
     ]
    }
   ],
   "source": [
    "\n",
    "\n",
    "my $c6h6_xyz =\n",
    "'  C        0.00000        1.40272        0.00000\n",
    "  H        0.00000        2.49029        0.00000\n",
    "  C       -1.21479        0.70136        0.00000\n",
    "  H       -2.15666        1.24515        0.00000\n",
    "  C       -1.21479       -0.70136        0.00000\n",
    "  H       -2.15666       -1.24515        0.00000\n",
    "  C        0.00000       -1.40272        0.00000\n",
    "  H        0.00000       -2.49029        0.00000\n",
    "  C        1.21479       -0.70136        0.00000\n",
    "  H        2.15666       -1.24515        0.00000\n",
    "  C        1.21479        0.70136        0.00000\n",
    "  H        2.15666        1.24515        0.00000\n",
    "'; \n",
    "\n",
    "print $c6h6_xyz;\n"
   ]
  },
  {
   "cell_type": "markdown",
   "metadata": {},
   "source": [
    "### load the xyz file string into a HackaMol molecule object called benzene."
   ]
  },
  {
   "cell_type": "code",
   "execution_count": 3,
   "metadata": {
    "collapsed": false
   },
   "outputs": [
    {
     "name": "stderr",
     "output_type": "stream",
     "text": [
      "HackaMol::Molecule=HASH(0x7fed8cba6258)\n"
     ]
    }
   ],
   "source": [
    "my $benzene = HackaMol->new->read_string_mol($c6h6_xyz, 'xyz');"
   ]
  },
  {
   "cell_type": "markdown",
   "metadata": {},
   "source": [
    "$benzene is a HackaMol::Molecule that has some data and methods for interacting with the data.  let's dump it out to take a look at it's guts: "
   ]
  },
  {
   "cell_type": "code",
   "execution_count": 4,
   "metadata": {
    "collapsed": false
   },
   "outputs": [
    {
     "data": {
      "text/plain": [
       "$VAR1 = bless( {\n",
       "                 'name' => 'xyz.mol',\n",
       "                 'bonds' => [],\n",
       "                 'atoms' => [\n",
       "                              bless( {\n",
       "                                       'symbol' => 'C',\n",
       "                                       't' => 0,\n",
       "                                       'iatom' => 0,\n",
       "                                       'bond_count' => 0,\n",
       "                                       'coords' => [\n",
       "                                                     bless( [\n",
       "                                                              '0',\n",
       "                                                              '1.40272',\n",
       "                                                              '0'\n",
       "                                                            ], 'Math::Vector::Real' )\n",
       "                                                   ],\n",
       "                                       'name' => 'at0'\n",
       "                                     }, 'HackaMol::Atom' ),\n",
       "                              bless( {\n",
       "                                       't' => 0,\n",
       "                                       'bond_count' => 0,\n",
       "                                       'iatom' => 1,\n",
       "                                       'symbol' => 'H',\n",
       "                                       'name' => 'at1',\n",
       "                                       'coords' => [\n",
       "                                                     bless( [\n",
       "                                                              '0',\n",
       "                                                              '2.49029',\n",
       "                                                              '0'\n",
       "                                                            ], 'Math::Vector::Real' )\n",
       "                                                   ]\n",
       "                                     }, 'HackaMol::Atom' ),\n",
       "                              bless( {\n",
       "                                       'coords' => [\n",
       "                                                     bless( [\n",
       "                                                              '-1.21479',\n",
       "                                                              '0.70136',\n",
       "                                                              '0'\n",
       "                                                            ], 'Math::Vector::Real' )\n",
       "                                                   ],\n",
       "                                       'name' => 'at2',\n",
       "                                       'symbol' => 'C',\n",
       "                                       't' => 0,\n",
       "                                       'bond_count' => 0,\n",
       "                                       'iatom' => 2\n",
       "                                     }, 'HackaMol::Atom' ),\n",
       "                              bless( {\n",
       "                                       'coords' => [\n",
       "                                                     bless( [\n",
       "                                                              '-2.15666',\n",
       "                                                              '1.24515',\n",
       "                                                              '0'\n",
       "                                                            ], 'Math::Vector::Real' )\n",
       "                                                   ],\n",
       "                                       'name' => 'at3',\n",
       "                                       'symbol' => 'H',\n",
       "                                       't' => 0,\n",
       "                                       'iatom' => 3,\n",
       "                                       'bond_count' => 0\n",
       "                                     }, 'HackaMol::Atom' ),\n",
       "                              bless( {\n",
       "                                       'coords' => [\n",
       "                                                     bless( [\n",
       "                                                              '-1.21479',\n",
       "                                                              '-0.70136',\n",
       "                                                              '0'\n",
       "                                                            ], 'Math::Vector::Real' )\n",
       "                                                   ],\n",
       "                                       'name' => 'at4',\n",
       "                                       'symbol' => 'C',\n",
       "                                       't' => 0,\n",
       "                                       'bond_count' => 0,\n",
       "                                       'iatom' => 4\n",
       "                                     }, 'HackaMol::Atom' ),\n",
       "                              bless( {\n",
       "                                       'name' => 'at5',\n",
       "                                       'coords' => [\n",
       "                                                     bless( [\n",
       "                                                              '-2.15666',\n",
       "                                                              '-1.24515',\n",
       "                                                              '0'\n",
       "                                                            ], 'Math::Vector::Real' )\n",
       "                                                   ],\n",
       "                                       'iatom' => 5,\n",
       "                                       'bond_count' => 0,\n",
       "                                       't' => 0,\n",
       "                                       'symbol' => 'H'\n",
       "                                     }, 'HackaMol::Atom' ),\n",
       "                              bless( {\n",
       "                                       'coords' => [\n",
       "                                                     bless( [\n",
       "                                                              '0',\n",
       "                                                              '-1.40272',\n",
       "                                                              '0'\n",
       "                                                            ], 'Math::Vector::Real' )\n",
       "                                                   ],\n",
       "                                       'name' => 'at6',\n",
       "                                       'symbol' => 'C',\n",
       "                                       't' => 0,\n",
       "                                       'bond_count' => 0,\n",
       "                                       'iatom' => 6\n",
       "                                     }, 'HackaMol::Atom' ),\n",
       "                              bless( {\n",
       "                                       'name' => 'at7',\n",
       "                                       'coords' => [\n",
       "                                                     bless( [\n",
       "                                                              '0',\n",
       "                                                              '-2.49029',\n",
       "                                                              '0'\n",
       "                                                            ], 'Math::Vector::Real' )\n",
       "                                                   ],\n",
       "                                       'bond_count' => 0,\n",
       "                                       'iatom' => 7,\n",
       "                                       't' => 0,\n",
       "                                       'symbol' => 'H'\n",
       "                                     }, 'HackaMol::Atom' ),\n",
       "                              bless( {\n",
       "                                       'name' => 'at8',\n",
       "                                       'coords' => [\n",
       "                                                     bless( [\n",
       "                                                              '1.21479',\n",
       "                                                              '-0.70136',\n",
       "                                                              '0'\n",
       "                                                            ], 'Math::Vector::Real' )\n",
       "                                                   ],\n",
       "                                       't' => 0,\n",
       "                                       'bond_count' => 0,\n",
       "                                       'iatom' => 8,\n",
       "                                       'symbol' => 'C'\n",
       "                                     }, 'HackaMol::Atom' ),\n",
       "                              bless( {\n",
       "                                       'iatom' => 9,\n",
       "                                       'bond_count' => 0,\n",
       "                                       't' => 0,\n",
       "                                       'symbol' => 'H',\n",
       "                                       'name' => 'at9',\n",
       "                                       'coords' => [\n",
       "                                                     bless( [\n",
       "                                                              '2.15666',\n",
       "                                                              '-1.24515',\n",
       "                                                              '0'\n",
       "                                                            ], 'Math::Vector::Real' )\n",
       "                                                   ]\n",
       "                                     }, 'HackaMol::Atom' ),\n",
       "                              bless( {\n",
       "                                       'coords' => [\n",
       "                                                     bless( [\n",
       "                                                              '1.21479',\n",
       "                                                              '0.70136',\n",
       "                                                              '0'\n",
       "                                                            ], 'Math::Vector::Real' )\n",
       "                                                   ],\n",
       "                                       'name' => 'at10',\n",
       "                                       'symbol' => 'C',\n",
       "                                       't' => 0,\n",
       "                                       'bond_count' => 0,\n",
       "                                       'iatom' => 10\n",
       "                                     }, 'HackaMol::Atom' ),\n",
       "                              bless( {\n",
       "                                       'symbol' => 'H',\n",
       "                                       'iatom' => 11,\n",
       "                                       'bond_count' => 0,\n",
       "                                       't' => 0,\n",
       "                                       'coords' => [\n",
       "                                                     bless( [\n",
       "                                                              '2.15666',\n",
       "                                                              '1.24515',\n",
       "                                                              '0'\n",
       "                                                            ], 'Math::Vector::Real' )\n",
       "                                                   ],\n",
       "                                       'name' => 'at11'\n",
       "                                     }, 'HackaMol::Atom' )\n",
       "                            ],\n",
       "                 't' => 0\n",
       "               }, 'HackaMol::Molecule' );\n"
      ]
     },
     "execution_count": 4,
     "metadata": {},
     "output_type": "execute_result"
    },
    {
     "name": "stderr",
     "output_type": "stream",
     "text": [
      "1\n"
     ]
    }
   ],
   "source": [
    "print $benzene->dump;"
   ]
  },
  {
   "cell_type": "markdown",
   "metadata": {},
   "source": [
    "Looking at the dumped information, you can see that the molecule has a collection of atoms, each of which is a HackaMol::Atom, and each atom has coordinates, which are just Math::Vector::Real objects.  There are some other attributes that you will learn about as you progress."
   ]
  },
  {
   "cell_type": "markdown",
   "metadata": {},
   "source": [
    "### Exercise. The HackaMol molecule has some methods that are useful for interacting with the atomic data.\n",
    "\n",
    "Here is a list of methods to try here:\n",
    "    1. print_xyz\n",
    "    2. print_pdb\n",
    "    3. COM\n",
    "    4. total_mass\n",
    "    5. all_atoms\n",
    "    6. get_atoms(0) to get the first atom\n",
    " \n",
    "Each can be invoked as follows:\n",
    "\n",
    "$benzene->method"
   ]
  },
  {
   "cell_type": "code",
   "execution_count": null,
   "metadata": {
    "collapsed": true
   },
   "outputs": [],
   "source": []
  },
  {
   "cell_type": "markdown",
   "metadata": {},
   "source": [
    "### Exercise. Use the translate method to translate your molecule along the z-axis.  Use the print_xyz method to see the result and then translate it back so that the center of mass is at (0,0,0);\n",
    "\n",
    "\\$mol->translate(-1 * $mol->COM);\n"
   ]
  },
  {
   "cell_type": "code",
   "execution_count": null,
   "metadata": {
    "collapsed": true
   },
   "outputs": [],
   "source": []
  },
  {
   "cell_type": "markdown",
   "metadata": {},
   "source": [
    "### Exercise. Create a line of 21 mercury atoms perpendicular to the plane of the benzene molecule, spanning 10 angstroms above and below the plane of the molecule."
   ]
  },
  {
   "cell_type": "code",
   "execution_count": 5,
   "metadata": {
    "collapsed": false
   },
   "outputs": [],
   "source": [
    "my $vec1 = $benzene->get_atoms(0)->xyz - $benzene->COM ;  # vector to COM\n",
    "my $vec2 = $benzene->get_atoms(2)->xyz - $benzene->COM ;  # vector to COM\n",
    "\n",
    "my $perp_vec = ($vec1 x $vec2) -> versor;\n",
    " \n",
    "$benzene->push_atoms( HackaMol::Atom->new(symbol => 'Hg', coords => [$_*0.5*$perp_vec ] ) ) foreach -10 .. 10;"
   ]
  },
  {
   "cell_type": "code",
   "execution_count": 6,
   "metadata": {
    "collapsed": false
   },
   "outputs": [
    {
     "data": {
      "text/plain": [
       "33\n",
       "\n",
       "  C   0.000000   1.402720   0.000000\n",
       "  H   0.000000   2.490290   0.000000\n",
       "  C  -1.214790   0.701360   0.000000\n",
       "  H  -2.156660   1.245150   0.000000\n",
       "  C  -1.214790  -0.701360   0.000000\n",
       "  H  -2.156660  -1.245150   0.000000\n",
       "  C   0.000000  -1.402720   0.000000\n",
       "  H   0.000000  -2.490290   0.000000\n",
       "  C   1.214790  -0.701360   0.000000\n",
       "  H   2.156660  -1.245150   0.000000\n",
       "  C   1.214790   0.701360   0.000000\n",
       "  H   2.156660   1.245150   0.000000\n",
       " Hg  -0.000000   0.000000  -5.000000\n",
       " Hg  -0.000000   0.000000  -4.500000\n",
       " Hg  -0.000000   0.000000  -4.000000\n",
       " Hg  -0.000000   0.000000  -3.500000\n",
       " Hg  -0.000000   0.000000  -3.000000\n",
       " Hg  -0.000000   0.000000  -2.500000\n",
       " Hg  -0.000000   0.000000  -2.000000\n",
       " Hg  -0.000000   0.000000  -1.500000\n",
       " Hg  -0.000000   0.000000  -1.000000\n",
       " Hg  -0.000000   0.000000  -0.500000\n",
       " Hg   0.000000  -0.000000   0.000000\n",
       " Hg   0.000000  -0.000000   0.500000\n",
       " Hg   0.000000  -0.000000   1.000000\n",
       " Hg   0.000000  -0.000000   1.500000\n",
       " Hg   0.000000  -0.000000   2.000000\n",
       " Hg   0.000000  -0.000000   2.500000\n",
       " Hg   0.000000  -0.000000   3.000000\n",
       " Hg   0.000000  -0.000000   3.500000\n",
       " Hg   0.000000  -0.000000   4.000000\n",
       " Hg   0.000000  -0.000000   4.500000\n",
       " Hg   0.000000  -0.000000   5.000000\n"
      ]
     },
     "execution_count": 6,
     "metadata": {},
     "output_type": "execute_result"
    },
    {
     "name": "stderr",
     "output_type": "stream",
     "text": [
      "1\n"
     ]
    }
   ],
   "source": [
    "$benzene->print_xyz; 1;"
   ]
  },
  {
   "cell_type": "code",
   "execution_count": null,
   "metadata": {
    "collapsed": true
   },
   "outputs": [],
   "source": []
  }
 ],
 "metadata": {
  "kernelspec": {
   "display_name": "IPerl 0.006",
   "language": "perl",
   "name": "iperl"
  },
  "language_info": {
   "file_extension": ".pl",
   "mimetype": "text/x-perl",
   "name": "perl",
   "version": "5.20.2"
  }
 },
 "nbformat": 4,
 "nbformat_minor": 0
}
