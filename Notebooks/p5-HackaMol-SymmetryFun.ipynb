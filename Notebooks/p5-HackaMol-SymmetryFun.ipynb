{
 "cells": [
  {
   "cell_type": "markdown",
   "metadata": {},
   "source": [
    "## Inflating the biological assembly using symmetry operators\n",
    "A structure downloaded from the protein databank may not contain all the coordinates for the biological assembly.  This is often an issue for molecules that act as multimers.  In this notebook, we will pull a symmetry operation from the PDB, by hand, to generate the symmetry related coordinates. \n",
    "\n",
    "This will be implemented into HackaMol, to make easier.\n",
    "\n",
    "#### Author: Demian "
   ]
  },
  {
   "cell_type": "code",
   "execution_count": 1,
   "metadata": {
    "collapsed": false
   },
   "outputs": [
    {
     "name": "stderr",
     "output_type": "stream",
     "text": [
      "HackaMol::Molecule=HASH(0x7fb052e023c8)\n"
     ]
    },
    {
     "ename": "Warning",
     "evalue": "3RVY.pdb exists, set self->overwrite(1) to overwrite at /Users/riccade/perl5/perlbrew/perls/p5.22.1t/lib/site_perl/5.22.1/HackaMol.pm line 26.\n",
     "output_type": "error",
     "traceback": [
      "3RVY.pdb exists, set self->overwrite(1) to overwrite at /Users/riccade/perl5/perlbrew/perls/p5.22.1t/lib/site_perl/5.22.1/HackaMol.pm line 26.\n"
     ]
    }
   ],
   "source": [
    "use Modern::Perl;\n",
    "use HackaMol;\n",
    "use Math::Vector::Real;\n",
    "my $mol = HackaMol->new->pdbid_mol('3RVY'); "
   ]
  },
  {
   "cell_type": "markdown",
   "metadata": {},
   "source": [
    "### slice out the matrices, and displacement vectors into a datastructure"
   ]
  },
  {
   "cell_type": "code",
   "execution_count": 2,
   "metadata": {
    "collapsed": false,
    "scrolled": true
   },
   "outputs": [],
   "source": [
    "my $symops = '\n",
    "REMARK 350 APPLY THE FOLLOWING TO CHAINS: A, B                                  \n",
    "REMARK 350   BIOMT1   1  1.000000  0.000000  0.000000        0.00000            \n",
    "REMARK 350   BIOMT2   1  0.000000  1.000000  0.000000        0.00000            \n",
    "REMARK 350   BIOMT3   1  0.000000  0.000000  1.000000        0.00000            \n",
    "REMARK 350   BIOMT1   2 -1.000000  0.000000  0.000000     -125.59400            \n",
    "REMARK 350   BIOMT2   2  0.000000 -1.000000  0.000000     -125.48300            \n",
    "REMARK 350   BIOMT3   2  0.000000  0.000000  1.000000        0.00000    \n",
    "'; # from the pdb\n",
    "\n",
    "my %sym_op = (); # a hash to store them!\n",
    "foreach my $line ( grep {m/BIOMT/} split( '\\n' , $symops ) ){\n",
    "    my @entries = split(' ', $line);\n",
    "    push @{$sym_op{$entries[3]}}, V(@entries[4,5,6,7]);\n",
    "}\n",
    "#use Data::Dumper;\n",
    "#print Dumper \\%sym_op;"
   ]
  },
  {
   "cell_type": "code",
   "execution_count": 3,
   "metadata": {
    "collapsed": false
   },
   "outputs": [],
   "source": [
    "foreach my $symop (keys %sym_op){\n",
    "    my @mat_d = @{$sym_op{$symop}};\n",
    "    my $cx = V(map{$_->[0]} @mat_d); \n",
    "    my $cy = V(map{$_->[1]} @mat_d);\n",
    "    my $cz = V(map{$_->[2]} @mat_d);\n",
    "    my $dxyz = V(map{$_->[3]} @mat_d);\n",
    "    foreach my $atom ($mol->all_atoms){\n",
    "        my ($x,$y,$z) = @{$atom->xyz};\n",
    "        my $xyz_new = $x*$cx + $y*$cy + $z*$cz + $dxyz;  \n",
    "        $atom->push_coords($xyz_new);\n",
    "    }    \n",
    "}"
   ]
  },
  {
   "cell_type": "code",
   "execution_count": 4,
   "metadata": {
    "collapsed": false
   },
   "outputs": [
    {
     "name": "stderr",
     "output_type": "stream",
     "text": [
      "1\n"
     ]
    },
    {
     "ename": "Warning",
     "evalue": "overwrite 3RVY_1.pdb at reply input line 2.\n\noverwrite 3RVY_2.pdb at reply input line 4.\n",
     "output_type": "error",
     "traceback": [
      "overwrite 3RVY_1.pdb at reply input line 2.\n\noverwrite 3RVY_2.pdb at reply input line 4.\n"
     ]
    }
   ],
   "source": [
    "$mol->t(1);\n",
    "$mol->print_pdb('3RVY_1.pdb'); \n",
    "$mol->t(2);\n",
    "$mol->print_pdb('3RVY_2.pdb'); \n",
    "1;"
   ]
  },
  {
   "cell_type": "markdown",
   "metadata": {},
   "source": [
    "#### You may now load those two with \n",
    "$vmdpath/vmd -m 3RVY_1.pdb 3RVY_2.pdb"
   ]
  }
 ],
 "metadata": {
  "kernelspec": {
   "display_name": "IPerl 0.006",
   "language": "perl",
   "name": "iperl"
  },
  "language_info": {
   "file_extension": ".pl",
   "mimetype": "text/x-perl",
   "name": "perl",
   "version": "5.22.1"
  }
 },
 "nbformat": 4,
 "nbformat_minor": 0
}
