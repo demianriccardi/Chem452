{
 "cells": [
  {
   "cell_type": "code",
   "execution_count": 3,
   "metadata": {
    "collapsed": false
   },
   "outputs": [],
   "source": [
    "use Modern::Perl;\n",
    "use HackaMol;\n",
    "use HackaMol::Roles::SelectionRole;\n",
    "use Moose::Util qw(ensure_all_roles);"
   ]
  },
  {
   "cell_type": "code",
   "execution_count": 4,
   "metadata": {
    "collapsed": false
   },
   "outputs": [
    {
     "name": "stderr",
     "output_type": "stream",
     "text": [
      "HackaMol::Molecule=HASH(0x7fd641857dc0)\n"
     ]
    },
    {
     "ename": "Warning",
     "evalue": "2cba.pdb exists, set self->overwrite(1) to overwrite at /Users/demianriccardi/perl5/perlbrew/perls/perl-5.20.2t/lib/site_perl/5.20.2/HackaMol.pm line 26.\n",
     "output_type": "error",
     "traceback": [
      "2cba.pdb exists, set self->overwrite(1) to overwrite at /Users/demianriccardi/perl5/perlbrew/perls/perl-5.20.2t/lib/site_perl/5.20.2/HackaMol.pm line 26.\n"
     ]
    }
   ],
   "source": [
    "my $caii = HackaMol->new->pdbid_mol('2cba');"
   ]
  },
  {
   "cell_type": "code",
   "execution_count": 5,
   "metadata": {
    "collapsed": false
   },
   "outputs": [
    {
     "name": "stderr",
     "output_type": "stream",
     "text": [
      "Moose::Meta::Class::__ANON__::SERIAL::77=HASH(0x7fd641857dc0)\n"
     ]
    }
   ],
   "source": [
    "ensure_all_roles($caii, 'HackaMol::Roles::SelectionRole');"
   ]
  },
  {
   "cell_type": "code",
   "execution_count": 17,
   "metadata": {
    "collapsed": false
   },
   "outputs": [
    {
     "name": "stderr",
     "output_type": "stream",
     "text": [
      "HackaMol::AtomGroup=HASH(0x7fd640632360)\n"
     ]
    }
   ],
   "source": [
    "my $active_site = $caii->select_group(\"symbol Zn \n",
    "                                       .or. \n",
    "                                      (resname HIS \n",
    "                                       .and. \n",
    "                                       (resid 64 .or. resid 119 .or. resid 94 .or. resid 96)\n",
    "                                      ) .or. water\");"
   ]
  },
  {
   "cell_type": "code",
   "execution_count": 18,
   "metadata": {
    "collapsed": false
   },
   "outputs": [
    {
     "name": "stderr",
     "output_type": "stream",
     "text": [
      "1\n"
     ]
    },
    {
     "ename": "Warning",
     "evalue": "overwrite shit.xyz at reply input line 1.\n",
     "output_type": "error",
     "traceback": [
      "overwrite shit.xyz at reply input line 1.\n"
     ]
    }
   ],
   "source": [
    "$active_site->print_xyz('shit.xyz'); 1"
   ]
  },
  {
   "cell_type": "code",
   "execution_count": null,
   "metadata": {
    "collapsed": true
   },
   "outputs": [],
   "source": []
  }
 ],
 "metadata": {
  "kernelspec": {
   "display_name": "IPerl 0.006",
   "language": "perl",
   "name": "iperl"
  },
  "language_info": {
   "file_extension": ".pl",
   "mimetype": "text/x-perl",
   "name": "perl",
   "version": "5.20.2"
  }
 },
 "nbformat": 4,
 "nbformat_minor": 0
}
