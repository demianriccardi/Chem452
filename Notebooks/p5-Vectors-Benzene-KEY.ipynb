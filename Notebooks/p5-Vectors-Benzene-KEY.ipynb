{
 "cells": [
  {
   "cell_type": "code",
   "execution_count": 1,
   "metadata": {
    "collapsed": true
   },
   "outputs": [],
   "source": [
    "use Modern::Perl;\n",
    "use Math::Vector::Real;"
   ]
  },
  {
   "cell_type": "markdown",
   "metadata": {
    "collapsed": true
   },
   "source": [
    "## Ability to work with vectors is prerequisite to carrying out structural analysis of biological molecules.\n",
    "At a given temperature, pressure, and molar constitution $G(T,P,n_1,n_2 ... )$, a biological molecule (or collection of molecules) has a space of available conformations or configurations that may be large ($S=k\\ln W$).  If you were to carry out a molecular dynamics simulation (which we will come back to later), you would most likely prepare your system using a single structure provided by X-ray crystallography or NMR spectroscopy, solvate your system in water (maybe with salt ions), and then add some heat so that it wiggles about.  \n",
    "\n",
    "#### Mental exercise: \n",
    "Before going an further.  Take look at the PDB file for a mutant of T4 Lysozyme [PDBID: 1L54](http://www.rcsb.org/pdb/files/1L54.pdb). Find the lines of coordinates that also contain additional meta data (what is this \"metadata\").  Load PDB 1l54 into VMD and imagine it wiggling about.  Imagine it unfolding.\n",
    "\n",
    "### Lab exercise: Fun with coordinates and vectors\n",
    "You can represent the structure of a biomolecule as a collection of atoms, each with it set of cartesian coordinates (x, y, and z).  In a PDB file, each atom has some extra information associated with it (e.g. the atom type, the residue to which it belongs, etc).  All this extra information is where the story telling comes in, all the rigorous analysis is in the handling of the coordinates, which can be treated as vectors.\n",
    "\n",
    "In this notebook, you will work with the coordinates of benzene (C6H6) to learn how to carry out analysis with vectors. First, let's strip down all the information to represent benzene as a set of vectors (all in Angstroms):\n",
    "         \n",
    "     V(x,                y,               z)\n",
    " 0.    V( 0.00000,        1.40272,        0.00000) \n",
    " 1.    V(-1.21479,        0.70136,        0.00000)\n",
    " 2.    V(-1.21479,       -0.70136,        0.00000)\n",
    " 3.    V( 0.00000,       -1.40272,        0.00000)\n",
    " 4.    V( 1.21479,       -0.70136,        0.00000)\n",
    " 5.    V( 1.21479,        0.70136,        0.00000)\n",
    " 6.    V( 0.00000,        2.49029,        0.00000)\n",
    " 7.    V(-2.15666,        1.24515,        0.00000)\n",
    " 8.    V(-2.15666,       -1.24515,        0.00000)\n",
    " 9.    V( 0.00000,       -2.49029,        0.00000)\n",
    " 10.   V( 2.15666,       -1.24515,        0.00000)\n",
    " 11.   V( 2.15666,        1.24515,        0.00000)\n",
    "\n",
    "That is, the coordinates of each atom are the x,y and z components of a vector extending from the origin (0,0,0) to the center of the atom.  Use the information above to answer these questions:\n",
    "\n",
    "    1. How is the ring oriented?\n",
    "    2. Where is the center of the ring?\n",
    "    3. Which vectors correspond to H atoms and which to C atoms?\n",
    "    4. What is the origin for the coordinates?\n",
    "    5. What would happen to the coordinates if you shifted the molecule from the origin in the Z direction by 10 angstroms?\n",
    "    \n",
    "Vectors are fun to work with. A vector has magnitude and direction. You should be able to answer the above questions using vector subtraction and addition, which we will review here. All of the above vectors can be written in a general form:\n",
    "\n",
    "$\\vec{R} =  R_x \\hat{x} + R_y \\hat{y} + R_z \\hat{z} $\n",
    "\n",
    "where the vector ($\\vec{R}$) is written using scaled unit vectors pointing along the axes of the coordinate system ($\\hat{x},\\hat{y}, \\hat{z}$). A unit vector has a magnitude of 1.0, and it labeled here with the ^ symbol.  For example, $\\hat{R}$ would be a unit vector pointing the same direction as $\\vec{R}$.  The three unit vectors ($\\hat{x},\\hat{y}, \\hat{z}$) provide the basis vectors of the system: any vector in this space can be represented by the addition of the scaled unit vectors! The scaling of the unit vectors is accomplished from the coefficients ($R_x, R_y, R_z$). Does this make sense?  Draw some two-dimensional vectors to convince yourself.\n",
    "\n",
    "Vector subtraction,\n",
    "\n",
    "$\\vec{R_1} - \\vec{R_2} =  (R_{x1} - R_{x2})\\hat{x} + (R_{y1} - R_{y2})\\hat{y} + (R_{z1}- R_{z2})\\hat{z} $\n",
    "\n",
    "and addition, \n",
    "\n",
    "$\\vec{R_1} + \\vec{R_2} =  (R_{x1} + R_{x2})\\hat{x} + (R_{y1} + R_{y2})\\hat{y} + (R_{z1} + R_{z2})\\hat{z} $\n",
    "\n",
    "is accomplished using the coefficients of the unit vectors.   Thus, the coordinates of benzene, repr\n",
    "\n",
    "o let's start with those using the vectors 0. and 1. from above,\n",
    "\n",
    "$\\vec{V}_0 =  0.00000 \\hat{x} + 1.40272\\hat{y} + 0.00000 \\hat{z} $\n",
    "\n",
    "$\\vec{V}_1 = -1.21479 \\hat{x} + 0.70136\\hat{y} + 0.00000 \\hat{z} $\n",
    "\n",
    "Subracting $V_1$ from $V_0$, we find:\n",
    "\n",
    "$\\vec{V}_{0,1} = 1.21479 \\hat{x} + 0.70136\\hat{y} + 0.00000 \\hat{z}$\n",
    "\n",
    "The vector $\\vec{V}_{0,1}$ is that which connects the two points.  This would correspond to the bond vector between the two atoms if they were bonded!  Can we determine if the two vectors are bonded?  Not really because we no longer have any atomic information.  However, we do know this corresponds to benzene so we can hypothesize what atoms these correspond to! In Benzene, carbons are around 1.4 angstroms apart, due to conjugation.  Single bonded carbons around around 1.5 angstroms apart.  A carbon-hydrogen bond is closer to 1 angstrom.  So the question becomes, how to determine the magnitude of $\\vec{V}_{0,1}$? The magnitude will give us the distance between the points.  The magnitude of a vector can be calculated from the square root of the dot product (also called scalar product) of the vector with itself:\n",
    "\n",
    "$\\vec{V}_{0,1}\\cdot \\vec{V}_{0,1} =  1.21479^2 + 0.70136^2 + 0^2$\n",
    "\n",
    "Verify that this is correct by expanding out the multiplication and using the fact that the basis vectors are othonormal:\n",
    "\n",
    "$\\hat{x}\\cdot \\hat{x} = 1 = \\hat{y}\\cdot \\hat{y} = \\hat{z}\\cdot \\hat{z}$\n",
    "\n",
    "$\\hat{x}\\cdot \\hat{y} = 0 = \\hat{x}\\cdot \\hat{z} = \\hat{y}\\cdot \\hat{z}$\n",
    "\n",
    "$\\sqrt{\\vec{V}_{0,1}\\cdot \\vec{V}_{0,1}} = 1.402$ angstroms.\n",
    "\n",
    "I think now you have all you need to determine all your H atoms and C atom vectors.  Let's do it with Perl using the [Math::Vector::Real] (https://metacpan.org/pod/Math::Vector::Real) library that is loaded above.  You can load the documentation by opening the Math::Vector::Real clicking the link!"
   ]
  },
  {
   "cell_type": "markdown",
   "metadata": {},
   "source": [
    "### Some example code corresponding to the example above, which you can copy and paste into new cells."
   ]
  },
  {
   "cell_type": "code",
   "execution_count": 2,
   "metadata": {
    "collapsed": false
   },
   "outputs": [
    {
     "data": {
      "text/plain": [
       "displacement vector: {1.21479, 0.70136, 0}\n",
       "dot product: 1.9676205937\n",
       "distance: 1.40271900026342\n",
       "distance:1.40271900026342\n"
      ]
     },
     "execution_count": 2,
     "metadata": {},
     "output_type": "execute_result"
    },
    {
     "name": "stderr",
     "output_type": "stream",
     "text": [
      "1\n"
     ]
    }
   ],
   "source": [
    "# copy and paste two vectors V_0 and V_1 from above\n",
    "my $v0 = V( 0.00000, 1.40272, 0.00000);\n",
    "my $v1 = V(-1.21479, 0.70136, 0.00000);\n",
    "\n",
    "#find $v01 as above\n",
    "my $v01 = $v0 - $v1;\n",
    "say 'displacement vector: ', $v01;\n",
    "\n",
    "#find the dot product of $v01 with itself\n",
    "say 'dot product: ', $v01*$v01;\n",
    "\n",
    "#take the square root of the dot product to find the magnitude\n",
    "\n",
    "say 'distance: ', sqrt($v01*$v01);\n",
    "\n",
    "# or we can do it all in one move! \n",
    "say 'distance:', abs($v0-$v1);\n"
   ]
  },
  {
   "cell_type": "markdown",
   "metadata": {},
   "source": [
    "#### Exercise. attempt calculate the distance of displacement vectors to determine which atom is which.\n",
    "The first step is to collect all the information into a set of variables that we can use over and over:"
   ]
  },
  {
   "cell_type": "code",
   "execution_count": 3,
   "metadata": {
    "collapsed": false
   },
   "outputs": [
    {
     "name": "stderr",
     "output_type": "stream",
     "text": [
      "{2.15666, 1.24515, 0}\n"
     ]
    }
   ],
   "source": [
    "my $v0  = V( 0.00000,  1.40272, 0.00000);\n",
    "my $v1  = V(-1.21479,  0.70136, 0.00000);\n",
    "my $v2  = V(-1.21479, -0.70136, 0.00000);\n",
    "my $v3  = V( 0.00000, -1.40272, 0.00000);\n",
    "my $v4  = V( 1.21479, -0.70136, 0.00000);\n",
    "my $v5  = V( 1.21479,  0.70136, 0.00000);\n",
    "my $v6  = V( 0.00000,  2.49029, 0.00000);\n",
    "my $v7  = V(-2.15666,  1.24515, 0.00000);\n",
    "my $v8  = V(-2.15666, -1.24515, 0.00000);\n",
    "my $v9  = V( 0.00000, -2.49029, 0.00000);\n",
    "my $v10 = V( 2.15666, -1.24515, 0.00000);\n",
    "my $v11 = V( 2.15666,  1.24515, 0.00000);"
   ]
  },
  {
   "cell_type": "markdown",
   "metadata": {},
   "source": [
    "Next, since we are going to want to loop over all the vectors in our distance measurement, we assign them all to an array @vecs :"
   ]
  },
  {
   "cell_type": "code",
   "execution_count": 4,
   "metadata": {
    "collapsed": false
   },
   "outputs": [
    {
     "name": "stderr",
     "output_type": "stream",
     "text": [
      "{0, 1.40272, 0}{-1.21479, 0.70136, 0}{-1.21479, -0.70136, 0}{0, -1.40272, 0}{1.21479, -0.70136, 0}{1.21479, 0.70136, 0}{0, 2.49029, 0}{-2.15666, 1.24515, 0}{-2.15666, -1.24515, 0}{0, -2.49029, 0}{2.15666, -1.24515, 0}{2.15666, 1.24515, 0}\n"
     ]
    }
   ],
   "source": [
    "my @vecs = ($v0, $v1, $v2, $v3, $v4, $v5, $v6, $v7, $v8, $v9, $v10, $v11);"
   ]
  },
  {
   "cell_type": "markdown",
   "metadata": {},
   "source": [
    "We are now ready to go.  Let's measure the distance of all atoms from the origin:"
   ]
  },
  {
   "cell_type": "code",
   "execution_count": 5,
   "metadata": {
    "collapsed": false
   },
   "outputs": [
    {
     "data": {
      "text/plain": [
       "1.40272\n",
       "1.40271900026342\n",
       "1.40271900026342\n",
       "1.40272\n",
       "1.40271900026342\n",
       "1.40271900026342\n",
       "2.49029\n",
       "2.49029734732622\n",
       "2.49029734732622\n",
       "2.49029\n",
       "2.49029734732622\n",
       "2.49029734732622\n"
      ]
     },
     "execution_count": 5,
     "metadata": {},
     "output_type": "execute_result"
    }
   ],
   "source": [
    "say abs($_) foreach @vecs;"
   ]
  },
  {
   "cell_type": "markdown",
   "metadata": {},
   "source": [
    "At this point we have a pretty good idea that the origin is near the middle of the molecule, the carbons are the first 6 atoms and the hydrogens are the next 6.  Let's not stop here.  Let's rewrite that loop above in two different ways, which will be useful for different situations:\n",
    "    1."
   ]
  },
  {
   "cell_type": "code",
   "execution_count": 11,
   "metadata": {
    "collapsed": false
   },
   "outputs": [
    {
     "data": {
      "text/plain": [
       "first one, again:\n",
       "1.40272\n",
       "1.40271900026342\n",
       "1.40271900026342\n",
       "1.40272\n",
       "1.40271900026342\n",
       "1.40271900026342\n",
       "2.49029\n",
       "2.49029734732622\n",
       "2.49029734732622\n",
       "2.49029\n",
       "2.49029734732622\n",
       "2.49029734732622\n",
       "\n",
       " more explicit loop over elements of the array\n",
       "1.40272\n",
       "1.40271900026342\n",
       "1.40271900026342\n",
       "1.40272\n",
       "1.40271900026342\n",
       "1.40271900026342\n",
       "2.49029\n",
       "2.49029734732622\n",
       "2.49029734732622\n",
       "2.49029\n",
       "2.49029734732622\n",
       "2.49029734732622\n",
       "\n",
       " loop over the indices 0 .. 11 of the array, access the elements of the array by index\n",
       "1.40272\n",
       "1.40271900026342\n",
       "1.40271900026342\n",
       "1.40272\n",
       "1.40271900026342\n",
       "1.40271900026342\n",
       "2.49029\n",
       "2.49029734732622\n",
       "2.49029734732622\n",
       "2.49029\n",
       "2.49029734732622\n",
       "2.49029734732622\n"
      ]
     },
     "execution_count": 11,
     "metadata": {},
     "output_type": "execute_result"
    }
   ],
   "source": [
    "say \"first one, again:\";\n",
    "say abs($_) foreach @vecs;\n",
    "\n",
    "say \"\\n more explicit loop over elements of the array\";\n",
    "foreach my $v (@vecs){\n",
    "    say abs($v);\n",
    "}\n",
    "\n",
    "say \"\\n loop over the indices 0 .. 11 of the array, access the elements of the array by index\";\n",
    "\n",
    "foreach my $iv (0 .. $#vecs){\n",
    "    say abs($vecs[$iv]);\n",
    "}"
   ]
  },
  {
   "cell_type": "markdown",
   "metadata": {},
   "source": [
    "From the above you can see \"that there is more than one way to do it\" (TIMTOWDI).  The first is nice and compact but difficult to do more complex work.  The second one is nice unless you need the indices, which we will down below.  For each loop you can see that the foreach function takes a list of values, which can be passed as an array, and sends them into the loop with a defined variable \\$v, \\$iv, or an implicit variable $_. Implicit variables take some getting used to, but they are useful when learned.   "
   ]
  },
  {
   "cell_type": "markdown",
   "metadata": {},
   "source": [
    "Next, let's use a loop to calculate the distance between \\$v0 and all those in @vecs:"
   ]
  },
  {
   "cell_type": "code",
   "execution_count": 12,
   "metadata": {
    "collapsed": false
   },
   "outputs": [
    {
     "data": {
      "text/plain": [
       "0\n",
       "1.40271900026342\n",
       "2.42958173159497\n",
       "2.80544\n",
       "2.42958173159497\n",
       "1.40271900026342\n",
       "1.08757\n",
       "2.16240853228524\n",
       "3.41502531359579\n",
       "3.89301\n",
       "3.41502531359579\n",
       "2.16240853228524\n"
      ]
     },
     "execution_count": 12,
     "metadata": {},
     "output_type": "execute_result"
    }
   ],
   "source": [
    "say abs($_-$v0) foreach @vecs;"
   ]
  },
  {
   "cell_type": "markdown",
   "metadata": {},
   "source": [
    "\\$v0 is carbon that is bound to carbons at \\$v1 and \\$v5 and a hydrogen at \\$v6."
   ]
  },
  {
   "cell_type": "markdown",
   "metadata": {},
   "source": [
    "####  Exercise.  Use scripting to calculate the distance between each pair of vectors! \n",
    "How many are there? Count them up!  You can make an array of all the vectors, as I did below with repeats of the first two defined above.  You will need to use two loops (one nested within the other) to do this. I started this for you below with one loop)."
   ]
  },
  {
   "cell_type": "code",
   "execution_count": 14,
   "metadata": {
    "collapsed": false
   },
   "outputs": [
    {
     "data": {
      "text/plain": [
       "    0    1     1.403\n",
       "    0    2     2.430\n",
       "    0    3     2.805\n",
       "    0    4     2.430\n",
       "    0    5     1.403\n",
       "    0    6     1.088\n",
       "    0    7     2.162\n",
       "    0    8     3.415\n",
       "    0    9     3.893\n",
       "    0   10     3.415\n",
       "    0   11     2.162\n",
       "    1    2     1.403\n",
       "    1    3     2.430\n",
       "    1    4     2.805\n",
       "    1    5     2.430\n",
       "    1    6     2.162\n",
       "    1    7     1.088\n",
       "    1    8     2.162\n",
       "    1    9     3.415\n",
       "    1   10     3.893\n",
       "    1   11     3.415\n",
       "    2    3     1.403\n",
       "    2    4     2.430\n",
       "    2    5     2.805\n",
       "    2    6     3.415\n",
       "    2    7     2.162\n",
       "    2    8     1.088\n",
       "    2    9     2.162\n",
       "    2   10     3.415\n",
       "    2   11     3.893\n",
       "    3    4     1.403\n",
       "    3    5     2.430\n",
       "    3    6     3.893\n",
       "    3    7     3.415\n",
       "    3    8     2.162\n",
       "    3    9     1.088\n",
       "    3   10     2.162\n",
       "    3   11     3.415\n",
       "    4    5     1.403\n",
       "    4    6     3.415\n",
       "    4    7     3.893\n",
       "    4    8     3.415\n",
       "    4    9     2.162\n",
       "    4   10     1.088\n",
       "    4   11     2.162\n",
       "    5    6     2.162\n",
       "    5    7     3.415\n",
       "    5    8     3.893\n",
       "    5    9     3.415\n",
       "    5   10     2.162\n",
       "    5   11     1.088\n",
       "    6    7     2.490\n",
       "    6    8     4.313\n",
       "    6    9     4.981\n",
       "    6   10     4.313\n",
       "    6   11     2.490\n",
       "    7    8     2.490\n",
       "    7    9     4.313\n",
       "    7   10     4.981\n",
       "    7   11     4.313\n",
       "    8    9     2.490\n",
       "    8   10     4.313\n",
       "    8   11     4.981\n",
       "    9   10     2.490\n",
       "    9   11     4.313\n",
       "   10   11     2.490\n",
       "66\n"
      ]
     },
     "execution_count": 14,
     "metadata": {},
     "output_type": "execute_result"
    },
    {
     "name": "stderr",
     "output_type": "stream",
     "text": [
      "1\n"
     ]
    }
   ],
   "source": [
    "my $count = 0;\n",
    "foreach my $iv (0 .. $#vecs){\n",
    "    foreach my $jv ($iv+1 .. $#vecs){\n",
    "        $count++;\n",
    "        printf(\"%5i%5i%10.3f\\n\",$iv, $jv, abs($vecs[$iv]-$vecs[$jv]));\n",
    "    }\n",
    "}\n",
    "say $count;"
   ]
  },
  {
   "cell_type": "markdown",
   "metadata": {},
   "source": [
    "#### Exercise. Adjust your loops above to create a new array of distances.  Then use a grep to select for the distances that are less than 1.6 angstroms!  "
   ]
  },
  {
   "cell_type": "code",
   "execution_count": 15,
   "metadata": {
    "collapsed": false
   },
   "outputs": [
    {
     "data": {
      "text/plain": [
       "1.40271900026342\n",
       "1.40271900026342\n",
       "1.08757\n",
       "1.40272\n",
       "1.08757834706287\n",
       "1.40271900026342\n",
       "1.08757834706287\n",
       "1.40271900026342\n",
       "1.08757\n",
       "1.40272\n",
       "1.08757834706287\n",
       "1.08757834706287\n"
      ]
     },
     "execution_count": 15,
     "metadata": {},
     "output_type": "execute_result"
    }
   ],
   "source": [
    "my @dists;\n",
    "foreach my $iv (0 .. $#vecs){\n",
    "    foreach my $jv ($iv+1 .. $#vecs){\n",
    "        push @dists, abs($vecs[$iv]-$vecs[$jv]);\n",
    "    }\n",
    "}\n",
    "\n",
    "say foreach grep {$_ < 1.6} @dists;"
   ]
  },
  {
   "cell_type": "markdown",
   "metadata": {},
   "source": [
    "#### Exercise. define a displacement vector that moves the molecule 10 angstroms in the Z direction.  Carry out this translation for each atom and then verify that it did nothing to the distances between the \"atoms\"."
   ]
  },
  {
   "cell_type": "code",
   "execution_count": 18,
   "metadata": {
    "collapsed": false
   },
   "outputs": [
    {
     "data": {
      "text/plain": [
       "30.0327758190681\n",
       "30.0327757723741\n",
       "30.0327757723741\n",
       "30.0327758190681\n",
       "30.0327757723741\n",
       "30.0327757723741\n",
       "30.1031816305868\n",
       "30.1031822383963\n",
       "30.1031822383963\n",
       "30.1031816305868\n",
       "30.1031822383963\n",
       "30.1031822383963\n",
       "0\n",
       "1.40271900026342\n",
       "2.42958173159497\n",
       "2.80544\n",
       "2.42958173159497\n",
       "1.40271900026342\n",
       "1.08757\n",
       "2.16240853228524\n",
       "3.41502531359579\n",
       "3.89301\n",
       "3.41502531359579\n",
       "2.16240853228524\n"
      ]
     },
     "execution_count": 18,
     "metadata": {},
     "output_type": "execute_result"
    }
   ],
   "source": [
    "my $zdisp = V(0,0,10);\n",
    "$vecs[$_] += $zdisp foreach 0 .. $#vecs;\n",
    "\n",
    "say abs($_) foreach @vecs;\n",
    "\n",
    "say abs($vecs[$_]-$vecs[0]) foreach 0 .. $#vecs;"
   ]
  },
  {
   "cell_type": "markdown",
   "metadata": {},
   "source": [
    "Congratulations!  In that last loop, we had to use the zeroth element of the @vecs array rather than $v0 as earlier, because $v0 did not change when we displaced all the vectors in @vecs!  "
   ]
  }
 ],
 "metadata": {
  "kernelspec": {
   "display_name": "IPerl 0.006",
   "language": "perl",
   "name": "iperl"
  },
  "language_info": {
   "file_extension": ".pl",
   "mimetype": "text/x-perl",
   "name": "perl",
   "version": "5.20.2"
  }
 },
 "nbformat": 4,
 "nbformat_minor": 0
}
