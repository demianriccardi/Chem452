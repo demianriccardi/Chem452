{
 "cells": [
  {
   "cell_type": "code",
   "execution_count": 1,
   "metadata": {
    "collapsed": false
   },
   "outputs": [
    {
     "name": "stderr",
     "output_type": "stream",
     "text": [
      "0.529\n"
     ]
    }
   ],
   "source": [
    "use Modern::Perl;\n",
    "use Math::Trig;\n",
    "\n",
    "my $a0 = 0.529;\n",
    "\n",
    "\n",
    "sub xyz_rThetaPhi {\n",
    "    my ($x,$y,$z) = @_; \n",
    "    my $r = sqrt($x*$x+$y*$y+$z*$z);\n",
    "    return (0,0,0) if $r == 0;\n",
    "    my $theta = acos($z/$r);\n",
    "    #return ($r,$theta,0) if $x == 0;\n",
    "    my $phi   = atan($y/($x+0.00000000000000001));\n",
    "    return($r,$theta,$phi);\n",
    "}\n",
    "\n",
    "sub rThetaPhi_xyz {\n",
    "    my ($r,$theta,$phi) = @_; \n",
    "    my $x = $r*sin($theta)*cos($phi);\n",
    "    my $y = $r*sin($theta)*sin($phi);\n",
    "    my $z = $r*cos($theta);\n",
    "    return ($x,$y,$z);\n",
    "}\n",
    "\n",
    "sub cube_it{\n",
    "    my $psipsi = shift ;\n",
    "    my $file   = shift ; \n",
    "    my $dr     = shift || 0.5;\n",
    "\n",
    "    open (my $fhb, \">\", $file);\n",
    "    print $fhb 'CPMD CUBE FILE.\n",
    "OUTER LOOP: X, MIDDLE LOOP: Y, INNER LOOP: Z\n",
    "   -1    0.000000    0.000000    0.000000\n",
    "   41    0.500000    0.000000    0.000000\n",
    "   41    0.000000    0.500000    0.000000\n",
    "   41    0.000000    0.000000    0.500000\n",
    "    6    6.000000   10.000000   10.000000   10.000000\n",
    "';\n",
    "    print $fhb \"1 1\\n\";\n",
    "\n",
    "    foreach my $ix (-20 .. 20){\n",
    "        my $x = $ix*$dr ;\n",
    "        foreach my $iy (-20 .. 20){\n",
    "            my $y = $iy*$dr;\n",
    "            foreach my $iz (-20 .. 20) {\n",
    "                my $z = $iz*$dr;\n",
    "                my ($r,$theta, $phi) = xyz_rThetaPhi($x,$y,$z);  \n",
    "                printf $fhb (\"%13.5E\", &{$psipsi}($r,$theta,$phi) );\n",
    "                printf $fhb (\"\\n\") if ($iz % 6 == 5)\n",
    "             }\n",
    "             printf $fhb (\"\\n\");\n",
    "        }\n",
    "    }\n",
    "   \n",
    "    close($fhb);\n",
    "}"
   ]
  },
  {
   "cell_type": "markdown",
   "metadata": {},
   "source": [
    "## $\\psi_{21}$"
   ]
  },
  {
   "cell_type": "code",
   "execution_count": 2,
   "metadata": {
    "collapsed": false
   },
   "outputs": [
    {
     "name": "stderr",
     "output_type": "stream",
     "text": [
      "1\n"
     ]
    }
   ],
   "source": [
    "\n",
    "#my $px =  sqrt(3/(4*pi))sin($theta)*cos($theta);\n",
    "#my $r21 = -sqrt(1/(2*2*(3*2*1)**3)*((2/(2*$a0))**2)*$r*exp(-$r/(2*$a0))*(-3*2*1);\n",
    "\n",
    "my $psipsi = sub{ \n",
    "                  my $r     = shift;\n",
    "                  my $theta = shift;\n",
    "                  my $phi   = shift;\n",
    "                  #my $psi     = ($r/sqrt(32*pi*$a0**5))*exp(-$r/(2*$a0))*cos($theta);\n",
    "                  my $r21 = -sqrt(1/(2*2*(3*2*1)**3))*((2/(2*$a0))**2)*$r*exp(-$r/(2*$a0))*(-3*2*1);\n",
    "                  #my $psi = sqrt(3/(4*pi))*sin($theta)*cos($phi); # px\n",
    "                  #my $psi = sqrt(3/(4*pi))*sin($theta)*sin($phi); # py\n",
    "                  my $psi = sqrt(3/(4*pi))*cos($theta); # pz\n",
    "                  #my $psi     = ($r*$r/(81*sqrt(6*pi*$a0**7)))*exp(-$r/(3*$a0))*(3*cos($theta)*cos($theta)-1);\n",
    "                  return ( $r21*$psi*$r21*$psi );\n",
    "};\n",
    "\n",
    "cube_it($psipsi,'pz.cub',0.5);\n"
   ]
  },
  {
   "cell_type": "markdown",
   "metadata": {},
   "source": [
    "## $\\psi_{32\\pm2}$"
   ]
  },
  {
   "cell_type": "code",
   "execution_count": 3,
   "metadata": {
    "collapsed": false
   },
   "outputs": [
    {
     "name": "stderr",
     "output_type": "stream",
     "text": [
      "1\n"
     ]
    }
   ],
   "source": [
    "my $psipsi = sub{ \n",
    "                  my $r     = shift;\n",
    "                  my $theta = shift;\n",
    "                  my $phi   = shift;\n",
    "                  my $psi     = ($r*$r/(81*sqrt(6*pi*$a0**7)))*exp(-$r/(3*$a0))*(3*cos($theta)*cos($theta)-1);\n",
    "                  #my $psi     = ($r*$r/(162*sqrt(6*pi*$a0**7)))*exp(-$r/(3*$a0))*(sin($theta)*cos($theta)*sin($phi));\n",
    "                  return ( $psi*$psi );\n",
    "};\n",
    "\n",
    "cube_it($psipsi,'dz2.cub',0.5);\n"
   ]
  }
 ],
 "metadata": {
  "kernelspec": {
   "display_name": "IPerl 0.006",
   "language": "perl",
   "name": "iperl"
  },
  "language_info": {
   "file_extension": ".pl",
   "mimetype": "text/x-perl",
   "name": "perl",
   "version": "5.20.2"
  }
 },
 "nbformat": 4,
 "nbformat_minor": 0
}
